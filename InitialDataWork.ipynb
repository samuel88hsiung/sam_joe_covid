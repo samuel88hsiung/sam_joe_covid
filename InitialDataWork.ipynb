{
 "cells": [
  {
   "cell_type": "code",
   "execution_count": 1,
   "metadata": {},
   "outputs": [],
   "source": [
    "import pandas as pd\n",
    "import numpy as np\n",
    "import datetime as dt\n",
    "from matplotlib import pyplot as plt\n",
    "\n"
   ]
  },
  {
   "cell_type": "code",
   "execution_count": 3,
   "metadata": {},
   "outputs": [],
   "source": [
    "df = pd.read_csv(\"us-counties.csv\")\n",
    "\n"
   ]
  },
  {
   "cell_type": "code",
   "execution_count": 4,
   "metadata": {},
   "outputs": [],
   "source": [
    "Georgia    = df[df.state == \"Georgia\"]\n",
    "Alabama = df[df.state == \"Alabama\"]\n",
    "\n",
    "\n"
   ]
  },
  {
   "cell_type": "code",
   "execution_count": 5,
   "metadata": {},
   "outputs": [],
   "source": [
    "#np.sort(Alabama.county.unique())\n"
   ]
  },
  {
   "cell_type": "code",
   "execution_count": 89,
   "metadata": {},
   "outputs": [],
   "source": [
    "border_AL = np.array([\n",
    "'Cleburne',\n",
    "'Henry',\n",
    "'Barbour',\n",
    "'Randolph',\n",
    "'Cherokee',\n",
    "'Chambers',\n",
    "])\n",
    "\n",
    "\n"
   ]
  },
  {
   "cell_type": "code",
   "execution_count": 90,
   "metadata": {},
   "outputs": [],
   "source": [
    "agg_AL = Alabama[Alabama.county.isin(border_AL)]"
   ]
  },
  {
   "cell_type": "code",
   "execution_count": 91,
   "metadata": {},
   "outputs": [],
   "source": [
    "agg_AL.index = agg_AL.date.astype(\"datetime64\").values"
   ]
  },
  {
   "cell_type": "code",
   "execution_count": 92,
   "metadata": {},
   "outputs": [
    {
     "data": {
      "text/html": [
       "<div>\n",
       "<style scoped>\n",
       "    .dataframe tbody tr th:only-of-type {\n",
       "        vertical-align: middle;\n",
       "    }\n",
       "\n",
       "    .dataframe tbody tr th {\n",
       "        vertical-align: top;\n",
       "    }\n",
       "\n",
       "    .dataframe thead th {\n",
       "        text-align: right;\n",
       "    }\n",
       "</style>\n",
       "<table border=\"1\" class=\"dataframe\">\n",
       "  <thead>\n",
       "    <tr style=\"text-align: right;\">\n",
       "      <th></th>\n",
       "      <th>date</th>\n",
       "      <th>county</th>\n",
       "      <th>state</th>\n",
       "      <th>fips</th>\n",
       "      <th>cases</th>\n",
       "      <th>deaths</th>\n",
       "    </tr>\n",
       "  </thead>\n",
       "  <tbody>\n",
       "    <tr>\n",
       "      <th>2020-03-19</th>\n",
       "      <td>2020-03-19</td>\n",
       "      <td>Chambers</td>\n",
       "      <td>Alabama</td>\n",
       "      <td>1017.0</td>\n",
       "      <td>1</td>\n",
       "      <td>0</td>\n",
       "    </tr>\n",
       "    <tr>\n",
       "      <th>2020-03-20</th>\n",
       "      <td>2020-03-20</td>\n",
       "      <td>Chambers</td>\n",
       "      <td>Alabama</td>\n",
       "      <td>1017.0</td>\n",
       "      <td>1</td>\n",
       "      <td>0</td>\n",
       "    </tr>\n",
       "    <tr>\n",
       "      <th>2020-03-21</th>\n",
       "      <td>2020-03-21</td>\n",
       "      <td>Chambers</td>\n",
       "      <td>Alabama</td>\n",
       "      <td>1017.0</td>\n",
       "      <td>1</td>\n",
       "      <td>0</td>\n",
       "    </tr>\n",
       "    <tr>\n",
       "      <th>2020-03-22</th>\n",
       "      <td>2020-03-22</td>\n",
       "      <td>Chambers</td>\n",
       "      <td>Alabama</td>\n",
       "      <td>1017.0</td>\n",
       "      <td>2</td>\n",
       "      <td>0</td>\n",
       "    </tr>\n",
       "    <tr>\n",
       "      <th>2020-03-23</th>\n",
       "      <td>2020-03-23</td>\n",
       "      <td>Chambers</td>\n",
       "      <td>Alabama</td>\n",
       "      <td>1017.0</td>\n",
       "      <td>2</td>\n",
       "      <td>0</td>\n",
       "    </tr>\n",
       "    <tr>\n",
       "      <th>...</th>\n",
       "      <td>...</td>\n",
       "      <td>...</td>\n",
       "      <td>...</td>\n",
       "      <td>...</td>\n",
       "      <td>...</td>\n",
       "      <td>...</td>\n",
       "    </tr>\n",
       "    <tr>\n",
       "      <th>2020-11-12</th>\n",
       "      <td>2020-11-12</td>\n",
       "      <td>Chambers</td>\n",
       "      <td>Alabama</td>\n",
       "      <td>1017.0</td>\n",
       "      <td>1514</td>\n",
       "      <td>48</td>\n",
       "    </tr>\n",
       "    <tr>\n",
       "      <th>2020-11-12</th>\n",
       "      <td>2020-11-12</td>\n",
       "      <td>Cherokee</td>\n",
       "      <td>Alabama</td>\n",
       "      <td>1019.0</td>\n",
       "      <td>870</td>\n",
       "      <td>15</td>\n",
       "    </tr>\n",
       "    <tr>\n",
       "      <th>2020-11-12</th>\n",
       "      <td>2020-11-12</td>\n",
       "      <td>Cleburne</td>\n",
       "      <td>Alabama</td>\n",
       "      <td>1029.0</td>\n",
       "      <td>646</td>\n",
       "      <td>11</td>\n",
       "    </tr>\n",
       "    <tr>\n",
       "      <th>2020-11-12</th>\n",
       "      <td>2020-11-12</td>\n",
       "      <td>Henry</td>\n",
       "      <td>Alabama</td>\n",
       "      <td>1067.0</td>\n",
       "      <td>799</td>\n",
       "      <td>6</td>\n",
       "    </tr>\n",
       "    <tr>\n",
       "      <th>2020-11-12</th>\n",
       "      <td>2020-11-12</td>\n",
       "      <td>Randolph</td>\n",
       "      <td>Alabama</td>\n",
       "      <td>1111.0</td>\n",
       "      <td>912</td>\n",
       "      <td>19</td>\n",
       "    </tr>\n",
       "  </tbody>\n",
       "</table>\n",
       "<p>1384 rows × 6 columns</p>\n",
       "</div>"
      ],
      "text/plain": [
       "                  date    county    state    fips  cases  deaths\n",
       "2020-03-19  2020-03-19  Chambers  Alabama  1017.0      1       0\n",
       "2020-03-20  2020-03-20  Chambers  Alabama  1017.0      1       0\n",
       "2020-03-21  2020-03-21  Chambers  Alabama  1017.0      1       0\n",
       "2020-03-22  2020-03-22  Chambers  Alabama  1017.0      2       0\n",
       "2020-03-23  2020-03-23  Chambers  Alabama  1017.0      2       0\n",
       "...                ...       ...      ...     ...    ...     ...\n",
       "2020-11-12  2020-11-12  Chambers  Alabama  1017.0   1514      48\n",
       "2020-11-12  2020-11-12  Cherokee  Alabama  1019.0    870      15\n",
       "2020-11-12  2020-11-12  Cleburne  Alabama  1029.0    646      11\n",
       "2020-11-12  2020-11-12     Henry  Alabama  1067.0    799       6\n",
       "2020-11-12  2020-11-12  Randolph  Alabama  1111.0    912      19\n",
       "\n",
       "[1384 rows x 6 columns]"
      ]
     },
     "execution_count": 92,
     "metadata": {},
     "output_type": "execute_result"
    }
   ],
   "source": [
    "agg_AL"
   ]
  },
  {
   "cell_type": "code",
   "execution_count": 72,
   "metadata": {
    "scrolled": false
   },
   "outputs": [
    {
     "name": "stderr",
     "output_type": "stream",
     "text": [
      "/anaconda3/lib/python3.7/site-packages/ipykernel_launcher.py:6: SettingWithCopyWarning:\n",
      "\n",
      "\n",
      "A value is trying to be set on a copy of a slice from a DataFrame.\n",
      "Try using .loc[row_indexer,col_indexer] = value instead\n",
      "\n",
      "See the caveats in the documentation: http://pandas.pydata.org/pandas-docs/stable/user_guide/indexing.html#returning-a-view-versus-a-copy\n",
      "\n"
     ]
    },
    {
     "data": {
      "image/png": "[encoded data removed]",
      "text/plain": [
       "<Figure size 720x576 with 1 Axes>"
      ]
     },
     "metadata": {
      "needs_background": "light"
     },
     "output_type": "display_data"
    }
   ],
   "source": [
    "start_date = dt.date(2020,6,16)\n",
    "end_date = dt.date(2020,8,16)\n",
    "\n",
    "agg_AL = Alabama[Alabama.county.isin(border_AL)]\n",
    "agg_AL.index = agg_AL.date.astype(\"datetime64\").values\n",
    "agg_AL[\"week\"] = agg_AL.date.astype(\"datetime64\").dt.week\n",
    "plt.figure(figsize = (10,8))\n",
    "agg_AL = agg_AL[(agg_AL.index > \"2020-04-16\") & (agg_AL.index < \"2020-9-16\") ]\n",
    "for county in border_AL:\n",
    "    data = agg_AL[agg_AL.county == county]\n",
    "    plt.plot(data.index,data.cases,label = str(county))\n",
    "plt.legend()\n",
    "plt.show()\n",
    "\n"
   ]
  },
  {
   "cell_type": "code",
   "execution_count": 39,
   "metadata": {},
   "outputs": [
    {
     "data": {
      "image/png": "[encoded data removed]",
      "text/plain": [
       "<Figure size 720x576 with 1 Axes>"
      ]
     },
     "metadata": {
      "needs_background": "light"
     },
     "output_type": "display_data"
    }
   ],
   "source": [
    "agg_AL.groupby(\"date\").sum().plot(y = \"cases\",figsize= (10,8))\n",
    "plt.show()"
   ]
  },
  {
   "cell_type": "code",
   "execution_count": 40,
   "metadata": {},
   "outputs": [
    {
     "data": {
      "text/plain": [
       "datetime.date(2020, 8, 16)"
      ]
     },
     "execution_count": 40,
     "metadata": {},
     "output_type": "execute_result"
    }
   ],
   "source": [
    "end_date"
   ]
  },
  {
   "cell_type": "code",
   "execution_count": 80,
   "metadata": {},
   "outputs": [
    {
     "name": "stderr",
     "output_type": "stream",
     "text": [
      "/anaconda3/lib/python3.7/site-packages/ipykernel_launcher.py:3: SettingWithCopyWarning:\n",
      "\n",
      "\n",
      "A value is trying to be set on a copy of a slice from a DataFrame.\n",
      "Try using .loc[row_indexer,col_indexer] = value instead\n",
      "\n",
      "See the caveats in the documentation: http://pandas.pydata.org/pandas-docs/stable/user_guide/indexing.html#returning-a-view-versus-a-copy\n",
      "\n"
     ]
    },
    {
     "data": {
      "image/png": "[encoded data removed]",
      "text/plain": [
       "<Figure size 720x576 with 1 Axes>"
      ]
     },
     "metadata": {
      "needs_background": "light"
     },
     "output_type": "display_data"
    }
   ],
   "source": [
    "agg_GA = Georgia[Georgia.county.isin(border_GA)]\n",
    "agg_GA.index = agg_GA.date.astype(\"datetime64\").values\n",
    "agg_GA[\"week\"] = agg_GA.date.astype(\"datetime64\").dt.week\n",
    "plt.figure(figsize = (10,8))\n",
    "agg_GA = agg_GA[(agg_GA.index > \"2020-04-16\") & (agg_GA.index < \"2020-9-16\") ]\n",
    "for county in border_GA:\n",
    "    data = agg_GA[agg_GA.county == county]\n",
    "    plt.plot(data.index,data.cases,label = str(county))\n",
    "plt.legend()\n",
    "plt.show()"
   ]
  },
  {
   "cell_type": "code",
   "execution_count": 79,
   "metadata": {},
   "outputs": [],
   "source": [
    "border_GA = np.array([\n",
    "\"Stewart\",\n",
    "\"Clay\",\n",
    "\"Quitman\",\n",
    "\"Early\",\n",
    "\"Seminole\",\n",
    "\"Heard\",\n",
    "\"Chattooga\",\n",
    "\"Dade\"    ,   \n",
    "])"
   ]
  },
  {
   "cell_type": "code",
   "execution_count": 81,
   "metadata": {},
   "outputs": [
    {
     "name": "stderr",
     "output_type": "stream",
     "text": [
      "/anaconda3/lib/python3.7/site-packages/ipykernel_launcher.py:7: UserWarning:\n",
      "\n",
      "'set_params()' not defined for locator of type <class 'matplotlib.category.StrCategoryLocator'>\n",
      "\n"
     ]
    },
    {
     "data": {
      "image/png": "[encoded data removed]",
      "text/plain": [
       "<Figure size 864x576 with 1 Axes>"
      ]
     },
     "metadata": {
      "needs_background": "light"
     },
     "output_type": "display_data"
    }
   ],
   "source": [
    "data_GA = agg_GA.groupby(\"date\").sum().diff().rolling(7).mean()\n",
    "data_AL = agg_AL.groupby(\"date\").sum().diff().rolling(7).mean()\n",
    "plt.figure(figsize = (12,8))\n",
    "plt.plot(data_GA.cases)\n",
    "plt.plot(data_AL.cases)\n",
    "plt.plot([\"2020-07-16\",\"2020-07-16\"],[0,300],\".\",color = \"red\")\n",
    "plt.locator_params(axis='x', nbins=10)\n",
    "plt.show()"
   ]
  },
  {
   "cell_type": "code",
   "execution_count": 23,
   "metadata": {},
   "outputs": [
    {
     "data": {
      "text/plain": [
       "date\n",
       "2020-04-17           NaN\n",
       "2020-04-18           NaN\n",
       "2020-04-19           NaN\n",
       "2020-04-20           NaN\n",
       "2020-04-21           NaN\n",
       "                 ...    \n",
       "2020-09-11    130.285714\n",
       "2020-09-12    120.057143\n",
       "2020-09-13    120.171429\n",
       "2020-09-14    123.514286\n",
       "2020-09-15    128.800000\n",
       "Name: cases, Length: 152, dtype: float64"
      ]
     },
     "execution_count": 23,
     "metadata": {},
     "output_type": "execute_result"
    }
   ],
   "source": [
    "data_AL.cases.rolling(5).mean()"
   ]
  },
  {
   "cell_type": "code",
   "execution_count": 82,
   "metadata": {},
   "outputs": [
    {
     "data": {
      "application/vnd.plotly.v1+json": {
       "config": {
        "plotlyServerURL": "https://plot.ly"
       },
       "data": [
        {
         "mode": "lines",
         "name": "Alabama (Mask Mandate)",
         "type": "scatter",
         "x": [
          "2020-04-17",
          "2020-04-18",
          "2020-04-19",
          "2020-04-20",
          "2020-04-21",
          "2020-04-22",
          "2020-04-23",
          "2020-04-24",
          "2020-04-25",
          "2020-04-26",
          "2020-04-27",
          "2020-04-28",
          "2020-04-29",
          "2020-04-30",
          "2020-05-01",
          "2020-05-02",
          "2020-05-03",
          "2020-05-04",
          "2020-05-05",
          "2020-05-06",
          "2020-05-07",
          "2020-05-08",
          "2020-05-09",
          "2020-05-10",
          "2020-05-11",
          "2020-05-12",
          "2020-05-13",
          "2020-05-14",
          "2020-05-15",
          "2020-05-16",
          "2020-05-17",
          "2020-05-18",
          "2020-05-19",
          "2020-05-20",
          "2020-05-21",
          "2020-05-22",
          "2020-05-23",
          "2020-05-24",
          "2020-05-25",
          "2020-05-26",
          "2020-05-27",
          "2020-05-28",
          "2020-05-29",
          "2020-05-30",
          "2020-05-31",
          "2020-06-01",
          "2020-06-02",
          "2020-06-03",
          "2020-06-04",
          "2020-06-05",
          "2020-06-06",
          "2020-06-07",
          "2020-06-08",
          "2020-06-09",
          "2020-06-10",
          "2020-06-11",
          "2020-06-12",
          "2020-06-13",
          "2020-06-14",
          "2020-06-15",
          "2020-06-16",
          "2020-06-17",
          "2020-06-18",
          "2020-06-19",
          "2020-06-20",
          "2020-06-21",
          "2020-06-22",
          "2020-06-23",
          "2020-06-24",
          "2020-06-25",
          "2020-06-26",
          "2020-06-27",
          "2020-06-28",
          "2020-06-29",
          "2020-06-30",
          "2020-07-01",
          "2020-07-02",
          "2020-07-03",
          "2020-07-04",
          "2020-07-05",
          "2020-07-06",
          "2020-07-07",
          "2020-07-08",
          "2020-07-09",
          "2020-07-10",
          "2020-07-11",
          "2020-07-12",
          "2020-07-13",
          "2020-07-14",
          "2020-07-15",
          "2020-07-16",
          "2020-07-17",
          "2020-07-18",
          "2020-07-19",
          "2020-07-20",
          "2020-07-21",
          "2020-07-22",
          "2020-07-23",
          "2020-07-24",
          "2020-07-25",
          "2020-07-26",
          "2020-07-27",
          "2020-07-28",
          "2020-07-29",
          "2020-07-30",
          "2020-07-31",
          "2020-08-01",
          "2020-08-02",
          "2020-08-03",
          "2020-08-04",
          "2020-08-05",
          "2020-08-06",
          "2020-08-07",
          "2020-08-08",
          "2020-08-09",
          "2020-08-10",
          "2020-08-11",
          "2020-08-12",
          "2020-08-13",
          "2020-08-14",
          "2020-08-15",
          "2020-08-16",
          "2020-08-17",
          "2020-08-18",
          "2020-08-19",
          "2020-08-20",
          "2020-08-21",
          "2020-08-22",
          "2020-08-23",
          "2020-08-24",
          "2020-08-25",
          "2020-08-26",
          "2020-08-27",
          "2020-08-28",
          "2020-08-29",
          "2020-08-30",
          "2020-08-31",
          "2020-09-01",
          "2020-09-02",
          "2020-09-03",
          "2020-09-04",
          "2020-09-05",
          "2020-09-06",
          "2020-09-07",
          "2020-09-08",
          "2020-09-09",
          "2020-09-10",
          "2020-09-11",
          "2020-09-12",
          "2020-09-13",
          "2020-09-14",
          "2020-09-15"
         ],
         "y": [
          null,
          8,
          10,
          17,
          14,
          13,
          5,
          11,
          3,
          3,
          7,
          6,
          3,
          1,
          2,
          19,
          13,
          4,
          9,
          12,
          11,
          12,
          12,
          5,
          16,
          19,
          3,
          11,
          9,
          5,
          3,
          7,
          10,
          13,
          6,
          9,
          4,
          16,
          11,
          15,
          11,
          14,
          23,
          6,
          28,
          26,
          5,
          3,
          2,
          11,
          21,
          19,
          11,
          11,
          28,
          25,
          25,
          19,
          38,
          14,
          18,
          7,
          31,
          13,
          19,
          5,
          16,
          14,
          22,
          37,
          24,
          15,
          1,
          43,
          15,
          11,
          49,
          53,
          14,
          27,
          29,
          14,
          34,
          39,
          28,
          55,
          19,
          45,
          44,
          45,
          47,
          37,
          61,
          59,
          34,
          34,
          24,
          47,
          38,
          41,
          33,
          46,
          27,
          37,
          17,
          38,
          20,
          36,
          27,
          19,
          10,
          32,
          25,
          26,
          18,
          10,
          27,
          9,
          22,
          21,
          27,
          17,
          12,
          41,
          33,
          33,
          24,
          44,
          19,
          66,
          21,
          38,
          62,
          23,
          31,
          29,
          29,
          43,
          23,
          39,
          48,
          27,
          10,
          11,
          4,
          18,
          36,
          49,
          47,
          49,
          27,
          28
         ]
        },
        {
         "mode": "lines",
         "name": "Georgia (No Mask Mandate)",
         "type": "scatter",
         "x": [
          "2020-04-17",
          "2020-04-18",
          "2020-04-19",
          "2020-04-20",
          "2020-04-21",
          "2020-04-22",
          "2020-04-23",
          "2020-04-24",
          "2020-04-25",
          "2020-04-26",
          "2020-04-27",
          "2020-04-28",
          "2020-04-29",
          "2020-04-30",
          "2020-05-01",
          "2020-05-02",
          "2020-05-03",
          "2020-05-04",
          "2020-05-05",
          "2020-05-06",
          "2020-05-07",
          "2020-05-08",
          "2020-05-09",
          "2020-05-10",
          "2020-05-11",
          "2020-05-12",
          "2020-05-13",
          "2020-05-14",
          "2020-05-15",
          "2020-05-16",
          "2020-05-17",
          "2020-05-18",
          "2020-05-19",
          "2020-05-20",
          "2020-05-21",
          "2020-05-22",
          "2020-05-23",
          "2020-05-24",
          "2020-05-25",
          "2020-05-26",
          "2020-05-27",
          "2020-05-28",
          "2020-05-29",
          "2020-05-30",
          "2020-05-31",
          "2020-06-01",
          "2020-06-02",
          "2020-06-03",
          "2020-06-04",
          "2020-06-05",
          "2020-06-06",
          "2020-06-07",
          "2020-06-08",
          "2020-06-09",
          "2020-06-10",
          "2020-06-11",
          "2020-06-12",
          "2020-06-13",
          "2020-06-14",
          "2020-06-15",
          "2020-06-16",
          "2020-06-17",
          "2020-06-18",
          "2020-06-19",
          "2020-06-20",
          "2020-06-21",
          "2020-06-22",
          "2020-06-23",
          "2020-06-24",
          "2020-06-25",
          "2020-06-26",
          "2020-06-27",
          "2020-06-28",
          "2020-06-29",
          "2020-06-30",
          "2020-07-01",
          "2020-07-02",
          "2020-07-03",
          "2020-07-04",
          "2020-07-05",
          "2020-07-06",
          "2020-07-07",
          "2020-07-08",
          "2020-07-09",
          "2020-07-10",
          "2020-07-11",
          "2020-07-12",
          "2020-07-13",
          "2020-07-14",
          "2020-07-15",
          "2020-07-16",
          "2020-07-17",
          "2020-07-18",
          "2020-07-19",
          "2020-07-20",
          "2020-07-21",
          "2020-07-22",
          "2020-07-23",
          "2020-07-24",
          "2020-07-25",
          "2020-07-26",
          "2020-07-27",
          "2020-07-28",
          "2020-07-29",
          "2020-07-30",
          "2020-07-31",
          "2020-08-01",
          "2020-08-02",
          "2020-08-03",
          "2020-08-04",
          "2020-08-05",
          "2020-08-06",
          "2020-08-07",
          "2020-08-08",
          "2020-08-09",
          "2020-08-10",
          "2020-08-11",
          "2020-08-12",
          "2020-08-13",
          "2020-08-14",
          "2020-08-15",
          "2020-08-16",
          "2020-08-17",
          "2020-08-18",
          "2020-08-19",
          "2020-08-20",
          "2020-08-21",
          "2020-08-22",
          "2020-08-23",
          "2020-08-24",
          "2020-08-25",
          "2020-08-26",
          "2020-08-27",
          "2020-08-28",
          "2020-08-29",
          "2020-08-30",
          "2020-08-31",
          "2020-09-01",
          "2020-09-02",
          "2020-09-03",
          "2020-09-04",
          "2020-09-05",
          "2020-09-06",
          "2020-09-07",
          "2020-09-08",
          "2020-09-09",
          "2020-09-10",
          "2020-09-11",
          "2020-09-12",
          "2020-09-13",
          "2020-09-14",
          "2020-09-15"
         ],
         "y": [
          null,
          5,
          7,
          10,
          7,
          15,
          1,
          6,
          6,
          4,
          8,
          14,
          6,
          1,
          8,
          2,
          10,
          0,
          2,
          4,
          5,
          4,
          3,
          1,
          4,
          7,
          4,
          12,
          0,
          1,
          1,
          0,
          10,
          7,
          5,
          14,
          7,
          -2,
          6,
          4,
          8,
          7,
          3,
          1,
          1,
          12,
          6,
          10,
          5,
          4,
          2,
          6,
          1,
          8,
          8,
          10,
          5,
          7,
          1,
          3,
          16,
          6,
          5,
          22,
          2,
          1,
          2,
          9,
          4,
          20,
          10,
          4,
          2,
          2,
          15,
          18,
          13,
          62,
          15,
          2,
          12,
          40,
          12,
          7,
          17,
          18,
          6,
          9,
          15,
          34,
          8,
          9,
          14,
          11,
          0,
          30,
          5,
          8,
          28,
          25,
          9,
          7,
          38,
          24,
          35,
          23,
          34,
          19,
          4,
          33,
          33,
          38,
          19,
          34,
          14,
          3,
          50,
          44,
          39,
          47,
          31,
          26,
          9,
          36,
          14,
          46,
          32,
          28,
          10,
          9,
          52,
          45,
          41,
          42,
          34,
          4,
          18,
          48,
          27,
          31,
          22,
          34,
          14,
          6,
          10,
          23,
          32,
          21,
          27,
          12,
          6,
          26
         ]
        },
        {
         "mode": "lines",
         "name": "Alabama (Mask Mandate)",
         "type": "scatter",
         "x": [
          "2020-04-17",
          "2020-04-18",
          "2020-04-19",
          "2020-04-20",
          "2020-04-21",
          "2020-04-22",
          "2020-04-23",
          "2020-04-24",
          "2020-04-25",
          "2020-04-26",
          "2020-04-27",
          "2020-04-28",
          "2020-04-29",
          "2020-04-30",
          "2020-05-01",
          "2020-05-02",
          "2020-05-03",
          "2020-05-04",
          "2020-05-05",
          "2020-05-06",
          "2020-05-07",
          "2020-05-08",
          "2020-05-09",
          "2020-05-10",
          "2020-05-11",
          "2020-05-12",
          "2020-05-13",
          "2020-05-14",
          "2020-05-15",
          "2020-05-16",
          "2020-05-17",
          "2020-05-18",
          "2020-05-19",
          "2020-05-20",
          "2020-05-21",
          "2020-05-22",
          "2020-05-23",
          "2020-05-24",
          "2020-05-25",
          "2020-05-26",
          "2020-05-27",
          "2020-05-28",
          "2020-05-29",
          "2020-05-30",
          "2020-05-31",
          "2020-06-01",
          "2020-06-02",
          "2020-06-03",
          "2020-06-04",
          "2020-06-05",
          "2020-06-06",
          "2020-06-07",
          "2020-06-08",
          "2020-06-09",
          "2020-06-10",
          "2020-06-11",
          "2020-06-12",
          "2020-06-13",
          "2020-06-14",
          "2020-06-15",
          "2020-06-16",
          "2020-06-17",
          "2020-06-18",
          "2020-06-19",
          "2020-06-20",
          "2020-06-21",
          "2020-06-22",
          "2020-06-23",
          "2020-06-24",
          "2020-06-25",
          "2020-06-26",
          "2020-06-27",
          "2020-06-28",
          "2020-06-29",
          "2020-06-30",
          "2020-07-01",
          "2020-07-02",
          "2020-07-03",
          "2020-07-04",
          "2020-07-05",
          "2020-07-06",
          "2020-07-07",
          "2020-07-08",
          "2020-07-09",
          "2020-07-10",
          "2020-07-11",
          "2020-07-12",
          "2020-07-13",
          "2020-07-14",
          "2020-07-15",
          "2020-07-16",
          "2020-07-17",
          "2020-07-18",
          "2020-07-19",
          "2020-07-20",
          "2020-07-21",
          "2020-07-22",
          "2020-07-23",
          "2020-07-24",
          "2020-07-25",
          "2020-07-26",
          "2020-07-27",
          "2020-07-28",
          "2020-07-29",
          "2020-07-30",
          "2020-07-31",
          "2020-08-01",
          "2020-08-02",
          "2020-08-03",
          "2020-08-04",
          "2020-08-05",
          "2020-08-06",
          "2020-08-07",
          "2020-08-08",
          "2020-08-09",
          "2020-08-10",
          "2020-08-11",
          "2020-08-12",
          "2020-08-13",
          "2020-08-14",
          "2020-08-15",
          "2020-08-16",
          "2020-08-17",
          "2020-08-18",
          "2020-08-19",
          "2020-08-20",
          "2020-08-21",
          "2020-08-22",
          "2020-08-23",
          "2020-08-24",
          "2020-08-25",
          "2020-08-26",
          "2020-08-27",
          "2020-08-28",
          "2020-08-29",
          "2020-08-30",
          "2020-08-31",
          "2020-09-01",
          "2020-09-02",
          "2020-09-03",
          "2020-09-04",
          "2020-09-05",
          "2020-09-06",
          "2020-09-07",
          "2020-09-08",
          "2020-09-09",
          "2020-09-10",
          "2020-09-11",
          "2020-09-12",
          "2020-09-13",
          "2020-09-14",
          "2020-09-15"
         ],
         "y": [
          null,
          null,
          null,
          null,
          null,
          null,
          null,
          11.142857142857142,
          10.428571428571429,
          9.428571428571429,
          8,
          6.857142857142857,
          5.428571428571429,
          4.857142857142857,
          3.5714285714285716,
          5.857142857142857,
          7.285714285714286,
          6.857142857142857,
          7.285714285714286,
          8.571428571428571,
          10,
          11.428571428571429,
          10.428571428571429,
          9.285714285714286,
          11,
          12.428571428571429,
          11.142857142857142,
          11.142857142857142,
          10.714285714285714,
          9.714285714285714,
          9.428571428571429,
          8.142857142857142,
          6.857142857142857,
          8.285714285714286,
          7.571428571428571,
          7.571428571428571,
          7.428571428571429,
          9.285714285714286,
          9.857142857142858,
          10.571428571428571,
          10.285714285714286,
          11.428571428571429,
          13.428571428571429,
          13.714285714285714,
          15.428571428571429,
          17.571428571428573,
          16.142857142857142,
          15,
          13.285714285714286,
          11.571428571428571,
          13.714285714285714,
          12.428571428571429,
          10.285714285714286,
          11.142857142857142,
          14.714285714285714,
          18,
          20,
          19.714285714285715,
          22.428571428571427,
          22.857142857142858,
          23.857142857142858,
          20.857142857142858,
          21.714285714285715,
          20,
          20,
          15.285714285714286,
          15.571428571428571,
          15,
          17.142857142857142,
          18,
          19.571428571428573,
          19,
          18.428571428571427,
          22.285714285714285,
          22.428571428571427,
          20.857142857142858,
          22.571428571428573,
          26.714285714285715,
          26.571428571428573,
          30.285714285714285,
          28.285714285714285,
          28.142857142857142,
          31.428571428571427,
          30,
          26.428571428571427,
          32.285714285714285,
          31.142857142857142,
          33.42857142857143,
          37.714285714285715,
          39.285714285714285,
          40.42857142857143,
          41.714285714285715,
          42.57142857142857,
          48.285714285714285,
          46.714285714285715,
          45.285714285714285,
          42.285714285714285,
          42.285714285714285,
          42.42857142857143,
          39.57142857142857,
          35.857142857142854,
          37.57142857142857,
          36.57142857142857,
          38.42857142857143,
          34.142857142857146,
          34.142857142857146,
          31.142857142857142,
          31.571428571428573,
          28.857142857142858,
          27.714285714285715,
          23.857142857142858,
          26,
          24.142857142857142,
          25,
          22.428571428571427,
          20,
          21.142857142857142,
          21,
          19.571428571428573,
          19,
          19.142857142857142,
          19,
          19.285714285714285,
          21.285714285714285,
          24.714285714285715,
          26.285714285714285,
          26.714285714285715,
          29.142857142857142,
          29.428571428571427,
          37.142857142857146,
          34.285714285714285,
          35,
          39.142857142857146,
          39,
          37.142857142857146,
          38.57142857142857,
          33.285714285714285,
          36.42857142857143,
          34.285714285714285,
          31,
          34.57142857142857,
          34,
          31.285714285714285,
          28.714285714285715,
          23.142857142857142,
          22.428571428571427,
          22,
          22.142857142857142,
          25,
          30.571428571428573,
          32.857142857142854,
          36.285714285714285
         ]
        },
        {
         "mode": "lines",
         "name": "Georgia (No Mask Mandate)",
         "type": "scatter",
         "x": [
          "2020-04-17",
          "2020-04-18",
          "2020-04-19",
          "2020-04-20",
          "2020-04-21",
          "2020-04-22",
          "2020-04-23",
          "2020-04-24",
          "2020-04-25",
          "2020-04-26",
          "2020-04-27",
          "2020-04-28",
          "2020-04-29",
          "2020-04-30",
          "2020-05-01",
          "2020-05-02",
          "2020-05-03",
          "2020-05-04",
          "2020-05-05",
          "2020-05-06",
          "2020-05-07",
          "2020-05-08",
          "2020-05-09",
          "2020-05-10",
          "2020-05-11",
          "2020-05-12",
          "2020-05-13",
          "2020-05-14",
          "2020-05-15",
          "2020-05-16",
          "2020-05-17",
          "2020-05-18",
          "2020-05-19",
          "2020-05-20",
          "2020-05-21",
          "2020-05-22",
          "2020-05-23",
          "2020-05-24",
          "2020-05-25",
          "2020-05-26",
          "2020-05-27",
          "2020-05-28",
          "2020-05-29",
          "2020-05-30",
          "2020-05-31",
          "2020-06-01",
          "2020-06-02",
          "2020-06-03",
          "2020-06-04",
          "2020-06-05",
          "2020-06-06",
          "2020-06-07",
          "2020-06-08",
          "2020-06-09",
          "2020-06-10",
          "2020-06-11",
          "2020-06-12",
          "2020-06-13",
          "2020-06-14",
          "2020-06-15",
          "2020-06-16",
          "2020-06-17",
          "2020-06-18",
          "2020-06-19",
          "2020-06-20",
          "2020-06-21",
          "2020-06-22",
          "2020-06-23",
          "2020-06-24",
          "2020-06-25",
          "2020-06-26",
          "2020-06-27",
          "2020-06-28",
          "2020-06-29",
          "2020-06-30",
          "2020-07-01",
          "2020-07-02",
          "2020-07-03",
          "2020-07-04",
          "2020-07-05",
          "2020-07-06",
          "2020-07-07",
          "2020-07-08",
          "2020-07-09",
          "2020-07-10",
          "2020-07-11",
          "2020-07-12",
          "2020-07-13",
          "2020-07-14",
          "2020-07-15",
          "2020-07-16",
          "2020-07-17",
          "2020-07-18",
          "2020-07-19",
          "2020-07-20",
          "2020-07-21",
          "2020-07-22",
          "2020-07-23",
          "2020-07-24",
          "2020-07-25",
          "2020-07-26",
          "2020-07-27",
          "2020-07-28",
          "2020-07-29",
          "2020-07-30",
          "2020-07-31",
          "2020-08-01",
          "2020-08-02",
          "2020-08-03",
          "2020-08-04",
          "2020-08-05",
          "2020-08-06",
          "2020-08-07",
          "2020-08-08",
          "2020-08-09",
          "2020-08-10",
          "2020-08-11",
          "2020-08-12",
          "2020-08-13",
          "2020-08-14",
          "2020-08-15",
          "2020-08-16",
          "2020-08-17",
          "2020-08-18",
          "2020-08-19",
          "2020-08-20",
          "2020-08-21",
          "2020-08-22",
          "2020-08-23",
          "2020-08-24",
          "2020-08-25",
          "2020-08-26",
          "2020-08-27",
          "2020-08-28",
          "2020-08-29",
          "2020-08-30",
          "2020-08-31",
          "2020-09-01",
          "2020-09-02",
          "2020-09-03",
          "2020-09-04",
          "2020-09-05",
          "2020-09-06",
          "2020-09-07",
          "2020-09-08",
          "2020-09-09",
          "2020-09-10",
          "2020-09-11",
          "2020-09-12",
          "2020-09-13",
          "2020-09-14",
          "2020-09-15"
         ],
         "y": [
          null,
          null,
          null,
          null,
          null,
          null,
          null,
          7.285714285714286,
          7.428571428571429,
          7,
          6.714285714285714,
          7.714285714285714,
          6.428571428571429,
          6.428571428571429,
          6.714285714285714,
          6.142857142857143,
          7,
          5.857142857142857,
          4.142857142857143,
          3.857142857142857,
          4.428571428571429,
          3.857142857142857,
          4,
          2.7142857142857144,
          3.2857142857142856,
          4,
          4,
          5,
          4.428571428571429,
          4.142857142857143,
          4.142857142857143,
          3.5714285714285716,
          4,
          4.428571428571429,
          3.4285714285714284,
          5.428571428571429,
          6.285714285714286,
          5.857142857142857,
          6.714285714285714,
          5.857142857142857,
          6,
          6.285714285714286,
          4.714285714285714,
          3.857142857142857,
          4.285714285714286,
          5.142857142857143,
          5.428571428571429,
          5.714285714285714,
          5.428571428571429,
          5.571428571428571,
          5.714285714285714,
          6.428571428571429,
          4.857142857142857,
          5.142857142857143,
          4.857142857142857,
          5.571428571428571,
          5.714285714285714,
          6.428571428571429,
          5.714285714285714,
          6,
          7.142857142857143,
          6.857142857142857,
          6.142857142857143,
          8.571428571428571,
          7.857142857142857,
          7.857142857142857,
          7.714285714285714,
          6.714285714285714,
          6.428571428571429,
          8.571428571428571,
          6.857142857142857,
          7.142857142857143,
          7.285714285714286,
          7.285714285714286,
          8.142857142857142,
          10.142857142857142,
          9.142857142857142,
          16.571428571428573,
          18.142857142857142,
          18.142857142857142,
          19.571428571428573,
          23.142857142857142,
          22.285714285714285,
          21.428571428571427,
          15,
          15.428571428571429,
          16,
          15.571428571428571,
          12,
          15.142857142857142,
          15.285714285714286,
          14.142857142857142,
          13.571428571428571,
          14.285714285714286,
          13,
          15.142857142857142,
          11,
          11,
          13.714285714285714,
          15.285714285714286,
          15,
          16,
          17.142857142857142,
          19.857142857142858,
          23.714285714285715,
          23,
          24.285714285714285,
          25.714285714285715,
          25.285714285714285,
          24.571428571428573,
          25.857142857142858,
          26.285714285714285,
          25.714285714285715,
          25.714285714285715,
          25,
          24.857142857142858,
          27.285714285714285,
          28.857142857142858,
          29,
          33,
          32.57142857142857,
          34.285714285714285,
          35.142857142857146,
          33.142857142857146,
          28.857142857142858,
          29.857142857142858,
          27.714285714285715,
          27.285714285714285,
          25,
          25,
          27.285714285714285,
          31.714285714285715,
          31,
          32.42857142857143,
          33.285714285714285,
          32.42857142857143,
          33.714285714285715,
          33.142857142857146,
          30.571428571428573,
          29.142857142857142,
          26.285714285714285,
          26.285714285714285,
          27.714285714285715,
          26,
          20.571428571428573,
          20,
          20.142857142857142,
          20,
          19,
          18.714285714285715,
          18.714285714285715,
          21
         ]
        },
        {
         "mode": "lines",
         "name": "Alabama (Mask Mandate)",
         "type": "scatter",
         "x": [
          "2020-04-17",
          "2020-04-18",
          "2020-04-19",
          "2020-04-20",
          "2020-04-21",
          "2020-04-22",
          "2020-04-23",
          "2020-04-24",
          "2020-04-25",
          "2020-04-26",
          "2020-04-27",
          "2020-04-28",
          "2020-04-29",
          "2020-04-30",
          "2020-05-01",
          "2020-05-02",
          "2020-05-03",
          "2020-05-04",
          "2020-05-05",
          "2020-05-06",
          "2020-05-07",
          "2020-05-08",
          "2020-05-09",
          "2020-05-10",
          "2020-05-11",
          "2020-05-12",
          "2020-05-13",
          "2020-05-14",
          "2020-05-15",
          "2020-05-16",
          "2020-05-17",
          "2020-05-18",
          "2020-05-19",
          "2020-05-20",
          "2020-05-21",
          "2020-05-22",
          "2020-05-23",
          "2020-05-24",
          "2020-05-25",
          "2020-05-26",
          "2020-05-27",
          "2020-05-28",
          "2020-05-29",
          "2020-05-30",
          "2020-05-31",
          "2020-06-01",
          "2020-06-02",
          "2020-06-03",
          "2020-06-04",
          "2020-06-05",
          "2020-06-06",
          "2020-06-07",
          "2020-06-08",
          "2020-06-09",
          "2020-06-10",
          "2020-06-11",
          "2020-06-12",
          "2020-06-13",
          "2020-06-14",
          "2020-06-15",
          "2020-06-16",
          "2020-06-17",
          "2020-06-18",
          "2020-06-19",
          "2020-06-20",
          "2020-06-21",
          "2020-06-22",
          "2020-06-23",
          "2020-06-24",
          "2020-06-25",
          "2020-06-26",
          "2020-06-27",
          "2020-06-28",
          "2020-06-29",
          "2020-06-30",
          "2020-07-01",
          "2020-07-02",
          "2020-07-03",
          "2020-07-04",
          "2020-07-05",
          "2020-07-06",
          "2020-07-07",
          "2020-07-08",
          "2020-07-09",
          "2020-07-10",
          "2020-07-11",
          "2020-07-12",
          "2020-07-13",
          "2020-07-14",
          "2020-07-15",
          "2020-07-16",
          "2020-07-17",
          "2020-07-18",
          "2020-07-19",
          "2020-07-20",
          "2020-07-21",
          "2020-07-22",
          "2020-07-23",
          "2020-07-24",
          "2020-07-25",
          "2020-07-26",
          "2020-07-27",
          "2020-07-28",
          "2020-07-29",
          "2020-07-30",
          "2020-07-31",
          "2020-08-01",
          "2020-08-02",
          "2020-08-03",
          "2020-08-04",
          "2020-08-05",
          "2020-08-06",
          "2020-08-07",
          "2020-08-08",
          "2020-08-09",
          "2020-08-10",
          "2020-08-11",
          "2020-08-12",
          "2020-08-13",
          "2020-08-14",
          "2020-08-15",
          "2020-08-16",
          "2020-08-17",
          "2020-08-18",
          "2020-08-19",
          "2020-08-20",
          "2020-08-21",
          "2020-08-22",
          "2020-08-23",
          "2020-08-24",
          "2020-08-25",
          "2020-08-26",
          "2020-08-27",
          "2020-08-28",
          "2020-08-29",
          "2020-08-30",
          "2020-08-31",
          "2020-09-01",
          "2020-09-02",
          "2020-09-03",
          "2020-09-04",
          "2020-09-05",
          "2020-09-06",
          "2020-09-07",
          "2020-09-08",
          "2020-09-09",
          "2020-09-10",
          "2020-09-11",
          "2020-09-12",
          "2020-09-13",
          "2020-09-14",
          "2020-09-15"
         ],
         "y": [
          null,
          null,
          null,
          null,
          null,
          null,
          null,
          null,
          null,
          null,
          null,
          null,
          null,
          null,
          7.357142857142857,
          8.142857142857142,
          8.357142857142858,
          7.428571428571429,
          7.071428571428571,
          7,
          7.428571428571429,
          7.5,
          8.142857142857142,
          8.285714285714286,
          8.928571428571429,
          9.857142857142858,
          9.857142857142858,
          10.571428571428571,
          11.071428571428571,
          10.071428571428571,
          9.357142857142858,
          9.571428571428571,
          9.642857142857142,
          9.714285714285714,
          9.357142857142858,
          9.142857142857142,
          8.571428571428571,
          9.357142857142858,
          9,
          8.714285714285714,
          9.285714285714286,
          9.5,
          10.5,
          10.571428571428571,
          12.357142857142858,
          13.714285714285714,
          13.357142857142858,
          12.642857142857142,
          12.357142857142858,
          12.5,
          13.714285714285714,
          13.928571428571429,
          13.928571428571429,
          13.642857142857142,
          14.857142857142858,
          15.642857142857142,
          15.785714285714286,
          16.714285714285715,
          17.428571428571427,
          16.571428571428573,
          17.5,
          17.785714285714285,
          19.857142857142858,
          20,
          19.857142857142858,
          18.857142857142858,
          19.214285714285715,
          19.428571428571427,
          19,
          19.857142857142858,
          19.785714285714285,
          19.5,
          16.857142857142858,
          18.928571428571427,
          18.714285714285715,
          19,
          20.285714285714285,
          23.142857142857142,
          22.785714285714285,
          24.357142857142858,
          25.285714285714285,
          25.285714285714285,
          26.142857142857142,
          26.285714285714285,
          26.571428571428573,
          29.428571428571427,
          30.714285714285715,
          30.857142857142858,
          32.92857142857143,
          35.357142857142854,
          35.214285714285715,
          34.07142857142857,
          37.42857142857143,
          39.714285714285715,
          40.07142857142857,
          41.5,
          40.785714285714285,
          41.357142857142854,
          42.07142857142857,
          41.07142857142857,
          42.07142857142857,
          42.142857142857146,
          40.92857142857143,
          40.357142857142854,
          38.214285714285715,
          38.285714285714285,
          35.357142857142854,
          33.714285714285715,
          33.214285714285715,
          32.142857142857146,
          31.142857142857142,
          30.071428571428573,
          29.142857142857142,
          28.071428571428573,
          27,
          24.428571428571427,
          24.428571428571427,
          22.428571428571427,
          22.785714285714285,
          21.571428571428573,
          22.071428571428573,
          20.714285714285715,
          19.642857142857142,
          21.214285714285715,
          22.857142857142858,
          22.928571428571427,
          22.857142857142858,
          24.142857142857142,
          24.214285714285715,
          28.214285714285715,
          27.785714285714285,
          29.857142857142858,
          32.714285714285715,
          32.857142857142854,
          33.142857142857146,
          34,
          35.214285714285715,
          35.357142857142854,
          34.642857142857146,
          35.07142857142857,
          36.785714285714285,
          35.57142857142857,
          34.92857142857143,
          31,
          29.785714285714285,
          28.357142857142858,
          26.5,
          28.357142857142858,
          29.5,
          30.928571428571427,
          30.785714285714285,
          29.714285714285715
         ]
        },
        {
         "mode": "lines",
         "name": "Georgia (No Mask Mandate)",
         "type": "scatter",
         "x": [
          "2020-04-17",
          "2020-04-18",
          "2020-04-19",
          "2020-04-20",
          "2020-04-21",
          "2020-04-22",
          "2020-04-23",
          "2020-04-24",
          "2020-04-25",
          "2020-04-26",
          "2020-04-27",
          "2020-04-28",
          "2020-04-29",
          "2020-04-30",
          "2020-05-01",
          "2020-05-02",
          "2020-05-03",
          "2020-05-04",
          "2020-05-05",
          "2020-05-06",
          "2020-05-07",
          "2020-05-08",
          "2020-05-09",
          "2020-05-10",
          "2020-05-11",
          "2020-05-12",
          "2020-05-13",
          "2020-05-14",
          "2020-05-15",
          "2020-05-16",
          "2020-05-17",
          "2020-05-18",
          "2020-05-19",
          "2020-05-20",
          "2020-05-21",
          "2020-05-22",
          "2020-05-23",
          "2020-05-24",
          "2020-05-25",
          "2020-05-26",
          "2020-05-27",
          "2020-05-28",
          "2020-05-29",
          "2020-05-30",
          "2020-05-31",
          "2020-06-01",
          "2020-06-02",
          "2020-06-03",
          "2020-06-04",
          "2020-06-05",
          "2020-06-06",
          "2020-06-07",
          "2020-06-08",
          "2020-06-09",
          "2020-06-10",
          "2020-06-11",
          "2020-06-12",
          "2020-06-13",
          "2020-06-14",
          "2020-06-15",
          "2020-06-16",
          "2020-06-17",
          "2020-06-18",
          "2020-06-19",
          "2020-06-20",
          "2020-06-21",
          "2020-06-22",
          "2020-06-23",
          "2020-06-24",
          "2020-06-25",
          "2020-06-26",
          "2020-06-27",
          "2020-06-28",
          "2020-06-29",
          "2020-06-30",
          "2020-07-01",
          "2020-07-02",
          "2020-07-03",
          "2020-07-04",
          "2020-07-05",
          "2020-07-06",
          "2020-07-07",
          "2020-07-08",
          "2020-07-09",
          "2020-07-10",
          "2020-07-11",
          "2020-07-12",
          "2020-07-13",
          "2020-07-14",
          "2020-07-15",
          "2020-07-16",
          "2020-07-17",
          "2020-07-18",
          "2020-07-19",
          "2020-07-20",
          "2020-07-21",
          "2020-07-22",
          "2020-07-23",
          "2020-07-24",
          "2020-07-25",
          "2020-07-26",
          "2020-07-27",
          "2020-07-28",
          "2020-07-29",
          "2020-07-30",
          "2020-07-31",
          "2020-08-01",
          "2020-08-02",
          "2020-08-03",
          "2020-08-04",
          "2020-08-05",
          "2020-08-06",
          "2020-08-07",
          "2020-08-08",
          "2020-08-09",
          "2020-08-10",
          "2020-08-11",
          "2020-08-12",
          "2020-08-13",
          "2020-08-14",
          "2020-08-15",
          "2020-08-16",
          "2020-08-17",
          "2020-08-18",
          "2020-08-19",
          "2020-08-20",
          "2020-08-21",
          "2020-08-22",
          "2020-08-23",
          "2020-08-24",
          "2020-08-25",
          "2020-08-26",
          "2020-08-27",
          "2020-08-28",
          "2020-08-29",
          "2020-08-30",
          "2020-08-31",
          "2020-09-01",
          "2020-09-02",
          "2020-09-03",
          "2020-09-04",
          "2020-09-05",
          "2020-09-06",
          "2020-09-07",
          "2020-09-08",
          "2020-09-09",
          "2020-09-10",
          "2020-09-11",
          "2020-09-12",
          "2020-09-13",
          "2020-09-14",
          "2020-09-15"
         ],
         "y": [
          null,
          null,
          null,
          null,
          null,
          null,
          null,
          null,
          null,
          null,
          null,
          null,
          null,
          null,
          7,
          6.785714285714286,
          7,
          6.285714285714286,
          5.928571428571429,
          5.142857142857143,
          5.428571428571429,
          5.285714285714286,
          5.071428571428571,
          4.857142857142857,
          4.571428571428571,
          4.071428571428571,
          3.9285714285714284,
          4.714285714285714,
          4.142857142857143,
          4.071428571428571,
          3.4285714285714284,
          3.4285714285714284,
          4,
          4.214285714285714,
          4.214285714285714,
          4.928571428571429,
          5.214285714285714,
          5,
          5.142857142857143,
          4.928571428571429,
          5.214285714285714,
          4.857142857142857,
          5.071428571428571,
          5.071428571428571,
          5.071428571428571,
          5.928571428571429,
          5.642857142857143,
          5.857142857142857,
          5.857142857142857,
          5.142857142857143,
          4.785714285714286,
          5.357142857142857,
          5,
          5.285714285714286,
          5.285714285714286,
          5.5,
          5.642857142857143,
          6.071428571428571,
          6.071428571428571,
          5.428571428571429,
          6.142857142857143,
          5.857142857142857,
          5.857142857142857,
          7.142857142857143,
          7.142857142857143,
          6.785714285714286,
          6.857142857142857,
          6.928571428571429,
          6.642857142857143,
          7.357142857142857,
          7.714285714285714,
          7.5,
          7.571428571428571,
          7.5,
          7.428571428571429,
          8.285714285714286,
          8.857142857142858,
          11.714285714285714,
          12.642857142857142,
          12.714285714285714,
          13.428571428571429,
          15.642857142857142,
          16.214285714285715,
          15.285714285714286,
          15.785714285714286,
          16.785714285714285,
          17.071428571428573,
          17.571428571428573,
          17.571428571428573,
          18.714285714285715,
          18.357142857142858,
          14.571428571428571,
          14.5,
          15.142857142857142,
          14.285714285714286,
          13.571428571428571,
          13.071428571428571,
          13.142857142857142,
          13.928571428571429,
          14.428571428571429,
          14.642857142857142,
          14.5,
          16.142857142857142,
          15.428571428571429,
          17.357142857142858,
          18.357142857142858,
          19.785714285714285,
          20.357142857142858,
          20.642857142857142,
          20.857142857142858,
          22.857142857142858,
          25,
          24.357142857142858,
          25,
          25.357142857142858,
          25.071428571428573,
          25.928571428571427,
          27.357142857142858,
          27.642857142857142,
          29.357142857142858,
          29.142857142857142,
          29.642857142857142,
          30,
          30.214285714285715,
          28.857142857142858,
          29.428571428571427,
          30.357142857142858,
          29.928571428571427,
          29.642857142857142,
          30.071428571428573,
          30.214285714285715,
          30.285714285714285,
          30.428571428571427,
          30.071428571428573,
          30.285714285714285,
          28.714285714285715,
          29.357142857142858,
          30.214285714285715,
          31.142857142857142,
          30.071428571428573,
          29.357142857142858,
          29.785714285714285,
          30.071428571428573,
          29.857142857142858,
          26.857142857142858,
          25.285714285714285,
          24.642857142857142,
          23.142857142857142,
          22.642857142857142,
          23.214285714285715,
          22.357142857142858,
          20.785714285714285
         ]
        },
        {
         "mode": "lines",
         "name": "Alabama (Mask Mandate)",
         "type": "scatter",
         "x": [
          "2020-04-17",
          "2020-04-18",
          "2020-04-19",
          "2020-04-20",
          "2020-04-21",
          "2020-04-22",
          "2020-04-23",
          "2020-04-24",
          "2020-04-25",
          "2020-04-26",
          "2020-04-27",
          "2020-04-28",
          "2020-04-29",
          "2020-04-30",
          "2020-05-01",
          "2020-05-02",
          "2020-05-03",
          "2020-05-04",
          "2020-05-05",
          "2020-05-06",
          "2020-05-07",
          "2020-05-08",
          "2020-05-09",
          "2020-05-10",
          "2020-05-11",
          "2020-05-12",
          "2020-05-13",
          "2020-05-14",
          "2020-05-15",
          "2020-05-16",
          "2020-05-17",
          "2020-05-18",
          "2020-05-19",
          "2020-05-20",
          "2020-05-21",
          "2020-05-22",
          "2020-05-23",
          "2020-05-24",
          "2020-05-25",
          "2020-05-26",
          "2020-05-27",
          "2020-05-28",
          "2020-05-29",
          "2020-05-30",
          "2020-05-31",
          "2020-06-01",
          "2020-06-02",
          "2020-06-03",
          "2020-06-04",
          "2020-06-05",
          "2020-06-06",
          "2020-06-07",
          "2020-06-08",
          "2020-06-09",
          "2020-06-10",
          "2020-06-11",
          "2020-06-12",
          "2020-06-13",
          "2020-06-14",
          "2020-06-15",
          "2020-06-16",
          "2020-06-17",
          "2020-06-18",
          "2020-06-19",
          "2020-06-20",
          "2020-06-21",
          "2020-06-22",
          "2020-06-23",
          "2020-06-24",
          "2020-06-25",
          "2020-06-26",
          "2020-06-27",
          "2020-06-28",
          "2020-06-29",
          "2020-06-30",
          "2020-07-01",
          "2020-07-02",
          "2020-07-03",
          "2020-07-04",
          "2020-07-05",
          "2020-07-06",
          "2020-07-07",
          "2020-07-08",
          "2020-07-09",
          "2020-07-10",
          "2020-07-11",
          "2020-07-12",
          "2020-07-13",
          "2020-07-14",
          "2020-07-15",
          "2020-07-16",
          "2020-07-17",
          "2020-07-18",
          "2020-07-19",
          "2020-07-20",
          "2020-07-21",
          "2020-07-22",
          "2020-07-23",
          "2020-07-24",
          "2020-07-25",
          "2020-07-26",
          "2020-07-27",
          "2020-07-28",
          "2020-07-29",
          "2020-07-30",
          "2020-07-31",
          "2020-08-01",
          "2020-08-02",
          "2020-08-03",
          "2020-08-04",
          "2020-08-05",
          "2020-08-06",
          "2020-08-07",
          "2020-08-08",
          "2020-08-09",
          "2020-08-10",
          "2020-08-11",
          "2020-08-12",
          "2020-08-13",
          "2020-08-14",
          "2020-08-15",
          "2020-08-16",
          "2020-08-17",
          "2020-08-18",
          "2020-08-19",
          "2020-08-20",
          "2020-08-21",
          "2020-08-22",
          "2020-08-23",
          "2020-08-24",
          "2020-08-25",
          "2020-08-26",
          "2020-08-27",
          "2020-08-28",
          "2020-08-29",
          "2020-08-30",
          "2020-08-31",
          "2020-09-01",
          "2020-09-02",
          "2020-09-03",
          "2020-09-04",
          "2020-09-05",
          "2020-09-06",
          "2020-09-07",
          "2020-09-08",
          "2020-09-09",
          "2020-09-10",
          "2020-09-11",
          "2020-09-12",
          "2020-09-13",
          "2020-09-14",
          "2020-09-15"
         ],
         "y": [
          null,
          null,
          null,
          null,
          null,
          null,
          null,
          null,
          null,
          null,
          null,
          null,
          null,
          null,
          null,
          null,
          null,
          null,
          null,
          null,
          null,
          null,
          null,
          null,
          null,
          null,
          null,
          null,
          null,
          null,
          8.866666666666667,
          8.833333333333334,
          8.833333333333334,
          8.7,
          8.433333333333334,
          8.3,
          8.266666666666667,
          8.433333333333334,
          8.7,
          9.1,
          9.233333333333333,
          9.5,
          10.166666666666666,
          10.333333333333334,
          11.2,
          11.433333333333334,
          11.166666666666666,
          11.133333333333333,
          10.9,
          10.866666666666667,
          11.2,
          11.433333333333334,
          11.4,
          11.6,
          12,
          12.2,
          12.933333333333334,
          13.2,
          14.166666666666666,
          14.466666666666667,
          14.966666666666667,
          14.966666666666667,
          15.666666666666666,
          15.666666666666666,
          16.1,
          15.966666666666667,
          16.366666666666667,
          16.3,
          16.666666666666668,
          17.4,
          17.833333333333332,
          17.866666666666667,
          17.133333333333333,
          18.366666666666667,
          17.933333333333334,
          17.433333333333334,
          18.9,
          20.566666666666666,
          20.966666666666665,
          21.5,
          21.766666666666666,
          21.6,
          22.366666666666667,
          23.3,
          23.3,
          24.3,
          24.1,
          24.966666666666665,
          25.166666666666668,
          26.2,
          27.166666666666668,
          28.166666666666668,
          29.166666666666668,
          30.7,
          31.2,
          32.166666666666664,
          32.43333333333333,
          33.53333333333333,
          34.06666666666667,
          34.2,
          34.5,
          35.53333333333333,
          36.4,
          36.2,
          36.266666666666666,
          37.166666666666664,
          36.2,
          35.63333333333333,
          36.06666666666667,
          35.8,
          35.166666666666664,
          35.766666666666666,
          35.46666666666667,
          35.03333333333333,
          34.7,
          33.2,
          33.46666666666667,
          32.266666666666666,
          31.533333333333335,
          30.733333333333334,
          30.066666666666666,
          29.4,
          27.766666666666666,
          27.166666666666668,
          27.133333333333333,
          27.1,
          27.1,
          27,
          26.366666666666667,
          27.2,
          26.8,
          26.533333333333335,
          27.7,
          27.233333333333334,
          27.7,
          27.4,
          27.7,
          27.933333333333334,
          27.8,
          28.466666666666665,
          29.733333333333334,
          29.566666666666666,
          29.066666666666666,
          28.566666666666666,
          28.1,
          28.366666666666667,
          28.666666666666668,
          30,
          30.833333333333332,
          31.766666666666666,
          31.766666666666666,
          32.13333333333333
         ]
        },
        {
         "mode": "lines",
         "name": "Georgia (No Mask Mandate)",
         "type": "scatter",
         "x": [
          "2020-04-17",
          "2020-04-18",
          "2020-04-19",
          "2020-04-20",
          "2020-04-21",
          "2020-04-22",
          "2020-04-23",
          "2020-04-24",
          "2020-04-25",
          "2020-04-26",
          "2020-04-27",
          "2020-04-28",
          "2020-04-29",
          "2020-04-30",
          "2020-05-01",
          "2020-05-02",
          "2020-05-03",
          "2020-05-04",
          "2020-05-05",
          "2020-05-06",
          "2020-05-07",
          "2020-05-08",
          "2020-05-09",
          "2020-05-10",
          "2020-05-11",
          "2020-05-12",
          "2020-05-13",
          "2020-05-14",
          "2020-05-15",
          "2020-05-16",
          "2020-05-17",
          "2020-05-18",
          "2020-05-19",
          "2020-05-20",
          "2020-05-21",
          "2020-05-22",
          "2020-05-23",
          "2020-05-24",
          "2020-05-25",
          "2020-05-26",
          "2020-05-27",
          "2020-05-28",
          "2020-05-29",
          "2020-05-30",
          "2020-05-31",
          "2020-06-01",
          "2020-06-02",
          "2020-06-03",
          "2020-06-04",
          "2020-06-05",
          "2020-06-06",
          "2020-06-07",
          "2020-06-08",
          "2020-06-09",
          "2020-06-10",
          "2020-06-11",
          "2020-06-12",
          "2020-06-13",
          "2020-06-14",
          "2020-06-15",
          "2020-06-16",
          "2020-06-17",
          "2020-06-18",
          "2020-06-19",
          "2020-06-20",
          "2020-06-21",
          "2020-06-22",
          "2020-06-23",
          "2020-06-24",
          "2020-06-25",
          "2020-06-26",
          "2020-06-27",
          "2020-06-28",
          "2020-06-29",
          "2020-06-30",
          "2020-07-01",
          "2020-07-02",
          "2020-07-03",
          "2020-07-04",
          "2020-07-05",
          "2020-07-06",
          "2020-07-07",
          "2020-07-08",
          "2020-07-09",
          "2020-07-10",
          "2020-07-11",
          "2020-07-12",
          "2020-07-13",
          "2020-07-14",
          "2020-07-15",
          "2020-07-16",
          "2020-07-17",
          "2020-07-18",
          "2020-07-19",
          "2020-07-20",
          "2020-07-21",
          "2020-07-22",
          "2020-07-23",
          "2020-07-24",
          "2020-07-25",
          "2020-07-26",
          "2020-07-27",
          "2020-07-28",
          "2020-07-29",
          "2020-07-30",
          "2020-07-31",
          "2020-08-01",
          "2020-08-02",
          "2020-08-03",
          "2020-08-04",
          "2020-08-05",
          "2020-08-06",
          "2020-08-07",
          "2020-08-08",
          "2020-08-09",
          "2020-08-10",
          "2020-08-11",
          "2020-08-12",
          "2020-08-13",
          "2020-08-14",
          "2020-08-15",
          "2020-08-16",
          "2020-08-17",
          "2020-08-18",
          "2020-08-19",
          "2020-08-20",
          "2020-08-21",
          "2020-08-22",
          "2020-08-23",
          "2020-08-24",
          "2020-08-25",
          "2020-08-26",
          "2020-08-27",
          "2020-08-28",
          "2020-08-29",
          "2020-08-30",
          "2020-08-31",
          "2020-09-01",
          "2020-09-02",
          "2020-09-03",
          "2020-09-04",
          "2020-09-05",
          "2020-09-06",
          "2020-09-07",
          "2020-09-08",
          "2020-09-09",
          "2020-09-10",
          "2020-09-11",
          "2020-09-12",
          "2020-09-13",
          "2020-09-14",
          "2020-09-15"
         ],
         "y": [
          null,
          null,
          null,
          null,
          null,
          null,
          null,
          null,
          null,
          null,
          null,
          null,
          null,
          null,
          null,
          null,
          null,
          null,
          null,
          null,
          null,
          null,
          null,
          null,
          null,
          null,
          null,
          null,
          null,
          null,
          5.266666666666667,
          5.1,
          5.2,
          5.1,
          5.033333333333333,
          5,
          5.2,
          4.933333333333334,
          4.933333333333334,
          4.933333333333334,
          4.933333333333334,
          4.7,
          4.6,
          4.6,
          4.366666666666666,
          4.7,
          4.566666666666666,
          4.9,
          5,
          5,
          4.9,
          4.966666666666667,
          4.9,
          5.133333333333334,
          5.266666666666667,
          5.366666666666666,
          5.4,
          5.233333333333333,
          5.266666666666667,
          5.333333333333333,
          5.833333333333333,
          6.033333333333333,
          5.866666666666666,
          6.366666666666666,
          6.266666666666667,
          5.833333333333333,
          5.666666666666667,
          6.033333333333333,
          5.966666666666667,
          6.5,
          6.566666666666666,
          6.466666666666667,
          6.433333333333334,
          6.466666666666667,
          6.933333333333334,
          7.133333333333334,
          7.366666666666666,
          9.1,
          9.433333333333334,
          9.366666666666667,
          9.7,
          10.833333333333334,
          11.2,
          11.166666666666666,
          11.466666666666667,
          11.733333333333333,
          11.766666666666667,
          11.833333333333334,
          12.3,
          13.333333333333334,
          13.066666666666666,
          13.166666666666666,
          13.466666666666667,
          13.1,
          13.033333333333333,
          14,
          14.1,
          14.066666666666666,
          14.866666666666667,
          15.033333333333333,
          15,
          15.1,
          16.3,
          17.033333333333335,
          17.7,
          17.866666666666667,
          18.566666666666666,
          17.133333333333333,
          16.766666666666666,
          17.8,
          18.5,
          18.433333333333334,
          18.666666666666668,
          19.566666666666666,
          19.466666666666665,
          18.966666666666665,
          20.433333333333334,
          21.6,
          22.4,
          22.833333333333332,
          23.6,
          24.166666666666668,
          24,
          24.833333333333332,
          25.3,
          25.833333333333332,
          26.733333333333334,
          27.4,
          26.8,
          26.266666666666666,
          27.7,
          28.966666666666665,
          29.066666666666666,
          29.666666666666668,
          29.633333333333333,
          29,
          28.466666666666665,
          29.433333333333334,
          30.2,
          30.133333333333333,
          29.766666666666666,
          29.633333333333333,
          29.466666666666665,
          28.533333333333335,
          28.4,
          29.066666666666666,
          28.466666666666665,
          27.7,
          27.3,
          26.133333333333333,
          25.3,
          25.3
         ]
        }
       ],
       "layout": {
        "template": {
         "data": {
          "bar": [
           {
            "error_x": {
             "color": "#2a3f5f"
            },
            "error_y": {
             "color": "#2a3f5f"
            },
            "marker": {
             "line": {
              "color": "#E5ECF6",
              "width": 0.5
             }
            },
            "type": "bar"
           }
          ],
          "barpolar": [
           {
            "marker": {
             "line": {
              "color": "#E5ECF6",
              "width": 0.5
             }
            },
            "type": "barpolar"
           }
          ],
          "carpet": [
           {
            "aaxis": {
             "endlinecolor": "#2a3f5f",
             "gridcolor": "white",
             "linecolor": "white",
             "minorgridcolor": "white",
             "startlinecolor": "#2a3f5f"
            },
            "baxis": {
             "endlinecolor": "#2a3f5f",
             "gridcolor": "white",
             "linecolor": "white",
             "minorgridcolor": "white",
             "startlinecolor": "#2a3f5f"
            },
            "type": "carpet"
           }
          ],
          "choropleth": [
           {
            "colorbar": {
             "outlinewidth": 0,
             "ticks": ""
            },
            "type": "choropleth"
           }
          ],
          "contour": [
           {
            "colorbar": {
             "outlinewidth": 0,
             "ticks": ""
            },
            "colorscale": [
             [
              0,
              "#0d0887"
             ],
             [
              0.1111111111111111,
              "#46039f"
             ],
             [
              0.2222222222222222,
              "#7201a8"
             ],
             [
              0.3333333333333333,
              "#9c179e"
             ],
             [
              0.4444444444444444,
              "#bd3786"
             ],
             [
              0.5555555555555556,
              "#d8576b"
             ],
             [
              0.6666666666666666,
              "#ed7953"
             ],
             [
              0.7777777777777778,
              "#fb9f3a"
             ],
             [
              0.8888888888888888,
              "#fdca26"
             ],
             [
              1,
              "#f0f921"
             ]
            ],
            "type": "contour"
           }
          ],
          "contourcarpet": [
           {
            "colorbar": {
             "outlinewidth": 0,
             "ticks": ""
            },
            "type": "contourcarpet"
           }
          ],
          "heatmap": [
           {
            "colorbar": {
             "outlinewidth": 0,
             "ticks": ""
            },
            "colorscale": [
             [
              0,
              "#0d0887"
             ],
             [
              0.1111111111111111,
              "#46039f"
             ],
             [
              0.2222222222222222,
              "#7201a8"
             ],
             [
              0.3333333333333333,
              "#9c179e"
             ],
             [
              0.4444444444444444,
              "#bd3786"
             ],
             [
              0.5555555555555556,
              "#d8576b"
             ],
             [
              0.6666666666666666,
              "#ed7953"
             ],
             [
              0.7777777777777778,
              "#fb9f3a"
             ],
             [
              0.8888888888888888,
              "#fdca26"
             ],
             [
              1,
              "#f0f921"
             ]
            ],
            "type": "heatmap"
           }
          ],
          "heatmapgl": [
           {
            "colorbar": {
             "outlinewidth": 0,
             "ticks": ""
            },
            "colorscale": [
             [
              0,
              "#0d0887"
             ],
             [
              0.1111111111111111,
              "#46039f"
             ],
             [
              0.2222222222222222,
              "#7201a8"
             ],
             [
              0.3333333333333333,
              "#9c179e"
             ],
             [
              0.4444444444444444,
              "#bd3786"
             ],
             [
              0.5555555555555556,
              "#d8576b"
             ],
             [
              0.6666666666666666,
              "#ed7953"
             ],
             [
              0.7777777777777778,
              "#fb9f3a"
             ],
             [
              0.8888888888888888,
              "#fdca26"
             ],
             [
              1,
              "#f0f921"
             ]
            ],
            "type": "heatmapgl"
           }
          ],
          "histogram": [
           {
            "marker": {
             "colorbar": {
              "outlinewidth": 0,
              "ticks": ""
             }
            },
            "type": "histogram"
           }
          ],
          "histogram2d": [
           {
            "colorbar": {
             "outlinewidth": 0,
             "ticks": ""
            },
            "colorscale": [
             [
              0,
              "#0d0887"
             ],
             [
              0.1111111111111111,
              "#46039f"
             ],
             [
              0.2222222222222222,
              "#7201a8"
             ],
             [
              0.3333333333333333,
              "#9c179e"
             ],
             [
              0.4444444444444444,
              "#bd3786"
             ],
             [
              0.5555555555555556,
              "#d8576b"
             ],
             [
              0.6666666666666666,
              "#ed7953"
             ],
             [
              0.7777777777777778,
              "#fb9f3a"
             ],
             [
              0.8888888888888888,
              "#fdca26"
             ],
             [
              1,
              "#f0f921"
             ]
            ],
            "type": "histogram2d"
           }
          ],
          "histogram2dcontour": [
           {
            "colorbar": {
             "outlinewidth": 0,
             "ticks": ""
            },
            "colorscale": [
             [
              0,
              "#0d0887"
             ],
             [
              0.1111111111111111,
              "#46039f"
             ],
             [
              0.2222222222222222,
              "#7201a8"
             ],
             [
              0.3333333333333333,
              "#9c179e"
             ],
             [
              0.4444444444444444,
              "#bd3786"
             ],
             [
              0.5555555555555556,
              "#d8576b"
             ],
             [
              0.6666666666666666,
              "#ed7953"
             ],
             [
              0.7777777777777778,
              "#fb9f3a"
             ],
             [
              0.8888888888888888,
              "#fdca26"
             ],
             [
              1,
              "#f0f921"
             ]
            ],
            "type": "histogram2dcontour"
           }
          ],
          "mesh3d": [
           {
            "colorbar": {
             "outlinewidth": 0,
             "ticks": ""
            },
            "type": "mesh3d"
           }
          ],
          "parcoords": [
           {
            "line": {
             "colorbar": {
              "outlinewidth": 0,
              "ticks": ""
             }
            },
            "type": "parcoords"
           }
          ],
          "pie": [
           {
            "automargin": true,
            "type": "pie"
           }
          ],
          "scatter": [
           {
            "marker": {
             "colorbar": {
              "outlinewidth": 0,
              "ticks": ""
             }
            },
            "type": "scatter"
           }
          ],
          "scatter3d": [
           {
            "line": {
             "colorbar": {
              "outlinewidth": 0,
              "ticks": ""
             }
            },
            "marker": {
             "colorbar": {
              "outlinewidth": 0,
              "ticks": ""
             }
            },
            "type": "scatter3d"
           }
          ],
          "scattercarpet": [
           {
            "marker": {
             "colorbar": {
              "outlinewidth": 0,
              "ticks": ""
             }
            },
            "type": "scattercarpet"
           }
          ],
          "scattergeo": [
           {
            "marker": {
             "colorbar": {
              "outlinewidth": 0,
              "ticks": ""
             }
            },
            "type": "scattergeo"
           }
          ],
          "scattergl": [
           {
            "marker": {
             "colorbar": {
              "outlinewidth": 0,
              "ticks": ""
             }
            },
            "type": "scattergl"
           }
          ],
          "scattermapbox": [
           {
            "marker": {
             "colorbar": {
              "outlinewidth": 0,
              "ticks": ""
             }
            },
            "type": "scattermapbox"
           }
          ],
          "scatterpolar": [
           {
            "marker": {
             "colorbar": {
              "outlinewidth": 0,
              "ticks": ""
             }
            },
            "type": "scatterpolar"
           }
          ],
          "scatterpolargl": [
           {
            "marker": {
             "colorbar": {
              "outlinewidth": 0,
              "ticks": ""
             }
            },
            "type": "scatterpolargl"
           }
          ],
          "scatterternary": [
           {
            "marker": {
             "colorbar": {
              "outlinewidth": 0,
              "ticks": ""
             }
            },
            "type": "scatterternary"
           }
          ],
          "surface": [
           {
            "colorbar": {
             "outlinewidth": 0,
             "ticks": ""
            },
            "colorscale": [
             [
              0,
              "#0d0887"
             ],
             [
              0.1111111111111111,
              "#46039f"
             ],
             [
              0.2222222222222222,
              "#7201a8"
             ],
             [
              0.3333333333333333,
              "#9c179e"
             ],
             [
              0.4444444444444444,
              "#bd3786"
             ],
             [
              0.5555555555555556,
              "#d8576b"
             ],
             [
              0.6666666666666666,
              "#ed7953"
             ],
             [
              0.7777777777777778,
              "#fb9f3a"
             ],
             [
              0.8888888888888888,
              "#fdca26"
             ],
             [
              1,
              "#f0f921"
             ]
            ],
            "type": "surface"
           }
          ],
          "table": [
           {
            "cells": {
             "fill": {
              "color": "#EBF0F8"
             },
             "line": {
              "color": "white"
             }
            },
            "header": {
             "fill": {
              "color": "#C8D4E3"
             },
             "line": {
              "color": "white"
             }
            },
            "type": "table"
           }
          ]
         },
         "layout": {
          "annotationdefaults": {
           "arrowcolor": "#2a3f5f",
           "arrowhead": 0,
           "arrowwidth": 1
          },
          "coloraxis": {
           "colorbar": {
            "outlinewidth": 0,
            "ticks": ""
           }
          },
          "colorscale": {
           "diverging": [
            [
             0,
             "#8e0152"
            ],
            [
             0.1,
             "#c51b7d"
            ],
            [
             0.2,
             "#de77ae"
            ],
            [
             0.3,
             "#f1b6da"
            ],
            [
             0.4,
             "#fde0ef"
            ],
            [
             0.5,
             "#f7f7f7"
            ],
            [
             0.6,
             "#e6f5d0"
            ],
            [
             0.7,
             "#b8e186"
            ],
            [
             0.8,
             "#7fbc41"
            ],
            [
             0.9,
             "#4d9221"
            ],
            [
             1,
             "#276419"
            ]
           ],
           "sequential": [
            [
             0,
             "#0d0887"
            ],
            [
             0.1111111111111111,
             "#46039f"
            ],
            [
             0.2222222222222222,
             "#7201a8"
            ],
            [
             0.3333333333333333,
             "#9c179e"
            ],
            [
             0.4444444444444444,
             "#bd3786"
            ],
            [
             0.5555555555555556,
             "#d8576b"
            ],
            [
             0.6666666666666666,
             "#ed7953"
            ],
            [
             0.7777777777777778,
             "#fb9f3a"
            ],
            [
             0.8888888888888888,
             "#fdca26"
            ],
            [
             1,
             "#f0f921"
            ]
           ],
           "sequentialminus": [
            [
             0,
             "#0d0887"
            ],
            [
             0.1111111111111111,
             "#46039f"
            ],
            [
             0.2222222222222222,
             "#7201a8"
            ],
            [
             0.3333333333333333,
             "#9c179e"
            ],
            [
             0.4444444444444444,
             "#bd3786"
            ],
            [
             0.5555555555555556,
             "#d8576b"
            ],
            [
             0.6666666666666666,
             "#ed7953"
            ],
            [
             0.7777777777777778,
             "#fb9f3a"
            ],
            [
             0.8888888888888888,
             "#fdca26"
            ],
            [
             1,
             "#f0f921"
            ]
           ]
          },
          "colorway": [
           "#636efa",
           "#EF553B",
           "#00cc96",
           "#ab63fa",
           "#FFA15A",
           "#19d3f3",
           "#FF6692",
           "#B6E880",
           "#FF97FF",
           "#FECB52"
          ],
          "font": {
           "color": "#2a3f5f"
          },
          "geo": {
           "bgcolor": "white",
           "lakecolor": "white",
           "landcolor": "#E5ECF6",
           "showlakes": true,
           "showland": true,
           "subunitcolor": "white"
          },
          "hoverlabel": {
           "align": "left"
          },
          "hovermode": "closest",
          "mapbox": {
           "style": "light"
          },
          "paper_bgcolor": "white",
          "plot_bgcolor": "#E5ECF6",
          "polar": {
           "angularaxis": {
            "gridcolor": "white",
            "linecolor": "white",
            "ticks": ""
           },
           "bgcolor": "#E5ECF6",
           "radialaxis": {
            "gridcolor": "white",
            "linecolor": "white",
            "ticks": ""
           }
          },
          "scene": {
           "xaxis": {
            "backgroundcolor": "#E5ECF6",
            "gridcolor": "white",
            "gridwidth": 2,
            "linecolor": "white",
            "showbackground": true,
            "ticks": "",
            "zerolinecolor": "white"
           },
           "yaxis": {
            "backgroundcolor": "#E5ECF6",
            "gridcolor": "white",
            "gridwidth": 2,
            "linecolor": "white",
            "showbackground": true,
            "ticks": "",
            "zerolinecolor": "white"
           },
           "zaxis": {
            "backgroundcolor": "#E5ECF6",
            "gridcolor": "white",
            "gridwidth": 2,
            "linecolor": "white",
            "showbackground": true,
            "ticks": "",
            "zerolinecolor": "white"
           }
          },
          "shapedefaults": {
           "line": {
            "color": "#2a3f5f"
           }
          },
          "ternary": {
           "aaxis": {
            "gridcolor": "white",
            "linecolor": "white",
            "ticks": ""
           },
           "baxis": {
            "gridcolor": "white",
            "linecolor": "white",
            "ticks": ""
           },
           "bgcolor": "#E5ECF6",
           "caxis": {
            "gridcolor": "white",
            "linecolor": "white",
            "ticks": ""
           }
          },
          "title": {
           "x": 0.05
          },
          "xaxis": {
           "automargin": true,
           "gridcolor": "white",
           "linecolor": "white",
           "ticks": "",
           "title": {
            "standoff": 15
           },
           "zerolinecolor": "white",
           "zerolinewidth": 2
          },
          "yaxis": {
           "automargin": true,
           "gridcolor": "white",
           "linecolor": "white",
           "ticks": "",
           "title": {
            "standoff": 15
           },
           "zerolinecolor": "white",
           "zerolinewidth": 2
          }
         }
        },
        "title": {
         "text": "Georgia vs Alabama Transmission Rates (Change in New Cases)"
        },
        "updatemenus": [
         {
          "active": 0,
          "buttons": [
           {
            "args": [
             {
              "visible": [
               true,
               true,
               false,
               false,
               false,
               false,
               false,
               false
              ]
             },
             {
              "annotations": [],
              "title": "1 Day Moving Average"
             }
            ],
            "label": "1 Day Moving Average",
            "method": "update"
           },
           {
            "args": [
             {
              "visible": [
               false,
               false,
               true,
               true,
               false,
               false,
               false,
               false
              ]
             },
             {
              "annotations": [],
              "title": "7 Day Moving Average"
             }
            ],
            "label": "7 Day Moving Average",
            "method": "update"
           },
           {
            "args": [
             {
              "visible": [
               false,
               false,
               false,
               false,
               true,
               true,
               false,
               false
              ]
             },
             {
              "annotations": [],
              "title": "14 Day Moving Average"
             }
            ],
            "label": "14 Day Moving Average",
            "method": "update"
           },
           {
            "args": [
             {
              "visible": [
               false,
               false,
               false,
               false,
               false,
               false,
               true,
               true
              ]
             },
             {
              "annotations": [],
              "title": "30 Day Moving Average"
             }
            ],
            "label": "30 Day Moving Average",
            "method": "update"
           }
          ]
         }
        ],
        "xaxis": {
         "ticktext": [
          "May 16th",
          "June 16th",
          "July 16th: Mandate Initiated",
          "August 16th",
          "September 16th"
         ],
         "tickvals": [
          "2020-05-16",
          "2020-06-16",
          "2020-07-16",
          "2020-08-16",
          "2020-09-15"
         ]
        }
       }
      },
      "text/html": [
       "<div>\n",
       "        \n",
       "        \n",
       "            <div id=\"48f7186d-c866-43b9-bbbe-6fe95db228ce\" class=\"plotly-graph-div\" style=\"height:525px; width:100%;\"></div>\n",
       "            <script type=\"text/javascript\">\n",
       "                require([\"plotly\"], function(Plotly) {\n",
       "                    window.PLOTLYENV=window.PLOTLYENV || {};\n",
       "                    \n",
       "                if (document.getElementById(\"48f7186d-c866-43b9-bbbe-6fe95db228ce\")) {\n",
       "                    Plotly.newPlot(\n",
       "                        '48f7186d-c866-43b9-bbbe-6fe95db228ce',\n",
       "                        [{\"mode\": \"lines\", \"name\": \"Alabama (Mask Mandate)\", \"type\": \"scatter\", \"x\": [\"2020-04-17\", \"2020-04-18\", \"2020-04-19\", \"2020-04-20\", \"2020-04-21\", \"2020-04-22\", \"2020-04-23\", \"2020-04-24\", \"2020-04-25\", \"2020-04-26\", \"2020-04-27\", \"2020-04-28\", \"2020-04-29\", \"2020-04-30\", \"2020-05-01\", \"2020-05-02\", \"2020-05-03\", \"2020-05-04\", \"2020-05-05\", \"2020-05-06\", \"2020-05-07\", \"2020-05-08\", \"2020-05-09\", \"2020-05-10\", \"2020-05-11\", \"2020-05-12\", \"2020-05-13\", \"2020-05-14\", \"2020-05-15\", \"2020-05-16\", \"2020-05-17\", \"2020-05-18\", \"2020-05-19\", \"2020-05-20\", \"2020-05-21\", \"2020-05-22\", \"2020-05-23\", \"2020-05-24\", \"2020-05-25\", \"2020-05-26\", \"2020-05-27\", \"2020-05-28\", \"2020-05-29\", \"2020-05-30\", \"2020-05-31\", \"2020-06-01\", \"2020-06-02\", \"2020-06-03\", \"2020-06-04\", \"2020-06-05\", \"2020-06-06\", \"2020-06-07\", \"2020-06-08\", \"2020-06-09\", \"2020-06-10\", \"2020-06-11\", \"2020-06-12\", \"2020-06-13\", \"2020-06-14\", \"2020-06-15\", \"2020-06-16\", \"2020-06-17\", \"2020-06-18\", \"2020-06-19\", \"2020-06-20\", \"2020-06-21\", \"2020-06-22\", \"2020-06-23\", \"2020-06-24\", \"2020-06-25\", \"2020-06-26\", \"2020-06-27\", \"2020-06-28\", \"2020-06-29\", \"2020-06-30\", \"2020-07-01\", \"2020-07-02\", \"2020-07-03\", \"2020-07-04\", \"2020-07-05\", \"2020-07-06\", \"2020-07-07\", \"2020-07-08\", \"2020-07-09\", \"2020-07-10\", \"2020-07-11\", \"2020-07-12\", \"2020-07-13\", \"2020-07-14\", \"2020-07-15\", \"2020-07-16\", \"2020-07-17\", \"2020-07-18\", \"2020-07-19\", \"2020-07-20\", \"2020-07-21\", \"2020-07-22\", \"2020-07-23\", \"2020-07-24\", \"2020-07-25\", \"2020-07-26\", \"2020-07-27\", \"2020-07-28\", \"2020-07-29\", \"2020-07-30\", \"2020-07-31\", \"2020-08-01\", \"2020-08-02\", \"2020-08-03\", \"2020-08-04\", \"2020-08-05\", \"2020-08-06\", \"2020-08-07\", \"2020-08-08\", \"2020-08-09\", \"2020-08-10\", \"2020-08-11\", \"2020-08-12\", \"2020-08-13\", \"2020-08-14\", \"2020-08-15\", \"2020-08-16\", \"2020-08-17\", \"2020-08-18\", \"2020-08-19\", \"2020-08-20\", \"2020-08-21\", \"2020-08-22\", \"2020-08-23\", \"2020-08-24\", \"2020-08-25\", \"2020-08-26\", \"2020-08-27\", \"2020-08-28\", \"2020-08-29\", \"2020-08-30\", \"2020-08-31\", \"2020-09-01\", \"2020-09-02\", \"2020-09-03\", \"2020-09-04\", \"2020-09-05\", \"2020-09-06\", \"2020-09-07\", \"2020-09-08\", \"2020-09-09\", \"2020-09-10\", \"2020-09-11\", \"2020-09-12\", \"2020-09-13\", \"2020-09-14\", \"2020-09-15\"], \"y\": [null, 8.0, 10.0, 17.0, 14.0, 13.0, 5.0, 11.0, 3.0, 3.0, 7.0, 6.0, 3.0, 1.0, 2.0, 19.0, 13.0, 4.0, 9.0, 12.0, 11.0, 12.0, 12.0, 5.0, 16.0, 19.0, 3.0, 11.0, 9.0, 5.0, 3.0, 7.0, 10.0, 13.0, 6.0, 9.0, 4.0, 16.0, 11.0, 15.0, 11.0, 14.0, 23.0, 6.0, 28.0, 26.0, 5.0, 3.0, 2.0, 11.0, 21.0, 19.0, 11.0, 11.0, 28.0, 25.0, 25.0, 19.0, 38.0, 14.0, 18.0, 7.0, 31.0, 13.0, 19.0, 5.0, 16.0, 14.0, 22.0, 37.0, 24.0, 15.0, 1.0, 43.0, 15.0, 11.0, 49.0, 53.0, 14.0, 27.0, 29.0, 14.0, 34.0, 39.0, 28.0, 55.0, 19.0, 45.0, 44.0, 45.0, 47.0, 37.0, 61.0, 59.0, 34.0, 34.0, 24.0, 47.0, 38.0, 41.0, 33.0, 46.0, 27.0, 37.0, 17.0, 38.0, 20.0, 36.0, 27.0, 19.0, 10.0, 32.0, 25.0, 26.0, 18.0, 10.0, 27.0, 9.0, 22.0, 21.0, 27.0, 17.0, 12.0, 41.0, 33.0, 33.0, 24.0, 44.0, 19.0, 66.0, 21.0, 38.0, 62.0, 23.0, 31.0, 29.0, 29.0, 43.0, 23.0, 39.0, 48.0, 27.0, 10.0, 11.0, 4.0, 18.0, 36.0, 49.0, 47.0, 49.0, 27.0, 28.0]}, {\"mode\": \"lines\", \"name\": \"Georgia (No Mask Mandate)\", \"type\": \"scatter\", \"x\": [\"2020-04-17\", \"2020-04-18\", \"2020-04-19\", \"2020-04-20\", \"2020-04-21\", \"2020-04-22\", \"2020-04-23\", \"2020-04-24\", \"2020-04-25\", \"2020-04-26\", \"2020-04-27\", \"2020-04-28\", \"2020-04-29\", \"2020-04-30\", \"2020-05-01\", \"2020-05-02\", \"2020-05-03\", \"2020-05-04\", \"2020-05-05\", \"2020-05-06\", \"2020-05-07\", \"2020-05-08\", \"2020-05-09\", \"2020-05-10\", \"2020-05-11\", \"2020-05-12\", \"2020-05-13\", \"2020-05-14\", \"2020-05-15\", \"2020-05-16\", \"2020-05-17\", \"2020-05-18\", \"2020-05-19\", \"2020-05-20\", \"2020-05-21\", \"2020-05-22\", \"2020-05-23\", \"2020-05-24\", \"2020-05-25\", \"2020-05-26\", \"2020-05-27\", \"2020-05-28\", \"2020-05-29\", \"2020-05-30\", \"2020-05-31\", \"2020-06-01\", \"2020-06-02\", \"2020-06-03\", \"2020-06-04\", \"2020-06-05\", \"2020-06-06\", \"2020-06-07\", \"2020-06-08\", \"2020-06-09\", \"2020-06-10\", \"2020-06-11\", \"2020-06-12\", \"2020-06-13\", \"2020-06-14\", \"2020-06-15\", \"2020-06-16\", \"2020-06-17\", \"2020-06-18\", \"2020-06-19\", \"2020-06-20\", \"2020-06-21\", \"2020-06-22\", \"2020-06-23\", \"2020-06-24\", \"2020-06-25\", \"2020-06-26\", \"2020-06-27\", \"2020-06-28\", \"2020-06-29\", \"2020-06-30\", \"2020-07-01\", \"2020-07-02\", \"2020-07-03\", \"2020-07-04\", \"2020-07-05\", \"2020-07-06\", \"2020-07-07\", \"2020-07-08\", \"2020-07-09\", \"2020-07-10\", \"2020-07-11\", \"2020-07-12\", \"2020-07-13\", \"2020-07-14\", \"2020-07-15\", \"2020-07-16\", \"2020-07-17\", \"2020-07-18\", \"2020-07-19\", \"2020-07-20\", \"2020-07-21\", \"2020-07-22\", \"2020-07-23\", \"2020-07-24\", \"2020-07-25\", \"2020-07-26\", \"2020-07-27\", \"2020-07-28\", \"2020-07-29\", \"2020-07-30\", \"2020-07-31\", \"2020-08-01\", \"2020-08-02\", \"2020-08-03\", \"2020-08-04\", \"2020-08-05\", \"2020-08-06\", \"2020-08-07\", \"2020-08-08\", \"2020-08-09\", \"2020-08-10\", \"2020-08-11\", \"2020-08-12\", \"2020-08-13\", \"2020-08-14\", \"2020-08-15\", \"2020-08-16\", \"2020-08-17\", \"2020-08-18\", \"2020-08-19\", \"2020-08-20\", \"2020-08-21\", \"2020-08-22\", \"2020-08-23\", \"2020-08-24\", \"2020-08-25\", \"2020-08-26\", \"2020-08-27\", \"2020-08-28\", \"2020-08-29\", \"2020-08-30\", \"2020-08-31\", \"2020-09-01\", \"2020-09-02\", \"2020-09-03\", \"2020-09-04\", \"2020-09-05\", \"2020-09-06\", \"2020-09-07\", \"2020-09-08\", \"2020-09-09\", \"2020-09-10\", \"2020-09-11\", \"2020-09-12\", \"2020-09-13\", \"2020-09-14\", \"2020-09-15\"], \"y\": [null, 5.0, 7.0, 10.0, 7.0, 15.0, 1.0, 6.0, 6.0, 4.0, 8.0, 14.0, 6.0, 1.0, 8.0, 2.0, 10.0, 0.0, 2.0, 4.0, 5.0, 4.0, 3.0, 1.0, 4.0, 7.0, 4.0, 12.0, 0.0, 1.0, 1.0, 0.0, 10.0, 7.0, 5.0, 14.0, 7.0, -2.0, 6.0, 4.0, 8.0, 7.0, 3.0, 1.0, 1.0, 12.0, 6.0, 10.0, 5.0, 4.0, 2.0, 6.0, 1.0, 8.0, 8.0, 10.0, 5.0, 7.0, 1.0, 3.0, 16.0, 6.0, 5.0, 22.0, 2.0, 1.0, 2.0, 9.0, 4.0, 20.0, 10.0, 4.0, 2.0, 2.0, 15.0, 18.0, 13.0, 62.0, 15.0, 2.0, 12.0, 40.0, 12.0, 7.0, 17.0, 18.0, 6.0, 9.0, 15.0, 34.0, 8.0, 9.0, 14.0, 11.0, 0.0, 30.0, 5.0, 8.0, 28.0, 25.0, 9.0, 7.0, 38.0, 24.0, 35.0, 23.0, 34.0, 19.0, 4.0, 33.0, 33.0, 38.0, 19.0, 34.0, 14.0, 3.0, 50.0, 44.0, 39.0, 47.0, 31.0, 26.0, 9.0, 36.0, 14.0, 46.0, 32.0, 28.0, 10.0, 9.0, 52.0, 45.0, 41.0, 42.0, 34.0, 4.0, 18.0, 48.0, 27.0, 31.0, 22.0, 34.0, 14.0, 6.0, 10.0, 23.0, 32.0, 21.0, 27.0, 12.0, 6.0, 26.0]}, {\"mode\": \"lines\", \"name\": \"Alabama (Mask Mandate)\", \"type\": \"scatter\", \"x\": [\"2020-04-17\", \"2020-04-18\", \"2020-04-19\", \"2020-04-20\", \"2020-04-21\", \"2020-04-22\", \"2020-04-23\", \"2020-04-24\", \"2020-04-25\", \"2020-04-26\", \"2020-04-27\", \"2020-04-28\", \"2020-04-29\", \"2020-04-30\", \"2020-05-01\", \"2020-05-02\", \"2020-05-03\", \"2020-05-04\", \"2020-05-05\", \"2020-05-06\", \"2020-05-07\", \"2020-05-08\", \"2020-05-09\", \"2020-05-10\", \"2020-05-11\", \"2020-05-12\", \"2020-05-13\", \"2020-05-14\", \"2020-05-15\", \"2020-05-16\", \"2020-05-17\", \"2020-05-18\", \"2020-05-19\", \"2020-05-20\", \"2020-05-21\", \"2020-05-22\", \"2020-05-23\", \"2020-05-24\", \"2020-05-25\", \"2020-05-26\", \"2020-05-27\", \"2020-05-28\", \"2020-05-29\", \"2020-05-30\", \"2020-05-31\", \"2020-06-01\", \"2020-06-02\", \"2020-06-03\", \"2020-06-04\", \"2020-06-05\", \"2020-06-06\", \"2020-06-07\", \"2020-06-08\", \"2020-06-09\", \"2020-06-10\", \"2020-06-11\", \"2020-06-12\", \"2020-06-13\", \"2020-06-14\", \"2020-06-15\", \"2020-06-16\", \"2020-06-17\", \"2020-06-18\", \"2020-06-19\", \"2020-06-20\", \"2020-06-21\", \"2020-06-22\", \"2020-06-23\", \"2020-06-24\", \"2020-06-25\", \"2020-06-26\", \"2020-06-27\", \"2020-06-28\", \"2020-06-29\", \"2020-06-30\", \"2020-07-01\", \"2020-07-02\", \"2020-07-03\", \"2020-07-04\", \"2020-07-05\", \"2020-07-06\", \"2020-07-07\", \"2020-07-08\", \"2020-07-09\", \"2020-07-10\", \"2020-07-11\", \"2020-07-12\", \"2020-07-13\", \"2020-07-14\", \"2020-07-15\", \"2020-07-16\", \"2020-07-17\", \"2020-07-18\", \"2020-07-19\", \"2020-07-20\", \"2020-07-21\", \"2020-07-22\", \"2020-07-23\", \"2020-07-24\", \"2020-07-25\", \"2020-07-26\", \"2020-07-27\", \"2020-07-28\", \"2020-07-29\", \"2020-07-30\", \"2020-07-31\", \"2020-08-01\", \"2020-08-02\", \"2020-08-03\", \"2020-08-04\", \"2020-08-05\", \"2020-08-06\", \"2020-08-07\", \"2020-08-08\", \"2020-08-09\", \"2020-08-10\", \"2020-08-11\", \"2020-08-12\", \"2020-08-13\", \"2020-08-14\", \"2020-08-15\", \"2020-08-16\", \"2020-08-17\", \"2020-08-18\", \"2020-08-19\", \"2020-08-20\", \"2020-08-21\", \"2020-08-22\", \"2020-08-23\", \"2020-08-24\", \"2020-08-25\", \"2020-08-26\", \"2020-08-27\", \"2020-08-28\", \"2020-08-29\", \"2020-08-30\", \"2020-08-31\", \"2020-09-01\", \"2020-09-02\", \"2020-09-03\", \"2020-09-04\", \"2020-09-05\", \"2020-09-06\", \"2020-09-07\", \"2020-09-08\", \"2020-09-09\", \"2020-09-10\", \"2020-09-11\", \"2020-09-12\", \"2020-09-13\", \"2020-09-14\", \"2020-09-15\"], \"y\": [null, null, null, null, null, null, null, 11.142857142857142, 10.428571428571429, 9.428571428571429, 8.0, 6.857142857142857, 5.428571428571429, 4.857142857142857, 3.5714285714285716, 5.857142857142857, 7.285714285714286, 6.857142857142857, 7.285714285714286, 8.571428571428571, 10.0, 11.428571428571429, 10.428571428571429, 9.285714285714286, 11.0, 12.428571428571429, 11.142857142857142, 11.142857142857142, 10.714285714285714, 9.714285714285714, 9.428571428571429, 8.142857142857142, 6.857142857142857, 8.285714285714286, 7.571428571428571, 7.571428571428571, 7.428571428571429, 9.285714285714286, 9.857142857142858, 10.571428571428571, 10.285714285714286, 11.428571428571429, 13.428571428571429, 13.714285714285714, 15.428571428571429, 17.571428571428573, 16.142857142857142, 15.0, 13.285714285714286, 11.571428571428571, 13.714285714285714, 12.428571428571429, 10.285714285714286, 11.142857142857142, 14.714285714285714, 18.0, 20.0, 19.714285714285715, 22.428571428571427, 22.857142857142858, 23.857142857142858, 20.857142857142858, 21.714285714285715, 20.0, 20.0, 15.285714285714286, 15.571428571428571, 15.0, 17.142857142857142, 18.0, 19.571428571428573, 19.0, 18.428571428571427, 22.285714285714285, 22.428571428571427, 20.857142857142858, 22.571428571428573, 26.714285714285715, 26.571428571428573, 30.285714285714285, 28.285714285714285, 28.142857142857142, 31.428571428571427, 30.0, 26.428571428571427, 32.285714285714285, 31.142857142857142, 33.42857142857143, 37.714285714285715, 39.285714285714285, 40.42857142857143, 41.714285714285715, 42.57142857142857, 48.285714285714285, 46.714285714285715, 45.285714285714285, 42.285714285714285, 42.285714285714285, 42.42857142857143, 39.57142857142857, 35.857142857142854, 37.57142857142857, 36.57142857142857, 38.42857142857143, 34.142857142857146, 34.142857142857146, 31.142857142857142, 31.571428571428573, 28.857142857142858, 27.714285714285715, 23.857142857142858, 26.0, 24.142857142857142, 25.0, 22.428571428571427, 20.0, 21.142857142857142, 21.0, 19.571428571428573, 19.0, 19.142857142857142, 19.0, 19.285714285714285, 21.285714285714285, 24.714285714285715, 26.285714285714285, 26.714285714285715, 29.142857142857142, 29.428571428571427, 37.142857142857146, 34.285714285714285, 35.0, 39.142857142857146, 39.0, 37.142857142857146, 38.57142857142857, 33.285714285714285, 36.42857142857143, 34.285714285714285, 31.0, 34.57142857142857, 34.0, 31.285714285714285, 28.714285714285715, 23.142857142857142, 22.428571428571427, 22.0, 22.142857142857142, 25.0, 30.571428571428573, 32.857142857142854, 36.285714285714285]}, {\"mode\": \"lines\", \"name\": \"Georgia (No Mask Mandate)\", \"type\": \"scatter\", \"x\": [\"2020-04-17\", \"2020-04-18\", \"2020-04-19\", \"2020-04-20\", \"2020-04-21\", \"2020-04-22\", \"2020-04-23\", \"2020-04-24\", \"2020-04-25\", \"2020-04-26\", \"2020-04-27\", \"2020-04-28\", \"2020-04-29\", \"2020-04-30\", \"2020-05-01\", \"2020-05-02\", \"2020-05-03\", \"2020-05-04\", \"2020-05-05\", \"2020-05-06\", \"2020-05-07\", \"2020-05-08\", \"2020-05-09\", \"2020-05-10\", \"2020-05-11\", \"2020-05-12\", \"2020-05-13\", \"2020-05-14\", \"2020-05-15\", \"2020-05-16\", \"2020-05-17\", \"2020-05-18\", \"2020-05-19\", \"2020-05-20\", \"2020-05-21\", \"2020-05-22\", \"2020-05-23\", \"2020-05-24\", \"2020-05-25\", \"2020-05-26\", \"2020-05-27\", \"2020-05-28\", \"2020-05-29\", \"2020-05-30\", \"2020-05-31\", \"2020-06-01\", \"2020-06-02\", \"2020-06-03\", \"2020-06-04\", \"2020-06-05\", \"2020-06-06\", \"2020-06-07\", \"2020-06-08\", \"2020-06-09\", \"2020-06-10\", \"2020-06-11\", \"2020-06-12\", \"2020-06-13\", \"2020-06-14\", \"2020-06-15\", \"2020-06-16\", \"2020-06-17\", \"2020-06-18\", \"2020-06-19\", \"2020-06-20\", \"2020-06-21\", \"2020-06-22\", \"2020-06-23\", \"2020-06-24\", \"2020-06-25\", \"2020-06-26\", \"2020-06-27\", \"2020-06-28\", \"2020-06-29\", \"2020-06-30\", \"2020-07-01\", \"2020-07-02\", \"2020-07-03\", \"2020-07-04\", \"2020-07-05\", \"2020-07-06\", \"2020-07-07\", \"2020-07-08\", \"2020-07-09\", \"2020-07-10\", \"2020-07-11\", \"2020-07-12\", \"2020-07-13\", \"2020-07-14\", \"2020-07-15\", \"2020-07-16\", \"2020-07-17\", \"2020-07-18\", \"2020-07-19\", \"2020-07-20\", \"2020-07-21\", \"2020-07-22\", \"2020-07-23\", \"2020-07-24\", \"2020-07-25\", \"2020-07-26\", \"2020-07-27\", \"2020-07-28\", \"2020-07-29\", \"2020-07-30\", \"2020-07-31\", \"2020-08-01\", \"2020-08-02\", \"2020-08-03\", \"2020-08-04\", \"2020-08-05\", \"2020-08-06\", \"2020-08-07\", \"2020-08-08\", \"2020-08-09\", \"2020-08-10\", \"2020-08-11\", \"2020-08-12\", \"2020-08-13\", \"2020-08-14\", \"2020-08-15\", \"2020-08-16\", \"2020-08-17\", \"2020-08-18\", \"2020-08-19\", \"2020-08-20\", \"2020-08-21\", \"2020-08-22\", \"2020-08-23\", \"2020-08-24\", \"2020-08-25\", \"2020-08-26\", \"2020-08-27\", \"2020-08-28\", \"2020-08-29\", \"2020-08-30\", \"2020-08-31\", \"2020-09-01\", \"2020-09-02\", \"2020-09-03\", \"2020-09-04\", \"2020-09-05\", \"2020-09-06\", \"2020-09-07\", \"2020-09-08\", \"2020-09-09\", \"2020-09-10\", \"2020-09-11\", \"2020-09-12\", \"2020-09-13\", \"2020-09-14\", \"2020-09-15\"], \"y\": [null, null, null, null, null, null, null, 7.285714285714286, 7.428571428571429, 7.0, 6.714285714285714, 7.714285714285714, 6.428571428571429, 6.428571428571429, 6.714285714285714, 6.142857142857143, 7.0, 5.857142857142857, 4.142857142857143, 3.857142857142857, 4.428571428571429, 3.857142857142857, 4.0, 2.7142857142857144, 3.2857142857142856, 4.0, 4.0, 5.0, 4.428571428571429, 4.142857142857143, 4.142857142857143, 3.5714285714285716, 4.0, 4.428571428571429, 3.4285714285714284, 5.428571428571429, 6.285714285714286, 5.857142857142857, 6.714285714285714, 5.857142857142857, 6.0, 6.285714285714286, 4.714285714285714, 3.857142857142857, 4.285714285714286, 5.142857142857143, 5.428571428571429, 5.714285714285714, 5.428571428571429, 5.571428571428571, 5.714285714285714, 6.428571428571429, 4.857142857142857, 5.142857142857143, 4.857142857142857, 5.571428571428571, 5.714285714285714, 6.428571428571429, 5.714285714285714, 6.0, 7.142857142857143, 6.857142857142857, 6.142857142857143, 8.571428571428571, 7.857142857142857, 7.857142857142857, 7.714285714285714, 6.714285714285714, 6.428571428571429, 8.571428571428571, 6.857142857142857, 7.142857142857143, 7.285714285714286, 7.285714285714286, 8.142857142857142, 10.142857142857142, 9.142857142857142, 16.571428571428573, 18.142857142857142, 18.142857142857142, 19.571428571428573, 23.142857142857142, 22.285714285714285, 21.428571428571427, 15.0, 15.428571428571429, 16.0, 15.571428571428571, 12.0, 15.142857142857142, 15.285714285714286, 14.142857142857142, 13.571428571428571, 14.285714285714286, 13.0, 15.142857142857142, 11.0, 11.0, 13.714285714285714, 15.285714285714286, 15.0, 16.0, 17.142857142857142, 19.857142857142858, 23.714285714285715, 23.0, 24.285714285714285, 25.714285714285715, 25.285714285714285, 24.571428571428573, 25.857142857142858, 26.285714285714285, 25.714285714285715, 25.714285714285715, 25.0, 24.857142857142858, 27.285714285714285, 28.857142857142858, 29.0, 33.0, 32.57142857142857, 34.285714285714285, 35.142857142857146, 33.142857142857146, 28.857142857142858, 29.857142857142858, 27.714285714285715, 27.285714285714285, 25.0, 25.0, 27.285714285714285, 31.714285714285715, 31.0, 32.42857142857143, 33.285714285714285, 32.42857142857143, 33.714285714285715, 33.142857142857146, 30.571428571428573, 29.142857142857142, 26.285714285714285, 26.285714285714285, 27.714285714285715, 26.0, 20.571428571428573, 20.0, 20.142857142857142, 20.0, 19.0, 18.714285714285715, 18.714285714285715, 21.0]}, {\"mode\": \"lines\", \"name\": \"Alabama (Mask Mandate)\", \"type\": \"scatter\", \"x\": [\"2020-04-17\", \"2020-04-18\", \"2020-04-19\", \"2020-04-20\", \"2020-04-21\", \"2020-04-22\", \"2020-04-23\", \"2020-04-24\", \"2020-04-25\", \"2020-04-26\", \"2020-04-27\", \"2020-04-28\", \"2020-04-29\", \"2020-04-30\", \"2020-05-01\", \"2020-05-02\", \"2020-05-03\", \"2020-05-04\", \"2020-05-05\", \"2020-05-06\", \"2020-05-07\", \"2020-05-08\", \"2020-05-09\", \"2020-05-10\", \"2020-05-11\", \"2020-05-12\", \"2020-05-13\", \"2020-05-14\", \"2020-05-15\", \"2020-05-16\", \"2020-05-17\", \"2020-05-18\", \"2020-05-19\", \"2020-05-20\", \"2020-05-21\", \"2020-05-22\", \"2020-05-23\", \"2020-05-24\", \"2020-05-25\", \"2020-05-26\", \"2020-05-27\", \"2020-05-28\", \"2020-05-29\", \"2020-05-30\", \"2020-05-31\", \"2020-06-01\", \"2020-06-02\", \"2020-06-03\", \"2020-06-04\", \"2020-06-05\", \"2020-06-06\", \"2020-06-07\", \"2020-06-08\", \"2020-06-09\", \"2020-06-10\", \"2020-06-11\", \"2020-06-12\", \"2020-06-13\", \"2020-06-14\", \"2020-06-15\", \"2020-06-16\", \"2020-06-17\", \"2020-06-18\", \"2020-06-19\", \"2020-06-20\", \"2020-06-21\", \"2020-06-22\", \"2020-06-23\", \"2020-06-24\", \"2020-06-25\", \"2020-06-26\", \"2020-06-27\", \"2020-06-28\", \"2020-06-29\", \"2020-06-30\", \"2020-07-01\", \"2020-07-02\", \"2020-07-03\", \"2020-07-04\", \"2020-07-05\", \"2020-07-06\", \"2020-07-07\", \"2020-07-08\", \"2020-07-09\", \"2020-07-10\", \"2020-07-11\", \"2020-07-12\", \"2020-07-13\", \"2020-07-14\", \"2020-07-15\", \"2020-07-16\", \"2020-07-17\", \"2020-07-18\", \"2020-07-19\", \"2020-07-20\", \"2020-07-21\", \"2020-07-22\", \"2020-07-23\", \"2020-07-24\", \"2020-07-25\", \"2020-07-26\", \"2020-07-27\", \"2020-07-28\", \"2020-07-29\", \"2020-07-30\", \"2020-07-31\", \"2020-08-01\", \"2020-08-02\", \"2020-08-03\", \"2020-08-04\", \"2020-08-05\", \"2020-08-06\", \"2020-08-07\", \"2020-08-08\", \"2020-08-09\", \"2020-08-10\", \"2020-08-11\", \"2020-08-12\", \"2020-08-13\", \"2020-08-14\", \"2020-08-15\", \"2020-08-16\", \"2020-08-17\", \"2020-08-18\", \"2020-08-19\", \"2020-08-20\", \"2020-08-21\", \"2020-08-22\", \"2020-08-23\", \"2020-08-24\", \"2020-08-25\", \"2020-08-26\", \"2020-08-27\", \"2020-08-28\", \"2020-08-29\", \"2020-08-30\", \"2020-08-31\", \"2020-09-01\", \"2020-09-02\", \"2020-09-03\", \"2020-09-04\", \"2020-09-05\", \"2020-09-06\", \"2020-09-07\", \"2020-09-08\", \"2020-09-09\", \"2020-09-10\", \"2020-09-11\", \"2020-09-12\", \"2020-09-13\", \"2020-09-14\", \"2020-09-15\"], \"y\": [null, null, null, null, null, null, null, null, null, null, null, null, null, null, 7.357142857142857, 8.142857142857142, 8.357142857142858, 7.428571428571429, 7.071428571428571, 7.0, 7.428571428571429, 7.5, 8.142857142857142, 8.285714285714286, 8.928571428571429, 9.857142857142858, 9.857142857142858, 10.571428571428571, 11.071428571428571, 10.071428571428571, 9.357142857142858, 9.571428571428571, 9.642857142857142, 9.714285714285714, 9.357142857142858, 9.142857142857142, 8.571428571428571, 9.357142857142858, 9.0, 8.714285714285714, 9.285714285714286, 9.5, 10.5, 10.571428571428571, 12.357142857142858, 13.714285714285714, 13.357142857142858, 12.642857142857142, 12.357142857142858, 12.5, 13.714285714285714, 13.928571428571429, 13.928571428571429, 13.642857142857142, 14.857142857142858, 15.642857142857142, 15.785714285714286, 16.714285714285715, 17.428571428571427, 16.571428571428573, 17.5, 17.785714285714285, 19.857142857142858, 20.0, 19.857142857142858, 18.857142857142858, 19.214285714285715, 19.428571428571427, 19.0, 19.857142857142858, 19.785714285714285, 19.5, 16.857142857142858, 18.928571428571427, 18.714285714285715, 19.0, 20.285714285714285, 23.142857142857142, 22.785714285714285, 24.357142857142858, 25.285714285714285, 25.285714285714285, 26.142857142857142, 26.285714285714285, 26.571428571428573, 29.428571428571427, 30.714285714285715, 30.857142857142858, 32.92857142857143, 35.357142857142854, 35.214285714285715, 34.07142857142857, 37.42857142857143, 39.714285714285715, 40.07142857142857, 41.5, 40.785714285714285, 41.357142857142854, 42.07142857142857, 41.07142857142857, 42.07142857142857, 42.142857142857146, 40.92857142857143, 40.357142857142854, 38.214285714285715, 38.285714285714285, 35.357142857142854, 33.714285714285715, 33.214285714285715, 32.142857142857146, 31.142857142857142, 30.071428571428573, 29.142857142857142, 28.071428571428573, 27.0, 24.428571428571427, 24.428571428571427, 22.428571428571427, 22.785714285714285, 21.571428571428573, 22.071428571428573, 20.714285714285715, 19.642857142857142, 21.214285714285715, 22.857142857142858, 22.928571428571427, 22.857142857142858, 24.142857142857142, 24.214285714285715, 28.214285714285715, 27.785714285714285, 29.857142857142858, 32.714285714285715, 32.857142857142854, 33.142857142857146, 34.0, 35.214285714285715, 35.357142857142854, 34.642857142857146, 35.07142857142857, 36.785714285714285, 35.57142857142857, 34.92857142857143, 31.0, 29.785714285714285, 28.357142857142858, 26.5, 28.357142857142858, 29.5, 30.928571428571427, 30.785714285714285, 29.714285714285715]}, {\"mode\": \"lines\", \"name\": \"Georgia (No Mask Mandate)\", \"type\": \"scatter\", \"x\": [\"2020-04-17\", \"2020-04-18\", \"2020-04-19\", \"2020-04-20\", \"2020-04-21\", \"2020-04-22\", \"2020-04-23\", \"2020-04-24\", \"2020-04-25\", \"2020-04-26\", \"2020-04-27\", \"2020-04-28\", \"2020-04-29\", \"2020-04-30\", \"2020-05-01\", \"2020-05-02\", \"2020-05-03\", \"2020-05-04\", \"2020-05-05\", \"2020-05-06\", \"2020-05-07\", \"2020-05-08\", \"2020-05-09\", \"2020-05-10\", \"2020-05-11\", \"2020-05-12\", \"2020-05-13\", \"2020-05-14\", \"2020-05-15\", \"2020-05-16\", \"2020-05-17\", \"2020-05-18\", \"2020-05-19\", \"2020-05-20\", \"2020-05-21\", \"2020-05-22\", \"2020-05-23\", \"2020-05-24\", \"2020-05-25\", \"2020-05-26\", \"2020-05-27\", \"2020-05-28\", \"2020-05-29\", \"2020-05-30\", \"2020-05-31\", \"2020-06-01\", \"2020-06-02\", \"2020-06-03\", \"2020-06-04\", \"2020-06-05\", \"2020-06-06\", \"2020-06-07\", \"2020-06-08\", \"2020-06-09\", \"2020-06-10\", \"2020-06-11\", \"2020-06-12\", \"2020-06-13\", \"2020-06-14\", \"2020-06-15\", \"2020-06-16\", \"2020-06-17\", \"2020-06-18\", \"2020-06-19\", \"2020-06-20\", \"2020-06-21\", \"2020-06-22\", \"2020-06-23\", \"2020-06-24\", \"2020-06-25\", \"2020-06-26\", \"2020-06-27\", \"2020-06-28\", \"2020-06-29\", \"2020-06-30\", \"2020-07-01\", \"2020-07-02\", \"2020-07-03\", \"2020-07-04\", \"2020-07-05\", \"2020-07-06\", \"2020-07-07\", \"2020-07-08\", \"2020-07-09\", \"2020-07-10\", \"2020-07-11\", \"2020-07-12\", \"2020-07-13\", \"2020-07-14\", \"2020-07-15\", \"2020-07-16\", \"2020-07-17\", \"2020-07-18\", \"2020-07-19\", \"2020-07-20\", \"2020-07-21\", \"2020-07-22\", \"2020-07-23\", \"2020-07-24\", \"2020-07-25\", \"2020-07-26\", \"2020-07-27\", \"2020-07-28\", \"2020-07-29\", \"2020-07-30\", \"2020-07-31\", \"2020-08-01\", \"2020-08-02\", \"2020-08-03\", \"2020-08-04\", \"2020-08-05\", \"2020-08-06\", \"2020-08-07\", \"2020-08-08\", \"2020-08-09\", \"2020-08-10\", \"2020-08-11\", \"2020-08-12\", \"2020-08-13\", \"2020-08-14\", \"2020-08-15\", \"2020-08-16\", \"2020-08-17\", \"2020-08-18\", \"2020-08-19\", \"2020-08-20\", \"2020-08-21\", \"2020-08-22\", \"2020-08-23\", \"2020-08-24\", \"2020-08-25\", \"2020-08-26\", \"2020-08-27\", \"2020-08-28\", \"2020-08-29\", \"2020-08-30\", \"2020-08-31\", \"2020-09-01\", \"2020-09-02\", \"2020-09-03\", \"2020-09-04\", \"2020-09-05\", \"2020-09-06\", \"2020-09-07\", \"2020-09-08\", \"2020-09-09\", \"2020-09-10\", \"2020-09-11\", \"2020-09-12\", \"2020-09-13\", \"2020-09-14\", \"2020-09-15\"], \"y\": [null, null, null, null, null, null, null, null, null, null, null, null, null, null, 7.0, 6.785714285714286, 7.0, 6.285714285714286, 5.928571428571429, 5.142857142857143, 5.428571428571429, 5.285714285714286, 5.071428571428571, 4.857142857142857, 4.571428571428571, 4.071428571428571, 3.9285714285714284, 4.714285714285714, 4.142857142857143, 4.071428571428571, 3.4285714285714284, 3.4285714285714284, 4.0, 4.214285714285714, 4.214285714285714, 4.928571428571429, 5.214285714285714, 5.0, 5.142857142857143, 4.928571428571429, 5.214285714285714, 4.857142857142857, 5.071428571428571, 5.071428571428571, 5.071428571428571, 5.928571428571429, 5.642857142857143, 5.857142857142857, 5.857142857142857, 5.142857142857143, 4.785714285714286, 5.357142857142857, 5.0, 5.285714285714286, 5.285714285714286, 5.5, 5.642857142857143, 6.071428571428571, 6.071428571428571, 5.428571428571429, 6.142857142857143, 5.857142857142857, 5.857142857142857, 7.142857142857143, 7.142857142857143, 6.785714285714286, 6.857142857142857, 6.928571428571429, 6.642857142857143, 7.357142857142857, 7.714285714285714, 7.5, 7.571428571428571, 7.5, 7.428571428571429, 8.285714285714286, 8.857142857142858, 11.714285714285714, 12.642857142857142, 12.714285714285714, 13.428571428571429, 15.642857142857142, 16.214285714285715, 15.285714285714286, 15.785714285714286, 16.785714285714285, 17.071428571428573, 17.571428571428573, 17.571428571428573, 18.714285714285715, 18.357142857142858, 14.571428571428571, 14.5, 15.142857142857142, 14.285714285714286, 13.571428571428571, 13.071428571428571, 13.142857142857142, 13.928571428571429, 14.428571428571429, 14.642857142857142, 14.5, 16.142857142857142, 15.428571428571429, 17.357142857142858, 18.357142857142858, 19.785714285714285, 20.357142857142858, 20.642857142857142, 20.857142857142858, 22.857142857142858, 25.0, 24.357142857142858, 25.0, 25.357142857142858, 25.071428571428573, 25.928571428571427, 27.357142857142858, 27.642857142857142, 29.357142857142858, 29.142857142857142, 29.642857142857142, 30.0, 30.214285714285715, 28.857142857142858, 29.428571428571427, 30.357142857142858, 29.928571428571427, 29.642857142857142, 30.071428571428573, 30.214285714285715, 30.285714285714285, 30.428571428571427, 30.071428571428573, 30.285714285714285, 28.714285714285715, 29.357142857142858, 30.214285714285715, 31.142857142857142, 30.071428571428573, 29.357142857142858, 29.785714285714285, 30.071428571428573, 29.857142857142858, 26.857142857142858, 25.285714285714285, 24.642857142857142, 23.142857142857142, 22.642857142857142, 23.214285714285715, 22.357142857142858, 20.785714285714285]}, {\"mode\": \"lines\", \"name\": \"Alabama (Mask Mandate)\", \"type\": \"scatter\", \"x\": [\"2020-04-17\", \"2020-04-18\", \"2020-04-19\", \"2020-04-20\", \"2020-04-21\", \"2020-04-22\", \"2020-04-23\", \"2020-04-24\", \"2020-04-25\", \"2020-04-26\", \"2020-04-27\", \"2020-04-28\", \"2020-04-29\", \"2020-04-30\", \"2020-05-01\", \"2020-05-02\", \"2020-05-03\", \"2020-05-04\", \"2020-05-05\", \"2020-05-06\", \"2020-05-07\", \"2020-05-08\", \"2020-05-09\", \"2020-05-10\", \"2020-05-11\", \"2020-05-12\", \"2020-05-13\", \"2020-05-14\", \"2020-05-15\", \"2020-05-16\", \"2020-05-17\", \"2020-05-18\", \"2020-05-19\", \"2020-05-20\", \"2020-05-21\", \"2020-05-22\", \"2020-05-23\", \"2020-05-24\", \"2020-05-25\", \"2020-05-26\", \"2020-05-27\", \"2020-05-28\", \"2020-05-29\", \"2020-05-30\", \"2020-05-31\", \"2020-06-01\", \"2020-06-02\", \"2020-06-03\", \"2020-06-04\", \"2020-06-05\", \"2020-06-06\", \"2020-06-07\", \"2020-06-08\", \"2020-06-09\", \"2020-06-10\", \"2020-06-11\", \"2020-06-12\", \"2020-06-13\", \"2020-06-14\", \"2020-06-15\", \"2020-06-16\", \"2020-06-17\", \"2020-06-18\", \"2020-06-19\", \"2020-06-20\", \"2020-06-21\", \"2020-06-22\", \"2020-06-23\", \"2020-06-24\", \"2020-06-25\", \"2020-06-26\", \"2020-06-27\", \"2020-06-28\", \"2020-06-29\", \"2020-06-30\", \"2020-07-01\", \"2020-07-02\", \"2020-07-03\", \"2020-07-04\", \"2020-07-05\", \"2020-07-06\", \"2020-07-07\", \"2020-07-08\", \"2020-07-09\", \"2020-07-10\", \"2020-07-11\", \"2020-07-12\", \"2020-07-13\", \"2020-07-14\", \"2020-07-15\", \"2020-07-16\", \"2020-07-17\", \"2020-07-18\", \"2020-07-19\", \"2020-07-20\", \"2020-07-21\", \"2020-07-22\", \"2020-07-23\", \"2020-07-24\", \"2020-07-25\", \"2020-07-26\", \"2020-07-27\", \"2020-07-28\", \"2020-07-29\", \"2020-07-30\", \"2020-07-31\", \"2020-08-01\", \"2020-08-02\", \"2020-08-03\", \"2020-08-04\", \"2020-08-05\", \"2020-08-06\", \"2020-08-07\", \"2020-08-08\", \"2020-08-09\", \"2020-08-10\", \"2020-08-11\", \"2020-08-12\", \"2020-08-13\", \"2020-08-14\", \"2020-08-15\", \"2020-08-16\", \"2020-08-17\", \"2020-08-18\", \"2020-08-19\", \"2020-08-20\", \"2020-08-21\", \"2020-08-22\", \"2020-08-23\", \"2020-08-24\", \"2020-08-25\", \"2020-08-26\", \"2020-08-27\", \"2020-08-28\", \"2020-08-29\", \"2020-08-30\", \"2020-08-31\", \"2020-09-01\", \"2020-09-02\", \"2020-09-03\", \"2020-09-04\", \"2020-09-05\", \"2020-09-06\", \"2020-09-07\", \"2020-09-08\", \"2020-09-09\", \"2020-09-10\", \"2020-09-11\", \"2020-09-12\", \"2020-09-13\", \"2020-09-14\", \"2020-09-15\"], \"y\": [null, null, null, null, null, null, null, null, null, null, null, null, null, null, null, null, null, null, null, null, null, null, null, null, null, null, null, null, null, null, 8.866666666666667, 8.833333333333334, 8.833333333333334, 8.7, 8.433333333333334, 8.3, 8.266666666666667, 8.433333333333334, 8.7, 9.1, 9.233333333333333, 9.5, 10.166666666666666, 10.333333333333334, 11.2, 11.433333333333334, 11.166666666666666, 11.133333333333333, 10.9, 10.866666666666667, 11.2, 11.433333333333334, 11.4, 11.6, 12.0, 12.2, 12.933333333333334, 13.2, 14.166666666666666, 14.466666666666667, 14.966666666666667, 14.966666666666667, 15.666666666666666, 15.666666666666666, 16.1, 15.966666666666667, 16.366666666666667, 16.3, 16.666666666666668, 17.4, 17.833333333333332, 17.866666666666667, 17.133333333333333, 18.366666666666667, 17.933333333333334, 17.433333333333334, 18.9, 20.566666666666666, 20.966666666666665, 21.5, 21.766666666666666, 21.6, 22.366666666666667, 23.3, 23.3, 24.3, 24.1, 24.966666666666665, 25.166666666666668, 26.2, 27.166666666666668, 28.166666666666668, 29.166666666666668, 30.7, 31.2, 32.166666666666664, 32.43333333333333, 33.53333333333333, 34.06666666666667, 34.2, 34.5, 35.53333333333333, 36.4, 36.2, 36.266666666666666, 37.166666666666664, 36.2, 35.63333333333333, 36.06666666666667, 35.8, 35.166666666666664, 35.766666666666666, 35.46666666666667, 35.03333333333333, 34.7, 33.2, 33.46666666666667, 32.266666666666666, 31.533333333333335, 30.733333333333334, 30.066666666666666, 29.4, 27.766666666666666, 27.166666666666668, 27.133333333333333, 27.1, 27.1, 27.0, 26.366666666666667, 27.2, 26.8, 26.533333333333335, 27.7, 27.233333333333334, 27.7, 27.4, 27.7, 27.933333333333334, 27.8, 28.466666666666665, 29.733333333333334, 29.566666666666666, 29.066666666666666, 28.566666666666666, 28.1, 28.366666666666667, 28.666666666666668, 30.0, 30.833333333333332, 31.766666666666666, 31.766666666666666, 32.13333333333333]}, {\"mode\": \"lines\", \"name\": \"Georgia (No Mask Mandate)\", \"type\": \"scatter\", \"x\": [\"2020-04-17\", \"2020-04-18\", \"2020-04-19\", \"2020-04-20\", \"2020-04-21\", \"2020-04-22\", \"2020-04-23\", \"2020-04-24\", \"2020-04-25\", \"2020-04-26\", \"2020-04-27\", \"2020-04-28\", \"2020-04-29\", \"2020-04-30\", \"2020-05-01\", \"2020-05-02\", \"2020-05-03\", \"2020-05-04\", \"2020-05-05\", \"2020-05-06\", \"2020-05-07\", \"2020-05-08\", \"2020-05-09\", \"2020-05-10\", \"2020-05-11\", \"2020-05-12\", \"2020-05-13\", \"2020-05-14\", \"2020-05-15\", \"2020-05-16\", \"2020-05-17\", \"2020-05-18\", \"2020-05-19\", \"2020-05-20\", \"2020-05-21\", \"2020-05-22\", \"2020-05-23\", \"2020-05-24\", \"2020-05-25\", \"2020-05-26\", \"2020-05-27\", \"2020-05-28\", \"2020-05-29\", \"2020-05-30\", \"2020-05-31\", \"2020-06-01\", \"2020-06-02\", \"2020-06-03\", \"2020-06-04\", \"2020-06-05\", \"2020-06-06\", \"2020-06-07\", \"2020-06-08\", \"2020-06-09\", \"2020-06-10\", \"2020-06-11\", \"2020-06-12\", \"2020-06-13\", \"2020-06-14\", \"2020-06-15\", \"2020-06-16\", \"2020-06-17\", \"2020-06-18\", \"2020-06-19\", \"2020-06-20\", \"2020-06-21\", \"2020-06-22\", \"2020-06-23\", \"2020-06-24\", \"2020-06-25\", \"2020-06-26\", \"2020-06-27\", \"2020-06-28\", \"2020-06-29\", \"2020-06-30\", \"2020-07-01\", \"2020-07-02\", \"2020-07-03\", \"2020-07-04\", \"2020-07-05\", \"2020-07-06\", \"2020-07-07\", \"2020-07-08\", \"2020-07-09\", \"2020-07-10\", \"2020-07-11\", \"2020-07-12\", \"2020-07-13\", \"2020-07-14\", \"2020-07-15\", \"2020-07-16\", \"2020-07-17\", \"2020-07-18\", \"2020-07-19\", \"2020-07-20\", \"2020-07-21\", \"2020-07-22\", \"2020-07-23\", \"2020-07-24\", \"2020-07-25\", \"2020-07-26\", \"2020-07-27\", \"2020-07-28\", \"2020-07-29\", \"2020-07-30\", \"2020-07-31\", \"2020-08-01\", \"2020-08-02\", \"2020-08-03\", \"2020-08-04\", \"2020-08-05\", \"2020-08-06\", \"2020-08-07\", \"2020-08-08\", \"2020-08-09\", \"2020-08-10\", \"2020-08-11\", \"2020-08-12\", \"2020-08-13\", \"2020-08-14\", \"2020-08-15\", \"2020-08-16\", \"2020-08-17\", \"2020-08-18\", \"2020-08-19\", \"2020-08-20\", \"2020-08-21\", \"2020-08-22\", \"2020-08-23\", \"2020-08-24\", \"2020-08-25\", \"2020-08-26\", \"2020-08-27\", \"2020-08-28\", \"2020-08-29\", \"2020-08-30\", \"2020-08-31\", \"2020-09-01\", \"2020-09-02\", \"2020-09-03\", \"2020-09-04\", \"2020-09-05\", \"2020-09-06\", \"2020-09-07\", \"2020-09-08\", \"2020-09-09\", \"2020-09-10\", \"2020-09-11\", \"2020-09-12\", \"2020-09-13\", \"2020-09-14\", \"2020-09-15\"], \"y\": [null, null, null, null, null, null, null, null, null, null, null, null, null, null, null, null, null, null, null, null, null, null, null, null, null, null, null, null, null, null, 5.266666666666667, 5.1, 5.2, 5.1, 5.033333333333333, 5.0, 5.2, 4.933333333333334, 4.933333333333334, 4.933333333333334, 4.933333333333334, 4.7, 4.6, 4.6, 4.366666666666666, 4.7, 4.566666666666666, 4.9, 5.0, 5.0, 4.9, 4.966666666666667, 4.9, 5.133333333333334, 5.266666666666667, 5.366666666666666, 5.4, 5.233333333333333, 5.266666666666667, 5.333333333333333, 5.833333333333333, 6.033333333333333, 5.866666666666666, 6.366666666666666, 6.266666666666667, 5.833333333333333, 5.666666666666667, 6.033333333333333, 5.966666666666667, 6.5, 6.566666666666666, 6.466666666666667, 6.433333333333334, 6.466666666666667, 6.933333333333334, 7.133333333333334, 7.366666666666666, 9.1, 9.433333333333334, 9.366666666666667, 9.7, 10.833333333333334, 11.2, 11.166666666666666, 11.466666666666667, 11.733333333333333, 11.766666666666667, 11.833333333333334, 12.3, 13.333333333333334, 13.066666666666666, 13.166666666666666, 13.466666666666667, 13.1, 13.033333333333333, 14.0, 14.1, 14.066666666666666, 14.866666666666667, 15.033333333333333, 15.0, 15.1, 16.3, 17.033333333333335, 17.7, 17.866666666666667, 18.566666666666666, 17.133333333333333, 16.766666666666666, 17.8, 18.5, 18.433333333333334, 18.666666666666668, 19.566666666666666, 19.466666666666665, 18.966666666666665, 20.433333333333334, 21.6, 22.4, 22.833333333333332, 23.6, 24.166666666666668, 24.0, 24.833333333333332, 25.3, 25.833333333333332, 26.733333333333334, 27.4, 26.8, 26.266666666666666, 27.7, 28.966666666666665, 29.066666666666666, 29.666666666666668, 29.633333333333333, 29.0, 28.466666666666665, 29.433333333333334, 30.2, 30.133333333333333, 29.766666666666666, 29.633333333333333, 29.466666666666665, 28.533333333333335, 28.4, 29.066666666666666, 28.466666666666665, 27.7, 27.3, 26.133333333333333, 25.3, 25.3]}],\n",
       "                        {\"template\": {\"data\": {\"bar\": [{\"error_x\": {\"color\": \"#2a3f5f\"}, \"error_y\": {\"color\": \"#2a3f5f\"}, \"marker\": {\"line\": {\"color\": \"#E5ECF6\", \"width\": 0.5}}, \"type\": \"bar\"}], \"barpolar\": [{\"marker\": {\"line\": {\"color\": \"#E5ECF6\", \"width\": 0.5}}, \"type\": \"barpolar\"}], \"carpet\": [{\"aaxis\": {\"endlinecolor\": \"#2a3f5f\", \"gridcolor\": \"white\", \"linecolor\": \"white\", \"minorgridcolor\": \"white\", \"startlinecolor\": \"#2a3f5f\"}, \"baxis\": {\"endlinecolor\": \"#2a3f5f\", \"gridcolor\": \"white\", \"linecolor\": \"white\", \"minorgridcolor\": \"white\", \"startlinecolor\": \"#2a3f5f\"}, \"type\": \"carpet\"}], \"choropleth\": [{\"colorbar\": {\"outlinewidth\": 0, \"ticks\": \"\"}, \"type\": \"choropleth\"}], \"contour\": [{\"colorbar\": {\"outlinewidth\": 0, \"ticks\": \"\"}, \"colorscale\": [[0.0, \"#0d0887\"], [0.1111111111111111, \"#46039f\"], [0.2222222222222222, \"#7201a8\"], [0.3333333333333333, \"#9c179e\"], [0.4444444444444444, \"#bd3786\"], [0.5555555555555556, \"#d8576b\"], [0.6666666666666666, \"#ed7953\"], [0.7777777777777778, \"#fb9f3a\"], [0.8888888888888888, \"#fdca26\"], [1.0, \"#f0f921\"]], \"type\": \"contour\"}], \"contourcarpet\": [{\"colorbar\": {\"outlinewidth\": 0, \"ticks\": \"\"}, \"type\": \"contourcarpet\"}], \"heatmap\": [{\"colorbar\": {\"outlinewidth\": 0, \"ticks\": \"\"}, \"colorscale\": [[0.0, \"#0d0887\"], [0.1111111111111111, \"#46039f\"], [0.2222222222222222, \"#7201a8\"], [0.3333333333333333, \"#9c179e\"], [0.4444444444444444, \"#bd3786\"], [0.5555555555555556, \"#d8576b\"], [0.6666666666666666, \"#ed7953\"], [0.7777777777777778, \"#fb9f3a\"], [0.8888888888888888, \"#fdca26\"], [1.0, \"#f0f921\"]], \"type\": \"heatmap\"}], \"heatmapgl\": [{\"colorbar\": {\"outlinewidth\": 0, \"ticks\": \"\"}, \"colorscale\": [[0.0, \"#0d0887\"], [0.1111111111111111, \"#46039f\"], [0.2222222222222222, \"#7201a8\"], [0.3333333333333333, \"#9c179e\"], [0.4444444444444444, \"#bd3786\"], [0.5555555555555556, \"#d8576b\"], [0.6666666666666666, \"#ed7953\"], [0.7777777777777778, \"#fb9f3a\"], [0.8888888888888888, \"#fdca26\"], [1.0, \"#f0f921\"]], \"type\": \"heatmapgl\"}], \"histogram\": [{\"marker\": {\"colorbar\": {\"outlinewidth\": 0, \"ticks\": \"\"}}, \"type\": \"histogram\"}], \"histogram2d\": [{\"colorbar\": {\"outlinewidth\": 0, \"ticks\": \"\"}, \"colorscale\": [[0.0, \"#0d0887\"], [0.1111111111111111, \"#46039f\"], [0.2222222222222222, \"#7201a8\"], [0.3333333333333333, \"#9c179e\"], [0.4444444444444444, \"#bd3786\"], [0.5555555555555556, \"#d8576b\"], [0.6666666666666666, \"#ed7953\"], [0.7777777777777778, \"#fb9f3a\"], [0.8888888888888888, \"#fdca26\"], [1.0, \"#f0f921\"]], \"type\": \"histogram2d\"}], \"histogram2dcontour\": [{\"colorbar\": {\"outlinewidth\": 0, \"ticks\": \"\"}, \"colorscale\": [[0.0, \"#0d0887\"], [0.1111111111111111, \"#46039f\"], [0.2222222222222222, \"#7201a8\"], [0.3333333333333333, \"#9c179e\"], [0.4444444444444444, \"#bd3786\"], [0.5555555555555556, \"#d8576b\"], [0.6666666666666666, \"#ed7953\"], [0.7777777777777778, \"#fb9f3a\"], [0.8888888888888888, \"#fdca26\"], [1.0, \"#f0f921\"]], \"type\": \"histogram2dcontour\"}], \"mesh3d\": [{\"colorbar\": {\"outlinewidth\": 0, \"ticks\": \"\"}, \"type\": \"mesh3d\"}], \"parcoords\": [{\"line\": {\"colorbar\": {\"outlinewidth\": 0, \"ticks\": \"\"}}, \"type\": \"parcoords\"}], \"pie\": [{\"automargin\": true, \"type\": \"pie\"}], \"scatter\": [{\"marker\": {\"colorbar\": {\"outlinewidth\": 0, \"ticks\": \"\"}}, \"type\": \"scatter\"}], \"scatter3d\": [{\"line\": {\"colorbar\": {\"outlinewidth\": 0, \"ticks\": \"\"}}, \"marker\": {\"colorbar\": {\"outlinewidth\": 0, \"ticks\": \"\"}}, \"type\": \"scatter3d\"}], \"scattercarpet\": [{\"marker\": {\"colorbar\": {\"outlinewidth\": 0, \"ticks\": \"\"}}, \"type\": \"scattercarpet\"}], \"scattergeo\": [{\"marker\": {\"colorbar\": {\"outlinewidth\": 0, \"ticks\": \"\"}}, \"type\": \"scattergeo\"}], \"scattergl\": [{\"marker\": {\"colorbar\": {\"outlinewidth\": 0, \"ticks\": \"\"}}, \"type\": \"scattergl\"}], \"scattermapbox\": [{\"marker\": {\"colorbar\": {\"outlinewidth\": 0, \"ticks\": \"\"}}, \"type\": \"scattermapbox\"}], \"scatterpolar\": [{\"marker\": {\"colorbar\": {\"outlinewidth\": 0, \"ticks\": \"\"}}, \"type\": \"scatterpolar\"}], \"scatterpolargl\": [{\"marker\": {\"colorbar\": {\"outlinewidth\": 0, \"ticks\": \"\"}}, \"type\": \"scatterpolargl\"}], \"scatterternary\": [{\"marker\": {\"colorbar\": {\"outlinewidth\": 0, \"ticks\": \"\"}}, \"type\": \"scatterternary\"}], \"surface\": [{\"colorbar\": {\"outlinewidth\": 0, \"ticks\": \"\"}, \"colorscale\": [[0.0, \"#0d0887\"], [0.1111111111111111, \"#46039f\"], [0.2222222222222222, \"#7201a8\"], [0.3333333333333333, \"#9c179e\"], [0.4444444444444444, \"#bd3786\"], [0.5555555555555556, \"#d8576b\"], [0.6666666666666666, \"#ed7953\"], [0.7777777777777778, \"#fb9f3a\"], [0.8888888888888888, \"#fdca26\"], [1.0, \"#f0f921\"]], \"type\": \"surface\"}], \"table\": [{\"cells\": {\"fill\": {\"color\": \"#EBF0F8\"}, \"line\": {\"color\": \"white\"}}, \"header\": {\"fill\": {\"color\": \"#C8D4E3\"}, \"line\": {\"color\": \"white\"}}, \"type\": \"table\"}]}, \"layout\": {\"annotationdefaults\": {\"arrowcolor\": \"#2a3f5f\", \"arrowhead\": 0, \"arrowwidth\": 1}, \"coloraxis\": {\"colorbar\": {\"outlinewidth\": 0, \"ticks\": \"\"}}, \"colorscale\": {\"diverging\": [[0, \"#8e0152\"], [0.1, \"#c51b7d\"], [0.2, \"#de77ae\"], [0.3, \"#f1b6da\"], [0.4, \"#fde0ef\"], [0.5, \"#f7f7f7\"], [0.6, \"#e6f5d0\"], [0.7, \"#b8e186\"], [0.8, \"#7fbc41\"], [0.9, \"#4d9221\"], [1, \"#276419\"]], \"sequential\": [[0.0, \"#0d0887\"], [0.1111111111111111, \"#46039f\"], [0.2222222222222222, \"#7201a8\"], [0.3333333333333333, \"#9c179e\"], [0.4444444444444444, \"#bd3786\"], [0.5555555555555556, \"#d8576b\"], [0.6666666666666666, \"#ed7953\"], [0.7777777777777778, \"#fb9f3a\"], [0.8888888888888888, \"#fdca26\"], [1.0, \"#f0f921\"]], \"sequentialminus\": [[0.0, \"#0d0887\"], [0.1111111111111111, \"#46039f\"], [0.2222222222222222, \"#7201a8\"], [0.3333333333333333, \"#9c179e\"], [0.4444444444444444, \"#bd3786\"], [0.5555555555555556, \"#d8576b\"], [0.6666666666666666, \"#ed7953\"], [0.7777777777777778, \"#fb9f3a\"], [0.8888888888888888, \"#fdca26\"], [1.0, \"#f0f921\"]]}, \"colorway\": [\"#636efa\", \"#EF553B\", \"#00cc96\", \"#ab63fa\", \"#FFA15A\", \"#19d3f3\", \"#FF6692\", \"#B6E880\", \"#FF97FF\", \"#FECB52\"], \"font\": {\"color\": \"#2a3f5f\"}, \"geo\": {\"bgcolor\": \"white\", \"lakecolor\": \"white\", \"landcolor\": \"#E5ECF6\", \"showlakes\": true, \"showland\": true, \"subunitcolor\": \"white\"}, \"hoverlabel\": {\"align\": \"left\"}, \"hovermode\": \"closest\", \"mapbox\": {\"style\": \"light\"}, \"paper_bgcolor\": \"white\", \"plot_bgcolor\": \"#E5ECF6\", \"polar\": {\"angularaxis\": {\"gridcolor\": \"white\", \"linecolor\": \"white\", \"ticks\": \"\"}, \"bgcolor\": \"#E5ECF6\", \"radialaxis\": {\"gridcolor\": \"white\", \"linecolor\": \"white\", \"ticks\": \"\"}}, \"scene\": {\"xaxis\": {\"backgroundcolor\": \"#E5ECF6\", \"gridcolor\": \"white\", \"gridwidth\": 2, \"linecolor\": \"white\", \"showbackground\": true, \"ticks\": \"\", \"zerolinecolor\": \"white\"}, \"yaxis\": {\"backgroundcolor\": \"#E5ECF6\", \"gridcolor\": \"white\", \"gridwidth\": 2, \"linecolor\": \"white\", \"showbackground\": true, \"ticks\": \"\", \"zerolinecolor\": \"white\"}, \"zaxis\": {\"backgroundcolor\": \"#E5ECF6\", \"gridcolor\": \"white\", \"gridwidth\": 2, \"linecolor\": \"white\", \"showbackground\": true, \"ticks\": \"\", \"zerolinecolor\": \"white\"}}, \"shapedefaults\": {\"line\": {\"color\": \"#2a3f5f\"}}, \"ternary\": {\"aaxis\": {\"gridcolor\": \"white\", \"linecolor\": \"white\", \"ticks\": \"\"}, \"baxis\": {\"gridcolor\": \"white\", \"linecolor\": \"white\", \"ticks\": \"\"}, \"bgcolor\": \"#E5ECF6\", \"caxis\": {\"gridcolor\": \"white\", \"linecolor\": \"white\", \"ticks\": \"\"}}, \"title\": {\"x\": 0.05}, \"xaxis\": {\"automargin\": true, \"gridcolor\": \"white\", \"linecolor\": \"white\", \"ticks\": \"\", \"title\": {\"standoff\": 15}, \"zerolinecolor\": \"white\", \"zerolinewidth\": 2}, \"yaxis\": {\"automargin\": true, \"gridcolor\": \"white\", \"linecolor\": \"white\", \"ticks\": \"\", \"title\": {\"standoff\": 15}, \"zerolinecolor\": \"white\", \"zerolinewidth\": 2}}}, \"title\": {\"text\": \"Georgia vs Alabama Transmission Rates (Change in New Cases)\"}, \"updatemenus\": [{\"active\": 0, \"buttons\": [{\"args\": [{\"visible\": [true, true, false, false, false, false, false, false]}, {\"annotations\": [], \"title\": \"1 Day Moving Average\"}], \"label\": \"1 Day Moving Average\", \"method\": \"update\"}, {\"args\": [{\"visible\": [false, false, true, true, false, false, false, false]}, {\"annotations\": [], \"title\": \"7 Day Moving Average\"}], \"label\": \"7 Day Moving Average\", \"method\": \"update\"}, {\"args\": [{\"visible\": [false, false, false, false, true, true, false, false]}, {\"annotations\": [], \"title\": \"14 Day Moving Average\"}], \"label\": \"14 Day Moving Average\", \"method\": \"update\"}, {\"args\": [{\"visible\": [false, false, false, false, false, false, true, true]}, {\"annotations\": [], \"title\": \"30 Day Moving Average\"}], \"label\": \"30 Day Moving Average\", \"method\": \"update\"}]}], \"xaxis\": {\"ticktext\": [\"May 16th\", \"June 16th\", \"July 16th: Mandate Initiated\", \"August 16th\", \"September 16th\"], \"tickvals\": [\"2020-05-16\", \"2020-06-16\", \"2020-07-16\", \"2020-08-16\", \"2020-09-15\"]}},\n",
       "                        {\"responsive\": true}\n",
       "                    ).then(function(){\n",
       "                            \n",
       "var gd = document.getElementById('48f7186d-c866-43b9-bbbe-6fe95db228ce');\n",
       "var x = new MutationObserver(function (mutations, observer) {{\n",
       "        var display = window.getComputedStyle(gd).display;\n",
       "        if (!display || display === 'none') {{\n",
       "            console.log([gd, 'removed!']);\n",
       "            Plotly.purge(gd);\n",
       "            observer.disconnect();\n",
       "        }}\n",
       "}});\n",
       "\n",
       "// Listen for the removal of the full notebook cells\n",
       "var notebookContainer = gd.closest('#notebook-container');\n",
       "if (notebookContainer) {{\n",
       "    x.observe(notebookContainer, {childList: true});\n",
       "}}\n",
       "\n",
       "// Listen for the clearing of the current output cell\n",
       "var outputEl = gd.closest('.output');\n",
       "if (outputEl) {{\n",
       "    x.observe(outputEl, {childList: true});\n",
       "}}\n",
       "\n",
       "                        })\n",
       "                };\n",
       "                });\n",
       "            </script>\n",
       "        </div>"
      ]
     },
     "metadata": {},
     "output_type": "display_data"
    }
   ],
   "source": [
    "# import plotly.graph_objects as go\n",
    "import pandas as pd\n",
    "\n",
    "data_GA = agg_GA.groupby(\"date\").sum().diff().rolling(1).mean()\n",
    "data_AL = agg_AL.groupby(\"date\").sum().diff().rolling(1).mean()\n",
    "\n",
    "\n",
    "\n",
    "# Create figure and add line\n",
    "fig = go.Figure()\n",
    "\n",
    "\n",
    "rolling_means = [1,7,14,30]\n",
    "trace_view = np.array([False for _ in range(8)])\n",
    "\n",
    "buttons = []\n",
    "\n",
    "for i,rm in enumerate(rolling_means):\n",
    "    \n",
    "    data_GA = agg_GA.groupby(\"date\").sum().diff().rolling(rm).mean()\n",
    "    data_AL = agg_AL.groupby(\"date\").sum().diff().rolling(rm).mean()\n",
    "    \n",
    "    fig.add_trace(go.Scatter(\n",
    "        x=data_AL.index,\n",
    "        y=data_AL.cases,\n",
    "        mode=\"lines\",\n",
    "        name = \"Alabama (Mask Mandate)\"\n",
    "    ))\n",
    "\n",
    "    fig.add_trace(go.Scatter(\n",
    "        x=data_GA.index,\n",
    "        y=data_GA.cases,\n",
    "        mode=\"lines\",\n",
    "        name = \"Georgia (No Mask Mandate)\"\n",
    "    ))\n",
    "    \n",
    "    view = trace_view.copy()\n",
    "    view[i*2:i*2+2] = True\n",
    "    \n",
    "    buttons.append(dict(label=str(rm) + \" Day Moving Average\",\n",
    "         method=\"update\",\n",
    "         args=[{\"visible\": view},\n",
    "               {\"title\": str(rm) + \" Day Moving Average\",\n",
    "                \"annotations\": []}]) ) \n",
    "    \n",
    "fig.update_layout(\n",
    "    updatemenus=[\n",
    "        dict(\n",
    "            active=0,\n",
    "            buttons=buttons\n",
    "        )\n",
    "    ])\n",
    "\n",
    "\n",
    "# Set custom x-axis labels\n",
    "fig.update_xaxes(\n",
    "    ticktext=[\"May 16th\", \"June 16th\",\"July 16th: Mandate Initiated\", \"August 16th\", \"September 16th\"],\n",
    "    tickvals=[\"2020-05-16\",\"2020-06-16\", \"2020-07-16\", \"2020-08-16\", data_AL.index.max()],\n",
    ")\n",
    "\n",
    "# Set figure title\n",
    "fig.update_layout(title_text=\"Georgia vs Alabama Transmission Rates (Change in New Cases)\")\n",
    "\n",
    "fig.show()"
   ]
  },
  {
   "cell_type": "code",
   "execution_count": 83,
   "metadata": {},
   "outputs": [
    {
     "data": {
      "application/vnd.plotly.v1+json": {
       "config": {
        "plotlyServerURL": "https://plot.ly"
       },
       "data": [
        {
         "mode": "lines",
         "name": "Alabama (Mask Mandate)",
         "type": "scatter",
         "x": [
          16,
          17,
          18,
          19,
          20,
          21,
          22,
          23,
          24,
          25,
          26,
          27,
          28,
          29,
          30,
          31,
          32,
          33,
          34,
          35,
          36,
          37
         ],
         "y": [
          null,
          1798,
          293,
          447,
          529,
          386,
          593,
          698,
          814,
          1012,
          859,
          1202,
          1454,
          1984,
          2061,
          1705,
          1246,
          972,
          1238,
          1822,
          1644,
          1218
         ]
        },
        {
         "mode": "lines",
         "name": "Georgia (No Mask Mandate)",
         "type": "scatter",
         "x": [
          16,
          17,
          18,
          19,
          20,
          21,
          22,
          23,
          24,
          25,
          26,
          27,
          28,
          29,
          30,
          31,
          32,
          33,
          34,
          35,
          36,
          37
         ],
         "y": [
          null,
          1260,
          330,
          202,
          203,
          231,
          264,
          276,
          268,
          353,
          355,
          613,
          930,
          700,
          659,
          1048,
          1249,
          1469,
          1449,
          1492,
          1448,
          1011
         ]
        },
        {
         "mode": "lines",
         "name": "Alabama (Mask Mandate)",
         "type": "scatter",
         "x": [
          16,
          17,
          18,
          19,
          20,
          21,
          22,
          23,
          24,
          25,
          26,
          27,
          28,
          29,
          30,
          31,
          32,
          33,
          34,
          35,
          36,
          37
         ],
         "y": [
          null,
          1798,
          293,
          447,
          529,
          386,
          593,
          698,
          814,
          1012,
          859,
          1202,
          1454,
          1984,
          2061,
          1705,
          1246,
          972,
          1238,
          1822,
          1644,
          1218
         ]
        },
        {
         "mode": "lines",
         "name": "Georgia (No Mask Mandate)",
         "type": "scatter",
         "x": [
          16,
          17,
          18,
          19,
          20,
          21,
          22,
          23,
          24,
          25,
          26,
          27,
          28,
          29,
          30,
          31,
          32,
          33,
          34,
          35,
          36,
          37
         ],
         "y": [
          null,
          1260,
          330,
          202,
          203,
          231,
          264,
          276,
          268,
          353,
          355,
          613,
          930,
          700,
          659,
          1048,
          1249,
          1469,
          1449,
          1492,
          1448,
          1011
         ]
        },
        {
         "mode": "lines",
         "name": "Alabama (Mask Mandate)",
         "type": "scatter",
         "x": [
          16,
          17,
          18,
          19,
          20,
          21,
          22,
          23,
          24,
          25,
          26,
          27,
          28,
          29,
          30,
          31,
          32,
          33,
          34,
          35,
          36,
          37
         ],
         "y": [
          null,
          1798,
          293,
          447,
          529,
          386,
          593,
          698,
          814,
          1012,
          859,
          1202,
          1454,
          1984,
          2061,
          1705,
          1246,
          972,
          1238,
          1822,
          1644,
          1218
         ]
        },
        {
         "mode": "lines",
         "name": "Georgia (No Mask Mandate)",
         "type": "scatter",
         "x": [
          16,
          17,
          18,
          19,
          20,
          21,
          22,
          23,
          24,
          25,
          26,
          27,
          28,
          29,
          30,
          31,
          32,
          33,
          34,
          35,
          36,
          37
         ],
         "y": [
          null,
          1260,
          330,
          202,
          203,
          231,
          264,
          276,
          268,
          353,
          355,
          613,
          930,
          700,
          659,
          1048,
          1249,
          1469,
          1449,
          1492,
          1448,
          1011
         ]
        },
        {
         "mode": "lines",
         "name": "Alabama (Mask Mandate)",
         "type": "scatter",
         "x": [
          16,
          17,
          18,
          19,
          20,
          21,
          22,
          23,
          24,
          25,
          26,
          27,
          28,
          29,
          30,
          31,
          32,
          33,
          34,
          35,
          36,
          37
         ],
         "y": [
          null,
          1798,
          293,
          447,
          529,
          386,
          593,
          698,
          814,
          1012,
          859,
          1202,
          1454,
          1984,
          2061,
          1705,
          1246,
          972,
          1238,
          1822,
          1644,
          1218
         ]
        },
        {
         "mode": "lines",
         "name": "Georgia (No Mask Mandate)",
         "type": "scatter",
         "x": [
          16,
          17,
          18,
          19,
          20,
          21,
          22,
          23,
          24,
          25,
          26,
          27,
          28,
          29,
          30,
          31,
          32,
          33,
          34,
          35,
          36,
          37
         ],
         "y": [
          null,
          1260,
          330,
          202,
          203,
          231,
          264,
          276,
          268,
          353,
          355,
          613,
          930,
          700,
          659,
          1048,
          1249,
          1469,
          1449,
          1492,
          1448,
          1011
         ]
        }
       ],
       "layout": {
        "template": {
         "data": {
          "bar": [
           {
            "error_x": {
             "color": "#2a3f5f"
            },
            "error_y": {
             "color": "#2a3f5f"
            },
            "marker": {
             "line": {
              "color": "#E5ECF6",
              "width": 0.5
             }
            },
            "type": "bar"
           }
          ],
          "barpolar": [
           {
            "marker": {
             "line": {
              "color": "#E5ECF6",
              "width": 0.5
             }
            },
            "type": "barpolar"
           }
          ],
          "carpet": [
           {
            "aaxis": {
             "endlinecolor": "#2a3f5f",
             "gridcolor": "white",
             "linecolor": "white",
             "minorgridcolor": "white",
             "startlinecolor": "#2a3f5f"
            },
            "baxis": {
             "endlinecolor": "#2a3f5f",
             "gridcolor": "white",
             "linecolor": "white",
             "minorgridcolor": "white",
             "startlinecolor": "#2a3f5f"
            },
            "type": "carpet"
           }
          ],
          "choropleth": [
           {
            "colorbar": {
             "outlinewidth": 0,
             "ticks": ""
            },
            "type": "choropleth"
           }
          ],
          "contour": [
           {
            "colorbar": {
             "outlinewidth": 0,
             "ticks": ""
            },
            "colorscale": [
             [
              0,
              "#0d0887"
             ],
             [
              0.1111111111111111,
              "#46039f"
             ],
             [
              0.2222222222222222,
              "#7201a8"
             ],
             [
              0.3333333333333333,
              "#9c179e"
             ],
             [
              0.4444444444444444,
              "#bd3786"
             ],
             [
              0.5555555555555556,
              "#d8576b"
             ],
             [
              0.6666666666666666,
              "#ed7953"
             ],
             [
              0.7777777777777778,
              "#fb9f3a"
             ],
             [
              0.8888888888888888,
              "#fdca26"
             ],
             [
              1,
              "#f0f921"
             ]
            ],
            "type": "contour"
           }
          ],
          "contourcarpet": [
           {
            "colorbar": {
             "outlinewidth": 0,
             "ticks": ""
            },
            "type": "contourcarpet"
           }
          ],
          "heatmap": [
           {
            "colorbar": {
             "outlinewidth": 0,
             "ticks": ""
            },
            "colorscale": [
             [
              0,
              "#0d0887"
             ],
             [
              0.1111111111111111,
              "#46039f"
             ],
             [
              0.2222222222222222,
              "#7201a8"
             ],
             [
              0.3333333333333333,
              "#9c179e"
             ],
             [
              0.4444444444444444,
              "#bd3786"
             ],
             [
              0.5555555555555556,
              "#d8576b"
             ],
             [
              0.6666666666666666,
              "#ed7953"
             ],
             [
              0.7777777777777778,
              "#fb9f3a"
             ],
             [
              0.8888888888888888,
              "#fdca26"
             ],
             [
              1,
              "#f0f921"
             ]
            ],
            "type": "heatmap"
           }
          ],
          "heatmapgl": [
           {
            "colorbar": {
             "outlinewidth": 0,
             "ticks": ""
            },
            "colorscale": [
             [
              0,
              "#0d0887"
             ],
             [
              0.1111111111111111,
              "#46039f"
             ],
             [
              0.2222222222222222,
              "#7201a8"
             ],
             [
              0.3333333333333333,
              "#9c179e"
             ],
             [
              0.4444444444444444,
              "#bd3786"
             ],
             [
              0.5555555555555556,
              "#d8576b"
             ],
             [
              0.6666666666666666,
              "#ed7953"
             ],
             [
              0.7777777777777778,
              "#fb9f3a"
             ],
             [
              0.8888888888888888,
              "#fdca26"
             ],
             [
              1,
              "#f0f921"
             ]
            ],
            "type": "heatmapgl"
           }
          ],
          "histogram": [
           {
            "marker": {
             "colorbar": {
              "outlinewidth": 0,
              "ticks": ""
             }
            },
            "type": "histogram"
           }
          ],
          "histogram2d": [
           {
            "colorbar": {
             "outlinewidth": 0,
             "ticks": ""
            },
            "colorscale": [
             [
              0,
              "#0d0887"
             ],
             [
              0.1111111111111111,
              "#46039f"
             ],
             [
              0.2222222222222222,
              "#7201a8"
             ],
             [
              0.3333333333333333,
              "#9c179e"
             ],
             [
              0.4444444444444444,
              "#bd3786"
             ],
             [
              0.5555555555555556,
              "#d8576b"
             ],
             [
              0.6666666666666666,
              "#ed7953"
             ],
             [
              0.7777777777777778,
              "#fb9f3a"
             ],
             [
              0.8888888888888888,
              "#fdca26"
             ],
             [
              1,
              "#f0f921"
             ]
            ],
            "type": "histogram2d"
           }
          ],
          "histogram2dcontour": [
           {
            "colorbar": {
             "outlinewidth": 0,
             "ticks": ""
            },
            "colorscale": [
             [
              0,
              "#0d0887"
             ],
             [
              0.1111111111111111,
              "#46039f"
             ],
             [
              0.2222222222222222,
              "#7201a8"
             ],
             [
              0.3333333333333333,
              "#9c179e"
             ],
             [
              0.4444444444444444,
              "#bd3786"
             ],
             [
              0.5555555555555556,
              "#d8576b"
             ],
             [
              0.6666666666666666,
              "#ed7953"
             ],
             [
              0.7777777777777778,
              "#fb9f3a"
             ],
             [
              0.8888888888888888,
              "#fdca26"
             ],
             [
              1,
              "#f0f921"
             ]
            ],
            "type": "histogram2dcontour"
           }
          ],
          "mesh3d": [
           {
            "colorbar": {
             "outlinewidth": 0,
             "ticks": ""
            },
            "type": "mesh3d"
           }
          ],
          "parcoords": [
           {
            "line": {
             "colorbar": {
              "outlinewidth": 0,
              "ticks": ""
             }
            },
            "type": "parcoords"
           }
          ],
          "pie": [
           {
            "automargin": true,
            "type": "pie"
           }
          ],
          "scatter": [
           {
            "marker": {
             "colorbar": {
              "outlinewidth": 0,
              "ticks": ""
             }
            },
            "type": "scatter"
           }
          ],
          "scatter3d": [
           {
            "line": {
             "colorbar": {
              "outlinewidth": 0,
              "ticks": ""
             }
            },
            "marker": {
             "colorbar": {
              "outlinewidth": 0,
              "ticks": ""
             }
            },
            "type": "scatter3d"
           }
          ],
          "scattercarpet": [
           {
            "marker": {
             "colorbar": {
              "outlinewidth": 0,
              "ticks": ""
             }
            },
            "type": "scattercarpet"
           }
          ],
          "scattergeo": [
           {
            "marker": {
             "colorbar": {
              "outlinewidth": 0,
              "ticks": ""
             }
            },
            "type": "scattergeo"
           }
          ],
          "scattergl": [
           {
            "marker": {
             "colorbar": {
              "outlinewidth": 0,
              "ticks": ""
             }
            },
            "type": "scattergl"
           }
          ],
          "scattermapbox": [
           {
            "marker": {
             "colorbar": {
              "outlinewidth": 0,
              "ticks": ""
             }
            },
            "type": "scattermapbox"
           }
          ],
          "scatterpolar": [
           {
            "marker": {
             "colorbar": {
              "outlinewidth": 0,
              "ticks": ""
             }
            },
            "type": "scatterpolar"
           }
          ],
          "scatterpolargl": [
           {
            "marker": {
             "colorbar": {
              "outlinewidth": 0,
              "ticks": ""
             }
            },
            "type": "scatterpolargl"
           }
          ],
          "scatterternary": [
           {
            "marker": {
             "colorbar": {
              "outlinewidth": 0,
              "ticks": ""
             }
            },
            "type": "scatterternary"
           }
          ],
          "surface": [
           {
            "colorbar": {
             "outlinewidth": 0,
             "ticks": ""
            },
            "colorscale": [
             [
              0,
              "#0d0887"
             ],
             [
              0.1111111111111111,
              "#46039f"
             ],
             [
              0.2222222222222222,
              "#7201a8"
             ],
             [
              0.3333333333333333,
              "#9c179e"
             ],
             [
              0.4444444444444444,
              "#bd3786"
             ],
             [
              0.5555555555555556,
              "#d8576b"
             ],
             [
              0.6666666666666666,
              "#ed7953"
             ],
             [
              0.7777777777777778,
              "#fb9f3a"
             ],
             [
              0.8888888888888888,
              "#fdca26"
             ],
             [
              1,
              "#f0f921"
             ]
            ],
            "type": "surface"
           }
          ],
          "table": [
           {
            "cells": {
             "fill": {
              "color": "#EBF0F8"
             },
             "line": {
              "color": "white"
             }
            },
            "header": {
             "fill": {
              "color": "#C8D4E3"
             },
             "line": {
              "color": "white"
             }
            },
            "type": "table"
           }
          ]
         },
         "layout": {
          "annotationdefaults": {
           "arrowcolor": "#2a3f5f",
           "arrowhead": 0,
           "arrowwidth": 1
          },
          "coloraxis": {
           "colorbar": {
            "outlinewidth": 0,
            "ticks": ""
           }
          },
          "colorscale": {
           "diverging": [
            [
             0,
             "#8e0152"
            ],
            [
             0.1,
             "#c51b7d"
            ],
            [
             0.2,
             "#de77ae"
            ],
            [
             0.3,
             "#f1b6da"
            ],
            [
             0.4,
             "#fde0ef"
            ],
            [
             0.5,
             "#f7f7f7"
            ],
            [
             0.6,
             "#e6f5d0"
            ],
            [
             0.7,
             "#b8e186"
            ],
            [
             0.8,
             "#7fbc41"
            ],
            [
             0.9,
             "#4d9221"
            ],
            [
             1,
             "#276419"
            ]
           ],
           "sequential": [
            [
             0,
             "#0d0887"
            ],
            [
             0.1111111111111111,
             "#46039f"
            ],
            [
             0.2222222222222222,
             "#7201a8"
            ],
            [
             0.3333333333333333,
             "#9c179e"
            ],
            [
             0.4444444444444444,
             "#bd3786"
            ],
            [
             0.5555555555555556,
             "#d8576b"
            ],
            [
             0.6666666666666666,
             "#ed7953"
            ],
            [
             0.7777777777777778,
             "#fb9f3a"
            ],
            [
             0.8888888888888888,
             "#fdca26"
            ],
            [
             1,
             "#f0f921"
            ]
           ],
           "sequentialminus": [
            [
             0,
             "#0d0887"
            ],
            [
             0.1111111111111111,
             "#46039f"
            ],
            [
             0.2222222222222222,
             "#7201a8"
            ],
            [
             0.3333333333333333,
             "#9c179e"
            ],
            [
             0.4444444444444444,
             "#bd3786"
            ],
            [
             0.5555555555555556,
             "#d8576b"
            ],
            [
             0.6666666666666666,
             "#ed7953"
            ],
            [
             0.7777777777777778,
             "#fb9f3a"
            ],
            [
             0.8888888888888888,
             "#fdca26"
            ],
            [
             1,
             "#f0f921"
            ]
           ]
          },
          "colorway": [
           "#636efa",
           "#EF553B",
           "#00cc96",
           "#ab63fa",
           "#FFA15A",
           "#19d3f3",
           "#FF6692",
           "#B6E880",
           "#FF97FF",
           "#FECB52"
          ],
          "font": {
           "color": "#2a3f5f"
          },
          "geo": {
           "bgcolor": "white",
           "lakecolor": "white",
           "landcolor": "#E5ECF6",
           "showlakes": true,
           "showland": true,
           "subunitcolor": "white"
          },
          "hoverlabel": {
           "align": "left"
          },
          "hovermode": "closest",
          "mapbox": {
           "style": "light"
          },
          "paper_bgcolor": "white",
          "plot_bgcolor": "#E5ECF6",
          "polar": {
           "angularaxis": {
            "gridcolor": "white",
            "linecolor": "white",
            "ticks": ""
           },
           "bgcolor": "#E5ECF6",
           "radialaxis": {
            "gridcolor": "white",
            "linecolor": "white",
            "ticks": ""
           }
          },
          "scene": {
           "xaxis": {
            "backgroundcolor": "#E5ECF6",
            "gridcolor": "white",
            "gridwidth": 2,
            "linecolor": "white",
            "showbackground": true,
            "ticks": "",
            "zerolinecolor": "white"
           },
           "yaxis": {
            "backgroundcolor": "#E5ECF6",
            "gridcolor": "white",
            "gridwidth": 2,
            "linecolor": "white",
            "showbackground": true,
            "ticks": "",
            "zerolinecolor": "white"
           },
           "zaxis": {
            "backgroundcolor": "#E5ECF6",
            "gridcolor": "white",
            "gridwidth": 2,
            "linecolor": "white",
            "showbackground": true,
            "ticks": "",
            "zerolinecolor": "white"
           }
          },
          "shapedefaults": {
           "line": {
            "color": "#2a3f5f"
           }
          },
          "ternary": {
           "aaxis": {
            "gridcolor": "white",
            "linecolor": "white",
            "ticks": ""
           },
           "baxis": {
            "gridcolor": "white",
            "linecolor": "white",
            "ticks": ""
           },
           "bgcolor": "#E5ECF6",
           "caxis": {
            "gridcolor": "white",
            "linecolor": "white",
            "ticks": ""
           }
          },
          "title": {
           "x": 0.05
          },
          "xaxis": {
           "automargin": true,
           "gridcolor": "white",
           "linecolor": "white",
           "ticks": "",
           "title": {
            "standoff": 15
           },
           "zerolinecolor": "white",
           "zerolinewidth": 2
          },
          "yaxis": {
           "automargin": true,
           "gridcolor": "white",
           "linecolor": "white",
           "ticks": "",
           "title": {
            "standoff": 15
           },
           "zerolinecolor": "white",
           "zerolinewidth": 2
          }
         }
        },
        "title": {
         "text": "Georgia vs Alabama Transmission Rates (Change in New Cases)"
        },
        "updatemenus": [
         {
          "active": 0,
          "buttons": [
           {
            "args": [
             {
              "visible": [
               true,
               true,
               false,
               false,
               false,
               false,
               false,
               false
              ]
             },
             {
              "annotations": [],
              "title": "1 Day Moving Average"
             }
            ],
            "label": "1 Day Moving Average",
            "method": "update"
           },
           {
            "args": [
             {
              "visible": [
               false,
               false,
               true,
               true,
               false,
               false,
               false,
               false
              ]
             },
             {
              "annotations": [],
              "title": "7 Day Moving Average"
             }
            ],
            "label": "7 Day Moving Average",
            "method": "update"
           },
           {
            "args": [
             {
              "visible": [
               false,
               false,
               false,
               false,
               true,
               true,
               false,
               false
              ]
             },
             {
              "annotations": [],
              "title": "14 Day Moving Average"
             }
            ],
            "label": "14 Day Moving Average",
            "method": "update"
           },
           {
            "args": [
             {
              "visible": [
               false,
               false,
               false,
               false,
               false,
               false,
               true,
               true
              ]
             },
             {
              "annotations": [],
              "title": "30 Day Moving Average"
             }
            ],
            "label": "30 Day Moving Average",
            "method": "update"
           }
          ]
         }
        ],
        "xaxis": {
         "ticktext": [
          "May 16th",
          "June 16th",
          "July 16th: Mandate Initiated",
          "August 16th",
          "September 16th"
         ],
         "tickvals": [
          "2020-05-16",
          "2020-06-16",
          "2020-07-16",
          "2020-08-16",
          37
         ]
        }
       }
      },
      "text/html": [
       "<div>\n",
       "        \n",
       "        \n",
       "            <div id=\"349eff33-6728-4ba2-bf87-1fe769689193\" class=\"plotly-graph-div\" style=\"height:525px; width:100%;\"></div>\n",
       "            <script type=\"text/javascript\">\n",
       "                require([\"plotly\"], function(Plotly) {\n",
       "                    window.PLOTLYENV=window.PLOTLYENV || {};\n",
       "                    \n",
       "                if (document.getElementById(\"349eff33-6728-4ba2-bf87-1fe769689193\")) {\n",
       "                    Plotly.newPlot(\n",
       "                        '349eff33-6728-4ba2-bf87-1fe769689193',\n",
       "                        [{\"mode\": \"lines\", \"name\": \"Alabama (Mask Mandate)\", \"type\": \"scatter\", \"x\": [16, 17, 18, 19, 20, 21, 22, 23, 24, 25, 26, 27, 28, 29, 30, 31, 32, 33, 34, 35, 36, 37], \"y\": [null, 1798.0, 293.0, 447.0, 529.0, 386.0, 593.0, 698.0, 814.0, 1012.0, 859.0, 1202.0, 1454.0, 1984.0, 2061.0, 1705.0, 1246.0, 972.0, 1238.0, 1822.0, 1644.0, 1218.0]}, {\"mode\": \"lines\", \"name\": \"Georgia (No Mask Mandate)\", \"type\": \"scatter\", \"x\": [16, 17, 18, 19, 20, 21, 22, 23, 24, 25, 26, 27, 28, 29, 30, 31, 32, 33, 34, 35, 36, 37], \"y\": [null, 1260.0, 330.0, 202.0, 203.0, 231.0, 264.0, 276.0, 268.0, 353.0, 355.0, 613.0, 930.0, 700.0, 659.0, 1048.0, 1249.0, 1469.0, 1449.0, 1492.0, 1448.0, 1011.0]}, {\"mode\": \"lines\", \"name\": \"Alabama (Mask Mandate)\", \"type\": \"scatter\", \"x\": [16, 17, 18, 19, 20, 21, 22, 23, 24, 25, 26, 27, 28, 29, 30, 31, 32, 33, 34, 35, 36, 37], \"y\": [null, 1798.0, 293.0, 447.0, 529.0, 386.0, 593.0, 698.0, 814.0, 1012.0, 859.0, 1202.0, 1454.0, 1984.0, 2061.0, 1705.0, 1246.0, 972.0, 1238.0, 1822.0, 1644.0, 1218.0]}, {\"mode\": \"lines\", \"name\": \"Georgia (No Mask Mandate)\", \"type\": \"scatter\", \"x\": [16, 17, 18, 19, 20, 21, 22, 23, 24, 25, 26, 27, 28, 29, 30, 31, 32, 33, 34, 35, 36, 37], \"y\": [null, 1260.0, 330.0, 202.0, 203.0, 231.0, 264.0, 276.0, 268.0, 353.0, 355.0, 613.0, 930.0, 700.0, 659.0, 1048.0, 1249.0, 1469.0, 1449.0, 1492.0, 1448.0, 1011.0]}, {\"mode\": \"lines\", \"name\": \"Alabama (Mask Mandate)\", \"type\": \"scatter\", \"x\": [16, 17, 18, 19, 20, 21, 22, 23, 24, 25, 26, 27, 28, 29, 30, 31, 32, 33, 34, 35, 36, 37], \"y\": [null, 1798.0, 293.0, 447.0, 529.0, 386.0, 593.0, 698.0, 814.0, 1012.0, 859.0, 1202.0, 1454.0, 1984.0, 2061.0, 1705.0, 1246.0, 972.0, 1238.0, 1822.0, 1644.0, 1218.0]}, {\"mode\": \"lines\", \"name\": \"Georgia (No Mask Mandate)\", \"type\": \"scatter\", \"x\": [16, 17, 18, 19, 20, 21, 22, 23, 24, 25, 26, 27, 28, 29, 30, 31, 32, 33, 34, 35, 36, 37], \"y\": [null, 1260.0, 330.0, 202.0, 203.0, 231.0, 264.0, 276.0, 268.0, 353.0, 355.0, 613.0, 930.0, 700.0, 659.0, 1048.0, 1249.0, 1469.0, 1449.0, 1492.0, 1448.0, 1011.0]}, {\"mode\": \"lines\", \"name\": \"Alabama (Mask Mandate)\", \"type\": \"scatter\", \"x\": [16, 17, 18, 19, 20, 21, 22, 23, 24, 25, 26, 27, 28, 29, 30, 31, 32, 33, 34, 35, 36, 37], \"y\": [null, 1798.0, 293.0, 447.0, 529.0, 386.0, 593.0, 698.0, 814.0, 1012.0, 859.0, 1202.0, 1454.0, 1984.0, 2061.0, 1705.0, 1246.0, 972.0, 1238.0, 1822.0, 1644.0, 1218.0]}, {\"mode\": \"lines\", \"name\": \"Georgia (No Mask Mandate)\", \"type\": \"scatter\", \"x\": [16, 17, 18, 19, 20, 21, 22, 23, 24, 25, 26, 27, 28, 29, 30, 31, 32, 33, 34, 35, 36, 37], \"y\": [null, 1260.0, 330.0, 202.0, 203.0, 231.0, 264.0, 276.0, 268.0, 353.0, 355.0, 613.0, 930.0, 700.0, 659.0, 1048.0, 1249.0, 1469.0, 1449.0, 1492.0, 1448.0, 1011.0]}],\n",
       "                        {\"template\": {\"data\": {\"bar\": [{\"error_x\": {\"color\": \"#2a3f5f\"}, \"error_y\": {\"color\": \"#2a3f5f\"}, \"marker\": {\"line\": {\"color\": \"#E5ECF6\", \"width\": 0.5}}, \"type\": \"bar\"}], \"barpolar\": [{\"marker\": {\"line\": {\"color\": \"#E5ECF6\", \"width\": 0.5}}, \"type\": \"barpolar\"}], \"carpet\": [{\"aaxis\": {\"endlinecolor\": \"#2a3f5f\", \"gridcolor\": \"white\", \"linecolor\": \"white\", \"minorgridcolor\": \"white\", \"startlinecolor\": \"#2a3f5f\"}, \"baxis\": {\"endlinecolor\": \"#2a3f5f\", \"gridcolor\": \"white\", \"linecolor\": \"white\", \"minorgridcolor\": \"white\", \"startlinecolor\": \"#2a3f5f\"}, \"type\": \"carpet\"}], \"choropleth\": [{\"colorbar\": {\"outlinewidth\": 0, \"ticks\": \"\"}, \"type\": \"choropleth\"}], \"contour\": [{\"colorbar\": {\"outlinewidth\": 0, \"ticks\": \"\"}, \"colorscale\": [[0.0, \"#0d0887\"], [0.1111111111111111, \"#46039f\"], [0.2222222222222222, \"#7201a8\"], [0.3333333333333333, \"#9c179e\"], [0.4444444444444444, \"#bd3786\"], [0.5555555555555556, \"#d8576b\"], [0.6666666666666666, \"#ed7953\"], [0.7777777777777778, \"#fb9f3a\"], [0.8888888888888888, \"#fdca26\"], [1.0, \"#f0f921\"]], \"type\": \"contour\"}], \"contourcarpet\": [{\"colorbar\": {\"outlinewidth\": 0, \"ticks\": \"\"}, \"type\": \"contourcarpet\"}], \"heatmap\": [{\"colorbar\": {\"outlinewidth\": 0, \"ticks\": \"\"}, \"colorscale\": [[0.0, \"#0d0887\"], [0.1111111111111111, \"#46039f\"], [0.2222222222222222, \"#7201a8\"], [0.3333333333333333, \"#9c179e\"], [0.4444444444444444, \"#bd3786\"], [0.5555555555555556, \"#d8576b\"], [0.6666666666666666, \"#ed7953\"], [0.7777777777777778, \"#fb9f3a\"], [0.8888888888888888, \"#fdca26\"], [1.0, \"#f0f921\"]], \"type\": \"heatmap\"}], \"heatmapgl\": [{\"colorbar\": {\"outlinewidth\": 0, \"ticks\": \"\"}, \"colorscale\": [[0.0, \"#0d0887\"], [0.1111111111111111, \"#46039f\"], [0.2222222222222222, \"#7201a8\"], [0.3333333333333333, \"#9c179e\"], [0.4444444444444444, \"#bd3786\"], [0.5555555555555556, \"#d8576b\"], [0.6666666666666666, \"#ed7953\"], [0.7777777777777778, \"#fb9f3a\"], [0.8888888888888888, \"#fdca26\"], [1.0, \"#f0f921\"]], \"type\": \"heatmapgl\"}], \"histogram\": [{\"marker\": {\"colorbar\": {\"outlinewidth\": 0, \"ticks\": \"\"}}, \"type\": \"histogram\"}], \"histogram2d\": [{\"colorbar\": {\"outlinewidth\": 0, \"ticks\": \"\"}, \"colorscale\": [[0.0, \"#0d0887\"], [0.1111111111111111, \"#46039f\"], [0.2222222222222222, \"#7201a8\"], [0.3333333333333333, \"#9c179e\"], [0.4444444444444444, \"#bd3786\"], [0.5555555555555556, \"#d8576b\"], [0.6666666666666666, \"#ed7953\"], [0.7777777777777778, \"#fb9f3a\"], [0.8888888888888888, \"#fdca26\"], [1.0, \"#f0f921\"]], \"type\": \"histogram2d\"}], \"histogram2dcontour\": [{\"colorbar\": {\"outlinewidth\": 0, \"ticks\": \"\"}, \"colorscale\": [[0.0, \"#0d0887\"], [0.1111111111111111, \"#46039f\"], [0.2222222222222222, \"#7201a8\"], [0.3333333333333333, \"#9c179e\"], [0.4444444444444444, \"#bd3786\"], [0.5555555555555556, \"#d8576b\"], [0.6666666666666666, \"#ed7953\"], [0.7777777777777778, \"#fb9f3a\"], [0.8888888888888888, \"#fdca26\"], [1.0, \"#f0f921\"]], \"type\": \"histogram2dcontour\"}], \"mesh3d\": [{\"colorbar\": {\"outlinewidth\": 0, \"ticks\": \"\"}, \"type\": \"mesh3d\"}], \"parcoords\": [{\"line\": {\"colorbar\": {\"outlinewidth\": 0, \"ticks\": \"\"}}, \"type\": \"parcoords\"}], \"pie\": [{\"automargin\": true, \"type\": \"pie\"}], \"scatter\": [{\"marker\": {\"colorbar\": {\"outlinewidth\": 0, \"ticks\": \"\"}}, \"type\": \"scatter\"}], \"scatter3d\": [{\"line\": {\"colorbar\": {\"outlinewidth\": 0, \"ticks\": \"\"}}, \"marker\": {\"colorbar\": {\"outlinewidth\": 0, \"ticks\": \"\"}}, \"type\": \"scatter3d\"}], \"scattercarpet\": [{\"marker\": {\"colorbar\": {\"outlinewidth\": 0, \"ticks\": \"\"}}, \"type\": \"scattercarpet\"}], \"scattergeo\": [{\"marker\": {\"colorbar\": {\"outlinewidth\": 0, \"ticks\": \"\"}}, \"type\": \"scattergeo\"}], \"scattergl\": [{\"marker\": {\"colorbar\": {\"outlinewidth\": 0, \"ticks\": \"\"}}, \"type\": \"scattergl\"}], \"scattermapbox\": [{\"marker\": {\"colorbar\": {\"outlinewidth\": 0, \"ticks\": \"\"}}, \"type\": \"scattermapbox\"}], \"scatterpolar\": [{\"marker\": {\"colorbar\": {\"outlinewidth\": 0, \"ticks\": \"\"}}, \"type\": \"scatterpolar\"}], \"scatterpolargl\": [{\"marker\": {\"colorbar\": {\"outlinewidth\": 0, \"ticks\": \"\"}}, \"type\": \"scatterpolargl\"}], \"scatterternary\": [{\"marker\": {\"colorbar\": {\"outlinewidth\": 0, \"ticks\": \"\"}}, \"type\": \"scatterternary\"}], \"surface\": [{\"colorbar\": {\"outlinewidth\": 0, \"ticks\": \"\"}, \"colorscale\": [[0.0, \"#0d0887\"], [0.1111111111111111, \"#46039f\"], [0.2222222222222222, \"#7201a8\"], [0.3333333333333333, \"#9c179e\"], [0.4444444444444444, \"#bd3786\"], [0.5555555555555556, \"#d8576b\"], [0.6666666666666666, \"#ed7953\"], [0.7777777777777778, \"#fb9f3a\"], [0.8888888888888888, \"#fdca26\"], [1.0, \"#f0f921\"]], \"type\": \"surface\"}], \"table\": [{\"cells\": {\"fill\": {\"color\": \"#EBF0F8\"}, \"line\": {\"color\": \"white\"}}, \"header\": {\"fill\": {\"color\": \"#C8D4E3\"}, \"line\": {\"color\": \"white\"}}, \"type\": \"table\"}]}, \"layout\": {\"annotationdefaults\": {\"arrowcolor\": \"#2a3f5f\", \"arrowhead\": 0, \"arrowwidth\": 1}, \"coloraxis\": {\"colorbar\": {\"outlinewidth\": 0, \"ticks\": \"\"}}, \"colorscale\": {\"diverging\": [[0, \"#8e0152\"], [0.1, \"#c51b7d\"], [0.2, \"#de77ae\"], [0.3, \"#f1b6da\"], [0.4, \"#fde0ef\"], [0.5, \"#f7f7f7\"], [0.6, \"#e6f5d0\"], [0.7, \"#b8e186\"], [0.8, \"#7fbc41\"], [0.9, \"#4d9221\"], [1, \"#276419\"]], \"sequential\": [[0.0, \"#0d0887\"], [0.1111111111111111, \"#46039f\"], [0.2222222222222222, \"#7201a8\"], [0.3333333333333333, \"#9c179e\"], [0.4444444444444444, \"#bd3786\"], [0.5555555555555556, \"#d8576b\"], [0.6666666666666666, \"#ed7953\"], [0.7777777777777778, \"#fb9f3a\"], [0.8888888888888888, \"#fdca26\"], [1.0, \"#f0f921\"]], \"sequentialminus\": [[0.0, \"#0d0887\"], [0.1111111111111111, \"#46039f\"], [0.2222222222222222, \"#7201a8\"], [0.3333333333333333, \"#9c179e\"], [0.4444444444444444, \"#bd3786\"], [0.5555555555555556, \"#d8576b\"], [0.6666666666666666, \"#ed7953\"], [0.7777777777777778, \"#fb9f3a\"], [0.8888888888888888, \"#fdca26\"], [1.0, \"#f0f921\"]]}, \"colorway\": [\"#636efa\", \"#EF553B\", \"#00cc96\", \"#ab63fa\", \"#FFA15A\", \"#19d3f3\", \"#FF6692\", \"#B6E880\", \"#FF97FF\", \"#FECB52\"], \"font\": {\"color\": \"#2a3f5f\"}, \"geo\": {\"bgcolor\": \"white\", \"lakecolor\": \"white\", \"landcolor\": \"#E5ECF6\", \"showlakes\": true, \"showland\": true, \"subunitcolor\": \"white\"}, \"hoverlabel\": {\"align\": \"left\"}, \"hovermode\": \"closest\", \"mapbox\": {\"style\": \"light\"}, \"paper_bgcolor\": \"white\", \"plot_bgcolor\": \"#E5ECF6\", \"polar\": {\"angularaxis\": {\"gridcolor\": \"white\", \"linecolor\": \"white\", \"ticks\": \"\"}, \"bgcolor\": \"#E5ECF6\", \"radialaxis\": {\"gridcolor\": \"white\", \"linecolor\": \"white\", \"ticks\": \"\"}}, \"scene\": {\"xaxis\": {\"backgroundcolor\": \"#E5ECF6\", \"gridcolor\": \"white\", \"gridwidth\": 2, \"linecolor\": \"white\", \"showbackground\": true, \"ticks\": \"\", \"zerolinecolor\": \"white\"}, \"yaxis\": {\"backgroundcolor\": \"#E5ECF6\", \"gridcolor\": \"white\", \"gridwidth\": 2, \"linecolor\": \"white\", \"showbackground\": true, \"ticks\": \"\", \"zerolinecolor\": \"white\"}, \"zaxis\": {\"backgroundcolor\": \"#E5ECF6\", \"gridcolor\": \"white\", \"gridwidth\": 2, \"linecolor\": \"white\", \"showbackground\": true, \"ticks\": \"\", \"zerolinecolor\": \"white\"}}, \"shapedefaults\": {\"line\": {\"color\": \"#2a3f5f\"}}, \"ternary\": {\"aaxis\": {\"gridcolor\": \"white\", \"linecolor\": \"white\", \"ticks\": \"\"}, \"baxis\": {\"gridcolor\": \"white\", \"linecolor\": \"white\", \"ticks\": \"\"}, \"bgcolor\": \"#E5ECF6\", \"caxis\": {\"gridcolor\": \"white\", \"linecolor\": \"white\", \"ticks\": \"\"}}, \"title\": {\"x\": 0.05}, \"xaxis\": {\"automargin\": true, \"gridcolor\": \"white\", \"linecolor\": \"white\", \"ticks\": \"\", \"title\": {\"standoff\": 15}, \"zerolinecolor\": \"white\", \"zerolinewidth\": 2}, \"yaxis\": {\"automargin\": true, \"gridcolor\": \"white\", \"linecolor\": \"white\", \"ticks\": \"\", \"title\": {\"standoff\": 15}, \"zerolinecolor\": \"white\", \"zerolinewidth\": 2}}}, \"title\": {\"text\": \"Georgia vs Alabama Transmission Rates (Change in New Cases)\"}, \"updatemenus\": [{\"active\": 0, \"buttons\": [{\"args\": [{\"visible\": [true, true, false, false, false, false, false, false]}, {\"annotations\": [], \"title\": \"1 Day Moving Average\"}], \"label\": \"1 Day Moving Average\", \"method\": \"update\"}, {\"args\": [{\"visible\": [false, false, true, true, false, false, false, false]}, {\"annotations\": [], \"title\": \"7 Day Moving Average\"}], \"label\": \"7 Day Moving Average\", \"method\": \"update\"}, {\"args\": [{\"visible\": [false, false, false, false, true, true, false, false]}, {\"annotations\": [], \"title\": \"14 Day Moving Average\"}], \"label\": \"14 Day Moving Average\", \"method\": \"update\"}, {\"args\": [{\"visible\": [false, false, false, false, false, false, true, true]}, {\"annotations\": [], \"title\": \"30 Day Moving Average\"}], \"label\": \"30 Day Moving Average\", \"method\": \"update\"}]}], \"xaxis\": {\"ticktext\": [\"May 16th\", \"June 16th\", \"July 16th: Mandate Initiated\", \"August 16th\", \"September 16th\"], \"tickvals\": [\"2020-05-16\", \"2020-06-16\", \"2020-07-16\", \"2020-08-16\", 37]}},\n",
       "                        {\"responsive\": true}\n",
       "                    ).then(function(){\n",
       "                            \n",
       "var gd = document.getElementById('349eff33-6728-4ba2-bf87-1fe769689193');\n",
       "var x = new MutationObserver(function (mutations, observer) {{\n",
       "        var display = window.getComputedStyle(gd).display;\n",
       "        if (!display || display === 'none') {{\n",
       "            console.log([gd, 'removed!']);\n",
       "            Plotly.purge(gd);\n",
       "            observer.disconnect();\n",
       "        }}\n",
       "}});\n",
       "\n",
       "// Listen for the removal of the full notebook cells\n",
       "var notebookContainer = gd.closest('#notebook-container');\n",
       "if (notebookContainer) {{\n",
       "    x.observe(notebookContainer, {childList: true});\n",
       "}}\n",
       "\n",
       "// Listen for the clearing of the current output cell\n",
       "var outputEl = gd.closest('.output');\n",
       "if (outputEl) {{\n",
       "    x.observe(outputEl, {childList: true});\n",
       "}}\n",
       "\n",
       "                        })\n",
       "                };\n",
       "                });\n",
       "            </script>\n",
       "        </div>"
      ]
     },
     "metadata": {},
     "output_type": "display_data"
    }
   ],
   "source": [
    "import plotly.graph_objects as go\n",
    "import pandas as pd\n",
    "\n",
    "# Create figure and add line\n",
    "fig = go.Figure()\n",
    "\n",
    "\n",
    "rolling_means = [1,7,14,30]\n",
    "trace_view = np.array([False for _ in range(8)])\n",
    "\n",
    "buttons = []\n",
    "\n",
    "for i,rm in enumerate(rolling_means):\n",
    "    \n",
    "    data_GA = agg_GA.groupby(\"week\").sum().diff()[:-1]\n",
    "    data_AL = agg_AL.groupby(\"week\").sum().diff()[:-1]\n",
    "    \n",
    "    fig.add_trace(go.Scatter(\n",
    "        x=data_AL.index,\n",
    "        y=data_AL.cases,\n",
    "        mode=\"lines\",\n",
    "        name = \"Alabama (Mask Mandate)\"\n",
    "    ))\n",
    "\n",
    "    fig.add_trace(go.Scatter(\n",
    "        x=data_GA.index,\n",
    "        y=data_GA.cases,\n",
    "        mode=\"lines\",\n",
    "        name = \"Georgia (No Mask Mandate)\"\n",
    "    ))\n",
    "    \n",
    "    view = trace_view.copy()\n",
    "    view[i*2:i*2+2] = True\n",
    "    \n",
    "    buttons.append(dict(label=str(rm) + \" Day Moving Average\",\n",
    "         method=\"update\",\n",
    "         args=[{\"visible\": view},\n",
    "               {\"title\": str(rm) + \" Day Moving Average\",\n",
    "                \"annotations\": []}]) ) \n",
    "    \n",
    "fig.update_layout(\n",
    "    updatemenus=[\n",
    "        dict(\n",
    "            active=0,\n",
    "            buttons=buttons\n",
    "        )\n",
    "    ])\n",
    "\n",
    "\n",
    "# Set custom x-axis labels\n",
    "fig.update_xaxes(\n",
    "    ticktext=[\"May 16th\", \"June 16th\",\"July 16th: Mandate Initiated\", \"August 16th\", \"September 16th\"],\n",
    "    tickvals=[\"2020-05-16\",\"2020-06-16\", \"2020-07-16\", \"2020-08-16\", data_AL.index.max()],\n",
    ")\n",
    "\n",
    "# Set figure title\n",
    "fig.update_layout(title_text=\"Georgia vs Alabama Transmission Rates (Change in New Cases)\")\n",
    "\n",
    "fig.show()"
   ]
  },
  {
   "cell_type": "code",
   "execution_count": 28,
   "metadata": {},
   "outputs": [
    {
     "data": {
      "text/html": [
       "<div>\n",
       "<style scoped>\n",
       "    .dataframe tbody tr th:only-of-type {\n",
       "        vertical-align: middle;\n",
       "    }\n",
       "\n",
       "    .dataframe tbody tr th {\n",
       "        vertical-align: top;\n",
       "    }\n",
       "\n",
       "    .dataframe thead th {\n",
       "        text-align: right;\n",
       "    }\n",
       "</style>\n",
       "<table border=\"1\" class=\"dataframe\">\n",
       "  <thead>\n",
       "    <tr style=\"text-align: right;\">\n",
       "      <th></th>\n",
       "      <th>fips</th>\n",
       "      <th>cases</th>\n",
       "      <th>deaths</th>\n",
       "    </tr>\n",
       "    <tr>\n",
       "      <th>date</th>\n",
       "      <th></th>\n",
       "      <th></th>\n",
       "      <th></th>\n",
       "    </tr>\n",
       "  </thead>\n",
       "  <tbody>\n",
       "    <tr>\n",
       "      <th>2020-04-17</th>\n",
       "      <td>NaN</td>\n",
       "      <td>NaN</td>\n",
       "      <td>NaN</td>\n",
       "    </tr>\n",
       "    <tr>\n",
       "      <th>2020-04-18</th>\n",
       "      <td>NaN</td>\n",
       "      <td>NaN</td>\n",
       "      <td>NaN</td>\n",
       "    </tr>\n",
       "    <tr>\n",
       "      <th>2020-04-19</th>\n",
       "      <td>NaN</td>\n",
       "      <td>NaN</td>\n",
       "      <td>NaN</td>\n",
       "    </tr>\n",
       "    <tr>\n",
       "      <th>2020-04-20</th>\n",
       "      <td>NaN</td>\n",
       "      <td>NaN</td>\n",
       "      <td>NaN</td>\n",
       "    </tr>\n",
       "    <tr>\n",
       "      <th>2020-04-21</th>\n",
       "      <td>NaN</td>\n",
       "      <td>NaN</td>\n",
       "      <td>NaN</td>\n",
       "    </tr>\n",
       "    <tr>\n",
       "      <th>...</th>\n",
       "      <td>...</td>\n",
       "      <td>...</td>\n",
       "      <td>...</td>\n",
       "    </tr>\n",
       "    <tr>\n",
       "      <th>2020-09-11</th>\n",
       "      <td>0.0</td>\n",
       "      <td>1943.766667</td>\n",
       "      <td>49.366667</td>\n",
       "    </tr>\n",
       "    <tr>\n",
       "      <th>2020-09-12</th>\n",
       "      <td>0.0</td>\n",
       "      <td>1924.433333</td>\n",
       "      <td>48.633333</td>\n",
       "    </tr>\n",
       "    <tr>\n",
       "      <th>2020-09-13</th>\n",
       "      <td>0.0</td>\n",
       "      <td>1892.933333</td>\n",
       "      <td>47.766667</td>\n",
       "    </tr>\n",
       "    <tr>\n",
       "      <th>2020-09-14</th>\n",
       "      <td>0.0</td>\n",
       "      <td>1858.633333</td>\n",
       "      <td>46.933333</td>\n",
       "    </tr>\n",
       "    <tr>\n",
       "      <th>2020-09-15</th>\n",
       "      <td>0.0</td>\n",
       "      <td>1827.733333</td>\n",
       "      <td>45.933333</td>\n",
       "    </tr>\n",
       "  </tbody>\n",
       "</table>\n",
       "<p>152 rows × 3 columns</p>\n",
       "</div>"
      ],
      "text/plain": [
       "            fips        cases     deaths\n",
       "date                                    \n",
       "2020-04-17   NaN          NaN        NaN\n",
       "2020-04-18   NaN          NaN        NaN\n",
       "2020-04-19   NaN          NaN        NaN\n",
       "2020-04-20   NaN          NaN        NaN\n",
       "2020-04-21   NaN          NaN        NaN\n",
       "...          ...          ...        ...\n",
       "2020-09-11   0.0  1943.766667  49.366667\n",
       "2020-09-12   0.0  1924.433333  48.633333\n",
       "2020-09-13   0.0  1892.933333  47.766667\n",
       "2020-09-14   0.0  1858.633333  46.933333\n",
       "2020-09-15   0.0  1827.733333  45.933333\n",
       "\n",
       "[152 rows x 3 columns]"
      ]
     },
     "execution_count": 28,
     "metadata": {},
     "output_type": "execute_result"
    }
   ],
   "source": [
    "agg_GA.groupby(\"date\").sum().rolling(10).sum().rolling(rm).mean().diff()"
   ]
  },
  {
   "cell_type": "code",
   "execution_count": 33,
   "metadata": {},
   "outputs": [
    {
     "data": {
      "text/plain": [
       "array([16, 16, 16, ..., 38, 38, 38])"
      ]
     },
     "execution_count": 33,
     "metadata": {},
     "output_type": "execute_result"
    }
   ],
   "source": [
    "agg_GA.date.astype(\"datetime64\").dt.week"
   ]
  },
  {
   "cell_type": "code",
   "execution_count": 35,
   "metadata": {},
   "outputs": [
    {
     "data": {
      "text/html": [
       "<div>\n",
       "<style scoped>\n",
       "    .dataframe tbody tr th:only-of-type {\n",
       "        vertical-align: middle;\n",
       "    }\n",
       "\n",
       "    .dataframe tbody tr th {\n",
       "        vertical-align: top;\n",
       "    }\n",
       "\n",
       "    .dataframe thead th {\n",
       "        text-align: right;\n",
       "    }\n",
       "</style>\n",
       "<table border=\"1\" class=\"dataframe\">\n",
       "  <thead>\n",
       "    <tr style=\"text-align: right;\">\n",
       "      <th></th>\n",
       "      <th>fips</th>\n",
       "      <th>cases</th>\n",
       "      <th>deaths</th>\n",
       "    </tr>\n",
       "    <tr>\n",
       "      <th>date</th>\n",
       "      <th></th>\n",
       "      <th></th>\n",
       "      <th></th>\n",
       "    </tr>\n",
       "  </thead>\n",
       "  <tbody>\n",
       "    <tr>\n",
       "      <th>2020-04-17</th>\n",
       "      <td>NaN</td>\n",
       "      <td>NaN</td>\n",
       "      <td>NaN</td>\n",
       "    </tr>\n",
       "    <tr>\n",
       "      <th>2020-04-18</th>\n",
       "      <td>NaN</td>\n",
       "      <td>NaN</td>\n",
       "      <td>NaN</td>\n",
       "    </tr>\n",
       "    <tr>\n",
       "      <th>2020-04-19</th>\n",
       "      <td>NaN</td>\n",
       "      <td>NaN</td>\n",
       "      <td>NaN</td>\n",
       "    </tr>\n",
       "    <tr>\n",
       "      <th>2020-04-20</th>\n",
       "      <td>NaN</td>\n",
       "      <td>NaN</td>\n",
       "      <td>NaN</td>\n",
       "    </tr>\n",
       "    <tr>\n",
       "      <th>2020-04-21</th>\n",
       "      <td>NaN</td>\n",
       "      <td>NaN</td>\n",
       "      <td>NaN</td>\n",
       "    </tr>\n",
       "    <tr>\n",
       "      <th>...</th>\n",
       "      <td>...</td>\n",
       "      <td>...</td>\n",
       "      <td>...</td>\n",
       "    </tr>\n",
       "    <tr>\n",
       "      <th>2020-09-11</th>\n",
       "      <td>0.0</td>\n",
       "      <td>1943.766667</td>\n",
       "      <td>49.366667</td>\n",
       "    </tr>\n",
       "    <tr>\n",
       "      <th>2020-09-12</th>\n",
       "      <td>0.0</td>\n",
       "      <td>1924.433333</td>\n",
       "      <td>48.633333</td>\n",
       "    </tr>\n",
       "    <tr>\n",
       "      <th>2020-09-13</th>\n",
       "      <td>0.0</td>\n",
       "      <td>1892.933333</td>\n",
       "      <td>47.766667</td>\n",
       "    </tr>\n",
       "    <tr>\n",
       "      <th>2020-09-14</th>\n",
       "      <td>0.0</td>\n",
       "      <td>1858.633333</td>\n",
       "      <td>46.933333</td>\n",
       "    </tr>\n",
       "    <tr>\n",
       "      <th>2020-09-15</th>\n",
       "      <td>0.0</td>\n",
       "      <td>1827.733333</td>\n",
       "      <td>45.933333</td>\n",
       "    </tr>\n",
       "  </tbody>\n",
       "</table>\n",
       "<p>152 rows × 3 columns</p>\n",
       "</div>"
      ],
      "text/plain": [
       "            fips        cases     deaths\n",
       "date                                    \n",
       "2020-04-17   NaN          NaN        NaN\n",
       "2020-04-18   NaN          NaN        NaN\n",
       "2020-04-19   NaN          NaN        NaN\n",
       "2020-04-20   NaN          NaN        NaN\n",
       "2020-04-21   NaN          NaN        NaN\n",
       "...          ...          ...        ...\n",
       "2020-09-11   0.0  1943.766667  49.366667\n",
       "2020-09-12   0.0  1924.433333  48.633333\n",
       "2020-09-13   0.0  1892.933333  47.766667\n",
       "2020-09-14   0.0  1858.633333  46.933333\n",
       "2020-09-15   0.0  1827.733333  45.933333\n",
       "\n",
       "[152 rows x 3 columns]"
      ]
     },
     "execution_count": 35,
     "metadata": {},
     "output_type": "execute_result"
    }
   ],
   "source": [
    "\n",
    "data_GA "
   ]
  },
  {
   "cell_type": "code",
   "execution_count": 37,
   "metadata": {},
   "outputs": [
    {
     "data": {
      "text/html": [
       "<div>\n",
       "<style scoped>\n",
       "    .dataframe tbody tr th:only-of-type {\n",
       "        vertical-align: middle;\n",
       "    }\n",
       "\n",
       "    .dataframe tbody tr th {\n",
       "        vertical-align: top;\n",
       "    }\n",
       "\n",
       "    .dataframe thead th {\n",
       "        text-align: right;\n",
       "    }\n",
       "</style>\n",
       "<table border=\"1\" class=\"dataframe\">\n",
       "  <thead>\n",
       "    <tr style=\"text-align: right;\">\n",
       "      <th></th>\n",
       "      <th>fips</th>\n",
       "      <th>cases</th>\n",
       "      <th>deaths</th>\n",
       "    </tr>\n",
       "    <tr>\n",
       "      <th>week</th>\n",
       "      <th></th>\n",
       "      <th></th>\n",
       "      <th></th>\n",
       "    </tr>\n",
       "  </thead>\n",
       "  <tbody>\n",
       "    <tr>\n",
       "      <th>16</th>\n",
       "      <td>671181.0</td>\n",
       "      <td>3157</td>\n",
       "      <td>131</td>\n",
       "    </tr>\n",
       "    <tr>\n",
       "      <th>17</th>\n",
       "      <td>1566089.0</td>\n",
       "      <td>8904</td>\n",
       "      <td>365</td>\n",
       "    </tr>\n",
       "    <tr>\n",
       "      <th>18</th>\n",
       "      <td>1566089.0</td>\n",
       "      <td>10507</td>\n",
       "      <td>463</td>\n",
       "    </tr>\n",
       "    <tr>\n",
       "      <th>19</th>\n",
       "      <td>1566089.0</td>\n",
       "      <td>11644</td>\n",
       "      <td>580</td>\n",
       "    </tr>\n",
       "    <tr>\n",
       "      <th>20</th>\n",
       "      <td>1566089.0</td>\n",
       "      <td>12822</td>\n",
       "      <td>659</td>\n",
       "    </tr>\n",
       "    <tr>\n",
       "      <th>21</th>\n",
       "      <td>1566089.0</td>\n",
       "      <td>14633</td>\n",
       "      <td>733</td>\n",
       "    </tr>\n",
       "    <tr>\n",
       "      <th>22</th>\n",
       "      <td>1566089.0</td>\n",
       "      <td>17449</td>\n",
       "      <td>804</td>\n",
       "    </tr>\n",
       "    <tr>\n",
       "      <th>23</th>\n",
       "      <td>1566089.0</td>\n",
       "      <td>21446</td>\n",
       "      <td>883</td>\n",
       "    </tr>\n",
       "    <tr>\n",
       "      <th>24</th>\n",
       "      <td>1566089.0</td>\n",
       "      <td>26844</td>\n",
       "      <td>1018</td>\n",
       "    </tr>\n",
       "    <tr>\n",
       "      <th>25</th>\n",
       "      <td>1566089.0</td>\n",
       "      <td>32259</td>\n",
       "      <td>1194</td>\n",
       "    </tr>\n",
       "    <tr>\n",
       "      <th>26</th>\n",
       "      <td>1566089.0</td>\n",
       "      <td>39195</td>\n",
       "      <td>1339</td>\n",
       "    </tr>\n",
       "    <tr>\n",
       "      <th>27</th>\n",
       "      <td>1566089.0</td>\n",
       "      <td>47330</td>\n",
       "      <td>1471</td>\n",
       "    </tr>\n",
       "    <tr>\n",
       "      <th>28</th>\n",
       "      <td>1566089.0</td>\n",
       "      <td>57664</td>\n",
       "      <td>1549</td>\n",
       "    </tr>\n",
       "    <tr>\n",
       "      <th>29</th>\n",
       "      <td>1566089.0</td>\n",
       "      <td>68576</td>\n",
       "      <td>1670</td>\n",
       "    </tr>\n",
       "    <tr>\n",
       "      <th>30</th>\n",
       "      <td>1566089.0</td>\n",
       "      <td>78218</td>\n",
       "      <td>1832</td>\n",
       "    </tr>\n",
       "    <tr>\n",
       "      <th>31</th>\n",
       "      <td>1566089.0</td>\n",
       "      <td>89473</td>\n",
       "      <td>1994</td>\n",
       "    </tr>\n",
       "    <tr>\n",
       "      <th>32</th>\n",
       "      <td>1566089.0</td>\n",
       "      <td>100062</td>\n",
       "      <td>2257</td>\n",
       "    </tr>\n",
       "    <tr>\n",
       "      <th>33</th>\n",
       "      <td>1566089.0</td>\n",
       "      <td>111087</td>\n",
       "      <td>2520</td>\n",
       "    </tr>\n",
       "    <tr>\n",
       "      <th>34</th>\n",
       "      <td>1566089.0</td>\n",
       "      <td>120600</td>\n",
       "      <td>2740</td>\n",
       "    </tr>\n",
       "    <tr>\n",
       "      <th>35</th>\n",
       "      <td>1566089.0</td>\n",
       "      <td>130035</td>\n",
       "      <td>2997</td>\n",
       "    </tr>\n",
       "    <tr>\n",
       "      <th>36</th>\n",
       "      <td>1566089.0</td>\n",
       "      <td>139231</td>\n",
       "      <td>3254</td>\n",
       "    </tr>\n",
       "    <tr>\n",
       "      <th>37</th>\n",
       "      <td>1566089.0</td>\n",
       "      <td>146680</td>\n",
       "      <td>3426</td>\n",
       "    </tr>\n",
       "    <tr>\n",
       "      <th>38</th>\n",
       "      <td>447454.0</td>\n",
       "      <td>43198</td>\n",
       "      <td>1000</td>\n",
       "    </tr>\n",
       "  </tbody>\n",
       "</table>\n",
       "</div>"
      ],
      "text/plain": [
       "           fips   cases  deaths\n",
       "week                           \n",
       "16     671181.0    3157     131\n",
       "17    1566089.0    8904     365\n",
       "18    1566089.0   10507     463\n",
       "19    1566089.0   11644     580\n",
       "20    1566089.0   12822     659\n",
       "21    1566089.0   14633     733\n",
       "22    1566089.0   17449     804\n",
       "23    1566089.0   21446     883\n",
       "24    1566089.0   26844    1018\n",
       "25    1566089.0   32259    1194\n",
       "26    1566089.0   39195    1339\n",
       "27    1566089.0   47330    1471\n",
       "28    1566089.0   57664    1549\n",
       "29    1566089.0   68576    1670\n",
       "30    1566089.0   78218    1832\n",
       "31    1566089.0   89473    1994\n",
       "32    1566089.0  100062    2257\n",
       "33    1566089.0  111087    2520\n",
       "34    1566089.0  120600    2740\n",
       "35    1566089.0  130035    2997\n",
       "36    1566089.0  139231    3254\n",
       "37    1566089.0  146680    3426\n",
       "38     447454.0   43198    1000"
      ]
     },
     "execution_count": 37,
     "metadata": {},
     "output_type": "execute_result"
    }
   ],
   "source": [
    "agg_GA.groupby(\"week\").sum()"
   ]
  },
  {
   "cell_type": "code",
   "execution_count": 84,
   "metadata": {},
   "outputs": [
    {
     "data": {
      "application/vnd.plotly.v1+json": {
       "config": {
        "plotlyServerURL": "https://plot.ly"
       },
       "data": [
        {
         "mode": "lines",
         "name": "Alabama (Mask Mandate)",
         "type": "scatter",
         "x": [
          "2020-04-17",
          "2020-04-18",
          "2020-04-19",
          "2020-04-20",
          "2020-04-21",
          "2020-04-22",
          "2020-04-23",
          "2020-04-24",
          "2020-04-25",
          "2020-04-26",
          "2020-04-27",
          "2020-04-28",
          "2020-04-29",
          "2020-04-30",
          "2020-05-01",
          "2020-05-02",
          "2020-05-03",
          "2020-05-04",
          "2020-05-05",
          "2020-05-06",
          "2020-05-07",
          "2020-05-08",
          "2020-05-09",
          "2020-05-10",
          "2020-05-11",
          "2020-05-12",
          "2020-05-13",
          "2020-05-14",
          "2020-05-15",
          "2020-05-16",
          "2020-05-17",
          "2020-05-18",
          "2020-05-19",
          "2020-05-20",
          "2020-05-21",
          "2020-05-22",
          "2020-05-23",
          "2020-05-24",
          "2020-05-25",
          "2020-05-26",
          "2020-05-27",
          "2020-05-28",
          "2020-05-29",
          "2020-05-30",
          "2020-05-31",
          "2020-06-01",
          "2020-06-02",
          "2020-06-03",
          "2020-06-04",
          "2020-06-05",
          "2020-06-06",
          "2020-06-07",
          "2020-06-08",
          "2020-06-09",
          "2020-06-10",
          "2020-06-11",
          "2020-06-12",
          "2020-06-13",
          "2020-06-14",
          "2020-06-15",
          "2020-06-16",
          "2020-06-17",
          "2020-06-18",
          "2020-06-19",
          "2020-06-20",
          "2020-06-21",
          "2020-06-22",
          "2020-06-23",
          "2020-06-24",
          "2020-06-25",
          "2020-06-26",
          "2020-06-27",
          "2020-06-28",
          "2020-06-29",
          "2020-06-30",
          "2020-07-01",
          "2020-07-02",
          "2020-07-03",
          "2020-07-04",
          "2020-07-05",
          "2020-07-06",
          "2020-07-07",
          "2020-07-08",
          "2020-07-09",
          "2020-07-10",
          "2020-07-11",
          "2020-07-12",
          "2020-07-13",
          "2020-07-14",
          "2020-07-15",
          "2020-07-16",
          "2020-07-17",
          "2020-07-18",
          "2020-07-19",
          "2020-07-20",
          "2020-07-21",
          "2020-07-22",
          "2020-07-23",
          "2020-07-24",
          "2020-07-25",
          "2020-07-26",
          "2020-07-27",
          "2020-07-28",
          "2020-07-29",
          "2020-07-30",
          "2020-07-31",
          "2020-08-01",
          "2020-08-02",
          "2020-08-03",
          "2020-08-04",
          "2020-08-05",
          "2020-08-06",
          "2020-08-07",
          "2020-08-08",
          "2020-08-09",
          "2020-08-10",
          "2020-08-11",
          "2020-08-12",
          "2020-08-13",
          "2020-08-14",
          "2020-08-15",
          "2020-08-16",
          "2020-08-17",
          "2020-08-18",
          "2020-08-19",
          "2020-08-20",
          "2020-08-21",
          "2020-08-22",
          "2020-08-23",
          "2020-08-24",
          "2020-08-25",
          "2020-08-26",
          "2020-08-27",
          "2020-08-28",
          "2020-08-29",
          "2020-08-30",
          "2020-08-31",
          "2020-09-01",
          "2020-09-02",
          "2020-09-03",
          "2020-09-04",
          "2020-09-05",
          "2020-09-06",
          "2020-09-07",
          "2020-09-08",
          "2020-09-09",
          "2020-09-10",
          "2020-09-11",
          "2020-09-12",
          "2020-09-13",
          "2020-09-14",
          "2020-09-15"
         ],
         "y": [
          null,
          null,
          null,
          null,
          null,
          null,
          null,
          null,
          null,
          null,
          91,
          89,
          82,
          66,
          54,
          60,
          68,
          61,
          67,
          76,
          80,
          86,
          95,
          99,
          113,
          113,
          103,
          110,
          110,
          103,
          95,
          90,
          88,
          96,
          86,
          76,
          77,
          82,
          84,
          94,
          102,
          109,
          122,
          115,
          137,
          154,
          155,
          142,
          133,
          129,
          139,
          144,
          132,
          137,
          137,
          136,
          156,
          172,
          208,
          211,
          208,
          196,
          216,
          218,
          209,
          189,
          180,
          175,
          159,
          182,
          188,
          196,
          166,
          196,
          192,
          198,
          231,
          270,
          262,
          252,
          257,
          256,
          289,
          285,
          298,
          342,
          312,
          304,
          334,
          352,
          370,
          393,
          420,
          440,
          446,
          425,
          430,
          432,
          426,
          422,
          408,
          417,
          383,
          361,
          344,
          348,
          344,
          333,
          322,
          300,
          277,
          263,
          261,
          250,
          251,
          223,
          230,
          203,
          198,
          200,
          217,
          202,
          189,
          204,
          219,
          242,
          239,
          274,
          271,
          316,
          310,
          331,
          381,
          363,
          361,
          357,
          362,
          361,
          365,
          338,
          365,
          354,
          302,
          290,
          263,
          252,
          259,
          265,
          289,
          299,
          278,
          279
         ]
        },
        {
         "mode": "lines",
         "name": "Georgia (No Mask Mandate)",
         "type": "scatter",
         "x": [
          "2020-04-17",
          "2020-04-18",
          "2020-04-19",
          "2020-04-20",
          "2020-04-21",
          "2020-04-22",
          "2020-04-23",
          "2020-04-24",
          "2020-04-25",
          "2020-04-26",
          "2020-04-27",
          "2020-04-28",
          "2020-04-29",
          "2020-04-30",
          "2020-05-01",
          "2020-05-02",
          "2020-05-03",
          "2020-05-04",
          "2020-05-05",
          "2020-05-06",
          "2020-05-07",
          "2020-05-08",
          "2020-05-09",
          "2020-05-10",
          "2020-05-11",
          "2020-05-12",
          "2020-05-13",
          "2020-05-14",
          "2020-05-15",
          "2020-05-16",
          "2020-05-17",
          "2020-05-18",
          "2020-05-19",
          "2020-05-20",
          "2020-05-21",
          "2020-05-22",
          "2020-05-23",
          "2020-05-24",
          "2020-05-25",
          "2020-05-26",
          "2020-05-27",
          "2020-05-28",
          "2020-05-29",
          "2020-05-30",
          "2020-05-31",
          "2020-06-01",
          "2020-06-02",
          "2020-06-03",
          "2020-06-04",
          "2020-06-05",
          "2020-06-06",
          "2020-06-07",
          "2020-06-08",
          "2020-06-09",
          "2020-06-10",
          "2020-06-11",
          "2020-06-12",
          "2020-06-13",
          "2020-06-14",
          "2020-06-15",
          "2020-06-16",
          "2020-06-17",
          "2020-06-18",
          "2020-06-19",
          "2020-06-20",
          "2020-06-21",
          "2020-06-22",
          "2020-06-23",
          "2020-06-24",
          "2020-06-25",
          "2020-06-26",
          "2020-06-27",
          "2020-06-28",
          "2020-06-29",
          "2020-06-30",
          "2020-07-01",
          "2020-07-02",
          "2020-07-03",
          "2020-07-04",
          "2020-07-05",
          "2020-07-06",
          "2020-07-07",
          "2020-07-08",
          "2020-07-09",
          "2020-07-10",
          "2020-07-11",
          "2020-07-12",
          "2020-07-13",
          "2020-07-14",
          "2020-07-15",
          "2020-07-16",
          "2020-07-17",
          "2020-07-18",
          "2020-07-19",
          "2020-07-20",
          "2020-07-21",
          "2020-07-22",
          "2020-07-23",
          "2020-07-24",
          "2020-07-25",
          "2020-07-26",
          "2020-07-27",
          "2020-07-28",
          "2020-07-29",
          "2020-07-30",
          "2020-07-31",
          "2020-08-01",
          "2020-08-02",
          "2020-08-03",
          "2020-08-04",
          "2020-08-05",
          "2020-08-06",
          "2020-08-07",
          "2020-08-08",
          "2020-08-09",
          "2020-08-10",
          "2020-08-11",
          "2020-08-12",
          "2020-08-13",
          "2020-08-14",
          "2020-08-15",
          "2020-08-16",
          "2020-08-17",
          "2020-08-18",
          "2020-08-19",
          "2020-08-20",
          "2020-08-21",
          "2020-08-22",
          "2020-08-23",
          "2020-08-24",
          "2020-08-25",
          "2020-08-26",
          "2020-08-27",
          "2020-08-28",
          "2020-08-29",
          "2020-08-30",
          "2020-08-31",
          "2020-09-01",
          "2020-09-02",
          "2020-09-03",
          "2020-09-04",
          "2020-09-05",
          "2020-09-06",
          "2020-09-07",
          "2020-09-08",
          "2020-09-09",
          "2020-09-10",
          "2020-09-11",
          "2020-09-12",
          "2020-09-13",
          "2020-09-14",
          "2020-09-15"
         ],
         "y": [
          null,
          null,
          null,
          null,
          null,
          null,
          null,
          null,
          null,
          null,
          69,
          78,
          77,
          68,
          69,
          56,
          65,
          59,
          55,
          55,
          52,
          42,
          39,
          39,
          35,
          40,
          34,
          46,
          44,
          41,
          37,
          33,
          40,
          46,
          47,
          54,
          57,
          43,
          49,
          52,
          59,
          66,
          59,
          53,
          49,
          47,
          46,
          58,
          57,
          57,
          51,
          50,
          48,
          55,
          62,
          60,
          59,
          56,
          52,
          51,
          65,
          65,
          69,
          83,
          77,
          68,
          65,
          67,
          70,
          87,
          81,
          79,
          76,
          56,
          69,
          86,
          97,
          150,
          161,
          143,
          145,
          181,
          191,
          196,
          198,
          198,
          191,
          138,
          138,
          170,
          166,
          135,
          137,
          141,
          124,
          136,
          135,
          134,
          147,
          138,
          139,
          137,
          161,
          174,
          209,
          202,
          231,
          242,
          218,
          226,
          250,
          281,
          262,
          272,
          251,
          231,
          247,
          272,
          307,
          321,
          319,
          307,
          297,
          299,
          299,
          342,
          324,
          308,
          279,
          241,
          262,
          281,
          313,
          319,
          339,
          297,
          283,
          303,
          320,
          342,
          312,
          301,
          274,
          238,
          214,
          233,
          247,
          220,
          220,
          201,
          185,
          177
         ]
        },
        {
         "mode": "lines",
         "name": "Alabama (Mask Mandate)",
         "type": "scatter",
         "x": [
          "2020-04-17",
          "2020-04-18",
          "2020-04-19",
          "2020-04-20",
          "2020-04-21",
          "2020-04-22",
          "2020-04-23",
          "2020-04-24",
          "2020-04-25",
          "2020-04-26",
          "2020-04-27",
          "2020-04-28",
          "2020-04-29",
          "2020-04-30",
          "2020-05-01",
          "2020-05-02",
          "2020-05-03",
          "2020-05-04",
          "2020-05-05",
          "2020-05-06",
          "2020-05-07",
          "2020-05-08",
          "2020-05-09",
          "2020-05-10",
          "2020-05-11",
          "2020-05-12",
          "2020-05-13",
          "2020-05-14",
          "2020-05-15",
          "2020-05-16",
          "2020-05-17",
          "2020-05-18",
          "2020-05-19",
          "2020-05-20",
          "2020-05-21",
          "2020-05-22",
          "2020-05-23",
          "2020-05-24",
          "2020-05-25",
          "2020-05-26",
          "2020-05-27",
          "2020-05-28",
          "2020-05-29",
          "2020-05-30",
          "2020-05-31",
          "2020-06-01",
          "2020-06-02",
          "2020-06-03",
          "2020-06-04",
          "2020-06-05",
          "2020-06-06",
          "2020-06-07",
          "2020-06-08",
          "2020-06-09",
          "2020-06-10",
          "2020-06-11",
          "2020-06-12",
          "2020-06-13",
          "2020-06-14",
          "2020-06-15",
          "2020-06-16",
          "2020-06-17",
          "2020-06-18",
          "2020-06-19",
          "2020-06-20",
          "2020-06-21",
          "2020-06-22",
          "2020-06-23",
          "2020-06-24",
          "2020-06-25",
          "2020-06-26",
          "2020-06-27",
          "2020-06-28",
          "2020-06-29",
          "2020-06-30",
          "2020-07-01",
          "2020-07-02",
          "2020-07-03",
          "2020-07-04",
          "2020-07-05",
          "2020-07-06",
          "2020-07-07",
          "2020-07-08",
          "2020-07-09",
          "2020-07-10",
          "2020-07-11",
          "2020-07-12",
          "2020-07-13",
          "2020-07-14",
          "2020-07-15",
          "2020-07-16",
          "2020-07-17",
          "2020-07-18",
          "2020-07-19",
          "2020-07-20",
          "2020-07-21",
          "2020-07-22",
          "2020-07-23",
          "2020-07-24",
          "2020-07-25",
          "2020-07-26",
          "2020-07-27",
          "2020-07-28",
          "2020-07-29",
          "2020-07-30",
          "2020-07-31",
          "2020-08-01",
          "2020-08-02",
          "2020-08-03",
          "2020-08-04",
          "2020-08-05",
          "2020-08-06",
          "2020-08-07",
          "2020-08-08",
          "2020-08-09",
          "2020-08-10",
          "2020-08-11",
          "2020-08-12",
          "2020-08-13",
          "2020-08-14",
          "2020-08-15",
          "2020-08-16",
          "2020-08-17",
          "2020-08-18",
          "2020-08-19",
          "2020-08-20",
          "2020-08-21",
          "2020-08-22",
          "2020-08-23",
          "2020-08-24",
          "2020-08-25",
          "2020-08-26",
          "2020-08-27",
          "2020-08-28",
          "2020-08-29",
          "2020-08-30",
          "2020-08-31",
          "2020-09-01",
          "2020-09-02",
          "2020-09-03",
          "2020-09-04",
          "2020-09-05",
          "2020-09-06",
          "2020-09-07",
          "2020-09-08",
          "2020-09-09",
          "2020-09-10",
          "2020-09-11",
          "2020-09-12",
          "2020-09-13",
          "2020-09-14",
          "2020-09-15"
         ],
         "y": [
          null,
          null,
          null,
          null,
          null,
          null,
          null,
          null,
          null,
          null,
          null,
          null,
          null,
          null,
          null,
          null,
          72.85714285714312,
          68.57142857142844,
          65.42857142857156,
          64.57142857142844,
          66.57142857142844,
          71.14285714285779,
          76.14285714285688,
          80.57142857142844,
          88,
          94.57142857142844,
          98.42857142857156,
          102.71428571428623,
          106.14285714285688,
          107.28571428571377,
          106.71428571428623,
          103.42857142857156,
          99.85714285714221,
          98.85714285714312,
          95.42857142857156,
          90.57142857142844,
          86.85714285714312,
          85,
          84.14285714285688,
          85,
          85.85714285714312,
          89.14285714285688,
          95.71428571428623,
          101.14285714285688,
          109,
          119,
          127.71428571428532,
          133.42857142857156,
          136.85714285714312,
          137.85714285714312,
          141.28571428571377,
          142.28571428571468,
          139.14285714285688,
          136.57142857142844,
          135.85714285714312,
          136.28571428571468,
          140.14285714285688,
          144.85714285714312,
          154,
          165.28571428571377,
          175.42857142857065,
          183.85714285714312,
          195.28571428571558,
          204.14285714285688,
          209.42857142857065,
          206.71428571428623,
          202.28571428571377,
          197.57142857142935,
          192.28571428571377,
          187.42857142857065,
          183.1428571428587,
          181.28571428571377,
          178,
          180.28571428571377,
          182.71428571428623,
          188.28571428571377,
          195.28571428571377,
          207,
          216.42857142857247,
          228.71428571428623,
          237.42857142857065,
          246.57142857142935,
          259.57142857142753,
          267.28571428571377,
          271.2857142857156,
          282.7142857142844,
          291.2857142857156,
          298,
          309.1428571428569,
          318.1428571428569,
          330.28571428571377,
          343.8571428571431,
          355.0000000000018,
          373.28571428571377,
          393.57142857142753,
          406.57142857142753,
          417.71428571428623,
          426.57142857142753,
          431.2857142857174,
          431.57142857142753,
          427,
          422.8571428571413,
          416.85714285714494,
          407,
          394.42857142856883,
          383.2857142857174,
          372.14285714285506,
          361.42857142857247,
          347.8571428571413,
          336,
          324,
          312.42857142857247,
          300,
          286.57142857142753,
          274.85714285714494,
          260.71428571428623,
          250.7142857142826,
          240.1428571428587,
          230.8571428571413,
          222.1428571428587,
          217.42857142857247,
          210.42857142856883,
          205.57142857143117,
          201.8571428571413,
          204.1428571428587,
          210.42857142856883,
          216,
          224.1428571428587,
          234,
          252.1428571428587,
          267.28571428571377,
          283.28571428571377,
          303.14285714285506,
          320.85714285714494,
          333.28571428571377,
          345.57142857142753,
          352.1428571428587,
          359.42857142857247,
          364.28571428571377,
          358.14285714285506,
          358.42857142857247,
          357.42857142857247,
          349.57142857142753,
          339.2857142857174,
          325.2857142857101,
          309.14285714285506,
          297.85714285714494,
          283.57142857142753,
          274.2857142857174,
          273.85714285714494,
          272.14285714285506,
          274.42857142857247
         ]
        },
        {
         "mode": "lines",
         "name": "Georgia (No Mask Mandate)",
         "type": "scatter",
         "x": [
          "2020-04-17",
          "2020-04-18",
          "2020-04-19",
          "2020-04-20",
          "2020-04-21",
          "2020-04-22",
          "2020-04-23",
          "2020-04-24",
          "2020-04-25",
          "2020-04-26",
          "2020-04-27",
          "2020-04-28",
          "2020-04-29",
          "2020-04-30",
          "2020-05-01",
          "2020-05-02",
          "2020-05-03",
          "2020-05-04",
          "2020-05-05",
          "2020-05-06",
          "2020-05-07",
          "2020-05-08",
          "2020-05-09",
          "2020-05-10",
          "2020-05-11",
          "2020-05-12",
          "2020-05-13",
          "2020-05-14",
          "2020-05-15",
          "2020-05-16",
          "2020-05-17",
          "2020-05-18",
          "2020-05-19",
          "2020-05-20",
          "2020-05-21",
          "2020-05-22",
          "2020-05-23",
          "2020-05-24",
          "2020-05-25",
          "2020-05-26",
          "2020-05-27",
          "2020-05-28",
          "2020-05-29",
          "2020-05-30",
          "2020-05-31",
          "2020-06-01",
          "2020-06-02",
          "2020-06-03",
          "2020-06-04",
          "2020-06-05",
          "2020-06-06",
          "2020-06-07",
          "2020-06-08",
          "2020-06-09",
          "2020-06-10",
          "2020-06-11",
          "2020-06-12",
          "2020-06-13",
          "2020-06-14",
          "2020-06-15",
          "2020-06-16",
          "2020-06-17",
          "2020-06-18",
          "2020-06-19",
          "2020-06-20",
          "2020-06-21",
          "2020-06-22",
          "2020-06-23",
          "2020-06-24",
          "2020-06-25",
          "2020-06-26",
          "2020-06-27",
          "2020-06-28",
          "2020-06-29",
          "2020-06-30",
          "2020-07-01",
          "2020-07-02",
          "2020-07-03",
          "2020-07-04",
          "2020-07-05",
          "2020-07-06",
          "2020-07-07",
          "2020-07-08",
          "2020-07-09",
          "2020-07-10",
          "2020-07-11",
          "2020-07-12",
          "2020-07-13",
          "2020-07-14",
          "2020-07-15",
          "2020-07-16",
          "2020-07-17",
          "2020-07-18",
          "2020-07-19",
          "2020-07-20",
          "2020-07-21",
          "2020-07-22",
          "2020-07-23",
          "2020-07-24",
          "2020-07-25",
          "2020-07-26",
          "2020-07-27",
          "2020-07-28",
          "2020-07-29",
          "2020-07-30",
          "2020-07-31",
          "2020-08-01",
          "2020-08-02",
          "2020-08-03",
          "2020-08-04",
          "2020-08-05",
          "2020-08-06",
          "2020-08-07",
          "2020-08-08",
          "2020-08-09",
          "2020-08-10",
          "2020-08-11",
          "2020-08-12",
          "2020-08-13",
          "2020-08-14",
          "2020-08-15",
          "2020-08-16",
          "2020-08-17",
          "2020-08-18",
          "2020-08-19",
          "2020-08-20",
          "2020-08-21",
          "2020-08-22",
          "2020-08-23",
          "2020-08-24",
          "2020-08-25",
          "2020-08-26",
          "2020-08-27",
          "2020-08-28",
          "2020-08-29",
          "2020-08-30",
          "2020-08-31",
          "2020-09-01",
          "2020-09-02",
          "2020-09-03",
          "2020-09-04",
          "2020-09-05",
          "2020-09-06",
          "2020-09-07",
          "2020-09-08",
          "2020-09-09",
          "2020-09-10",
          "2020-09-11",
          "2020-09-12",
          "2020-09-13",
          "2020-09-14",
          "2020-09-15"
         ],
         "y": [
          null,
          null,
          null,
          null,
          null,
          null,
          null,
          null,
          null,
          null,
          null,
          null,
          null,
          null,
          null,
          null,
          68.85714285714266,
          67.42857142857156,
          64.14285714285734,
          61,
          58.714285714285325,
          54.85714285714312,
          52.42857142857156,
          48.714285714285325,
          45.285714285714675,
          43.14285714285688,
          40.14285714285734,
          39.28571428571422,
          39.57142857142844,
          39.85714285714312,
          39.57142857142844,
          39.28571428571422,
          39.28571428571422,
          41,
          41.14285714285734,
          42.57142857142844,
          44.85714285714266,
          45.71428571428578,
          48,
          49.714285714286234,
          51.57142857142844,
          54.285714285713766,
          55,
          54.42857142857156,
          55.285714285714675,
          55,
          54.14285714285688,
          54,
          52.714285714285325,
          52.42857142857156,
          52.14285714285779,
          52.285714285713766,
          52.42857142857156,
          53.714285714285325,
          54.285714285714675,
          54.714285714285325,
          55,
          55.714285714286234,
          56,
          56.42857142857156,
          57.85714285714221,
          58.285714285714675,
          59.57142857142844,
          63,
          66,
          68.28571428571468,
          70.28571428571377,
          70.57142857142844,
          71.28571428571468,
          73.85714285714312,
          73.57142857142844,
          73.85714285714312,
          75,
          73.71428571428532,
          74,
          76.28571428571468,
          77.71428571428532,
          87.57142857142844,
          99.28571428571468,
          108.85714285714221,
          121.57142857142935,
          137.57142857142844,
          152.57142857142844,
          166.71428571428532,
          173.57142857142844,
          178.85714285714312,
          185.71428571428623,
          184.71428571428532,
          178.57142857142844,
          175.57142857142844,
          171.28571428571377,
          162.28571428571558,
          153.57142857142753,
          146.42857142857247,
          144.42857142857065,
          144.14285714285688,
          139.14285714285688,
          134.57142857142935,
          136.28571428571377,
          136.42857142857247,
          136.14285714285688,
          138,
          141.57142857142753,
          147.1428571428587,
          157.8571428571413,
          165.71428571428623,
          179,
          193.71428571428623,
          205.28571428571377,
          214.57142857142935,
          225.42857142857065,
          235.71428571428623,
          244.28571428571377,
          250.14285714285688,
          251.42857142857247,
          253.28571428571377,
          256.28571428571377,
          259.42857142857247,
          263.1428571428569,
          271.57142857142753,
          278.2857142857156,
          286.28571428571377,
          295.71428571428623,
          303.1428571428569,
          307,
          312,
          312.42857142857065,
          310.85714285714494,
          306.8571428571413,
          298.8571428571413,
          293.57142857143117,
          291,
          286.8571428571413,
          286.1428571428587,
          290.57142857142753,
          293.1428571428587,
          299.14285714285506,
          305,
          310.57142857142753,
          314.71428571428623,
          313.71428571428623,
          308.28571428571377,
          305,
          298.57142857143117,
          285.8571428571413,
          273.42857142857247,
          259.8571428571413,
          246.71428571428623,
          235.1428571428587,
          224.7142857142826,
          217.1428571428587,
          211.8571428571413
         ]
        },
        {
         "mode": "lines",
         "name": "Alabama (Mask Mandate)",
         "type": "scatter",
         "x": [
          "2020-04-17",
          "2020-04-18",
          "2020-04-19",
          "2020-04-20",
          "2020-04-21",
          "2020-04-22",
          "2020-04-23",
          "2020-04-24",
          "2020-04-25",
          "2020-04-26",
          "2020-04-27",
          "2020-04-28",
          "2020-04-29",
          "2020-04-30",
          "2020-05-01",
          "2020-05-02",
          "2020-05-03",
          "2020-05-04",
          "2020-05-05",
          "2020-05-06",
          "2020-05-07",
          "2020-05-08",
          "2020-05-09",
          "2020-05-10",
          "2020-05-11",
          "2020-05-12",
          "2020-05-13",
          "2020-05-14",
          "2020-05-15",
          "2020-05-16",
          "2020-05-17",
          "2020-05-18",
          "2020-05-19",
          "2020-05-20",
          "2020-05-21",
          "2020-05-22",
          "2020-05-23",
          "2020-05-24",
          "2020-05-25",
          "2020-05-26",
          "2020-05-27",
          "2020-05-28",
          "2020-05-29",
          "2020-05-30",
          "2020-05-31",
          "2020-06-01",
          "2020-06-02",
          "2020-06-03",
          "2020-06-04",
          "2020-06-05",
          "2020-06-06",
          "2020-06-07",
          "2020-06-08",
          "2020-06-09",
          "2020-06-10",
          "2020-06-11",
          "2020-06-12",
          "2020-06-13",
          "2020-06-14",
          "2020-06-15",
          "2020-06-16",
          "2020-06-17",
          "2020-06-18",
          "2020-06-19",
          "2020-06-20",
          "2020-06-21",
          "2020-06-22",
          "2020-06-23",
          "2020-06-24",
          "2020-06-25",
          "2020-06-26",
          "2020-06-27",
          "2020-06-28",
          "2020-06-29",
          "2020-06-30",
          "2020-07-01",
          "2020-07-02",
          "2020-07-03",
          "2020-07-04",
          "2020-07-05",
          "2020-07-06",
          "2020-07-07",
          "2020-07-08",
          "2020-07-09",
          "2020-07-10",
          "2020-07-11",
          "2020-07-12",
          "2020-07-13",
          "2020-07-14",
          "2020-07-15",
          "2020-07-16",
          "2020-07-17",
          "2020-07-18",
          "2020-07-19",
          "2020-07-20",
          "2020-07-21",
          "2020-07-22",
          "2020-07-23",
          "2020-07-24",
          "2020-07-25",
          "2020-07-26",
          "2020-07-27",
          "2020-07-28",
          "2020-07-29",
          "2020-07-30",
          "2020-07-31",
          "2020-08-01",
          "2020-08-02",
          "2020-08-03",
          "2020-08-04",
          "2020-08-05",
          "2020-08-06",
          "2020-08-07",
          "2020-08-08",
          "2020-08-09",
          "2020-08-10",
          "2020-08-11",
          "2020-08-12",
          "2020-08-13",
          "2020-08-14",
          "2020-08-15",
          "2020-08-16",
          "2020-08-17",
          "2020-08-18",
          "2020-08-19",
          "2020-08-20",
          "2020-08-21",
          "2020-08-22",
          "2020-08-23",
          "2020-08-24",
          "2020-08-25",
          "2020-08-26",
          "2020-08-27",
          "2020-08-28",
          "2020-08-29",
          "2020-08-30",
          "2020-08-31",
          "2020-09-01",
          "2020-09-02",
          "2020-09-03",
          "2020-09-04",
          "2020-09-05",
          "2020-09-06",
          "2020-09-07",
          "2020-09-08",
          "2020-09-09",
          "2020-09-10",
          "2020-09-11",
          "2020-09-12",
          "2020-09-13",
          "2020-09-14",
          "2020-09-15"
         ],
         "y": [
          null,
          null,
          null,
          null,
          null,
          null,
          null,
          null,
          null,
          null,
          null,
          null,
          null,
          null,
          null,
          null,
          null,
          null,
          null,
          null,
          null,
          null,
          null,
          76.71428571428532,
          78.28571428571468,
          80,
          81.5,
          84.64285714285688,
          88.64285714285688,
          91.71428571428623,
          93.64285714285688,
          95.71428571428532,
          97.21428571428623,
          98.64285714285688,
          99.07142857142844,
          98.35714285714312,
          97.07142857142844,
          95.85714285714312,
          93.78571428571377,
          92.42857142857156,
          92.35714285714312,
          92.28571428571468,
          93.14285714285688,
          94,
          97,
          101.57142857142844,
          106.35714285714312,
          109.64285714285688,
          113,
          116.78571428571468,
          121.21428571428532,
          125.64285714285688,
          129.07142857142844,
          132.1428571428578,
          134.64285714285688,
          136.57142857142844,
          139,
          143.07142857142844,
          148.1428571428578,
          152.21428571428532,
          156,
          159.85714285714312,
          165.78571428571377,
          172.14285714285688,
          177.14285714285688,
          180.35714285714312,
          183.78571428571558,
          186.5,
          188.07142857142753,
          191.35714285714312,
          193.64285714285688,
          195.35714285714312,
          192.35714285714312,
          191.28571428571377,
          190.14285714285688,
          190.28571428571558,
          191.3571428571413,
          195.07142857142935,
          198.85714285714312,
          203.35714285714312,
          208.85714285714312,
          214.64285714285688,
          223.92857142857065,
          231.28571428571377,
          239.1428571428587,
          249.57142857142753,
          260,
          267.71428571428623,
          277.8571428571431,
          288.8571428571431,
          298.78571428571377,
          307.57142857142753,
          318.8571428571431,
          332.2857142857156,
          345.78571428571377,
          357.8571428571431,
          367.92857142857247,
          378.42857142856883,
          387.57142857143117,
          393.28571428571377,
          400.14285714285506,
          408.21428571428623,
          411.71428571428623,
          412.3571428571413,
          410.5,
          407.2857142857174,
          401.8571428571413,
          394.21428571428623,
          385.3571428571413,
          376.42857142857247,
          365.5,
          353.42857142857247,
          341.64285714285506,
          329.35714285714494,
          318.14285714285506,
          304.28571428571377,
          293.35714285714494,
          282.07142857142753,
          271.6428571428587,
          261.07142857142753,
          252,
          242.6428571428587,
          233.14285714285506,
          226.28571428571377,
          222.1428571428587,
          220.64285714285506,
          219.07142857143117,
          220.78571428571377,
          222.21428571428623,
          228.8571428571413,
          234.57142857142753,
          243.71428571428623,
          256.78571428571377,
          268.42857142857247,
          278.71428571428623,
          289.78571428571377,
          302.1428571428587,
          313.3571428571413,
          323.78571428571377,
          330.6428571428587,
          339.64285714285506,
          345.35714285714494,
          347.57142857142753,
          345.71428571428623,
          342.3571428571413,
          336.71428571428623,
          328,
          321,
          315.85714285714494,
          311.7142857142826,
          305.7142857142899,
          299.85714285713766
         ]
        },
        {
         "mode": "lines",
         "name": "Georgia (No Mask Mandate)",
         "type": "scatter",
         "x": [
          "2020-04-17",
          "2020-04-18",
          "2020-04-19",
          "2020-04-20",
          "2020-04-21",
          "2020-04-22",
          "2020-04-23",
          "2020-04-24",
          "2020-04-25",
          "2020-04-26",
          "2020-04-27",
          "2020-04-28",
          "2020-04-29",
          "2020-04-30",
          "2020-05-01",
          "2020-05-02",
          "2020-05-03",
          "2020-05-04",
          "2020-05-05",
          "2020-05-06",
          "2020-05-07",
          "2020-05-08",
          "2020-05-09",
          "2020-05-10",
          "2020-05-11",
          "2020-05-12",
          "2020-05-13",
          "2020-05-14",
          "2020-05-15",
          "2020-05-16",
          "2020-05-17",
          "2020-05-18",
          "2020-05-19",
          "2020-05-20",
          "2020-05-21",
          "2020-05-22",
          "2020-05-23",
          "2020-05-24",
          "2020-05-25",
          "2020-05-26",
          "2020-05-27",
          "2020-05-28",
          "2020-05-29",
          "2020-05-30",
          "2020-05-31",
          "2020-06-01",
          "2020-06-02",
          "2020-06-03",
          "2020-06-04",
          "2020-06-05",
          "2020-06-06",
          "2020-06-07",
          "2020-06-08",
          "2020-06-09",
          "2020-06-10",
          "2020-06-11",
          "2020-06-12",
          "2020-06-13",
          "2020-06-14",
          "2020-06-15",
          "2020-06-16",
          "2020-06-17",
          "2020-06-18",
          "2020-06-19",
          "2020-06-20",
          "2020-06-21",
          "2020-06-22",
          "2020-06-23",
          "2020-06-24",
          "2020-06-25",
          "2020-06-26",
          "2020-06-27",
          "2020-06-28",
          "2020-06-29",
          "2020-06-30",
          "2020-07-01",
          "2020-07-02",
          "2020-07-03",
          "2020-07-04",
          "2020-07-05",
          "2020-07-06",
          "2020-07-07",
          "2020-07-08",
          "2020-07-09",
          "2020-07-10",
          "2020-07-11",
          "2020-07-12",
          "2020-07-13",
          "2020-07-14",
          "2020-07-15",
          "2020-07-16",
          "2020-07-17",
          "2020-07-18",
          "2020-07-19",
          "2020-07-20",
          "2020-07-21",
          "2020-07-22",
          "2020-07-23",
          "2020-07-24",
          "2020-07-25",
          "2020-07-26",
          "2020-07-27",
          "2020-07-28",
          "2020-07-29",
          "2020-07-30",
          "2020-07-31",
          "2020-08-01",
          "2020-08-02",
          "2020-08-03",
          "2020-08-04",
          "2020-08-05",
          "2020-08-06",
          "2020-08-07",
          "2020-08-08",
          "2020-08-09",
          "2020-08-10",
          "2020-08-11",
          "2020-08-12",
          "2020-08-13",
          "2020-08-14",
          "2020-08-15",
          "2020-08-16",
          "2020-08-17",
          "2020-08-18",
          "2020-08-19",
          "2020-08-20",
          "2020-08-21",
          "2020-08-22",
          "2020-08-23",
          "2020-08-24",
          "2020-08-25",
          "2020-08-26",
          "2020-08-27",
          "2020-08-28",
          "2020-08-29",
          "2020-08-30",
          "2020-08-31",
          "2020-09-01",
          "2020-09-02",
          "2020-09-03",
          "2020-09-04",
          "2020-09-05",
          "2020-09-06",
          "2020-09-07",
          "2020-09-08",
          "2020-09-09",
          "2020-09-10",
          "2020-09-11",
          "2020-09-12",
          "2020-09-13",
          "2020-09-14",
          "2020-09-15"
         ],
         "y": [
          null,
          null,
          null,
          null,
          null,
          null,
          null,
          null,
          null,
          null,
          null,
          null,
          null,
          null,
          null,
          null,
          null,
          null,
          null,
          null,
          null,
          null,
          null,
          58.78571428571422,
          56.35714285714266,
          53.64285714285734,
          50.57142857142844,
          49,
          47.21428571428578,
          46.14285714285734,
          44.14285714285688,
          42.28571428571422,
          41.21428571428578,
          40.57142857142844,
          40.21428571428578,
          41.071428571428896,
          42.35714285714266,
          42.64285714285734,
          43.64285714285688,
          44.5,
          46.28571428571422,
          47.71428571428578,
          48.78571428571422,
          49.64285714285688,
          50.5,
          51.5,
          51.92857142857156,
          52.785714285714675,
          53.5,
          53.714285714285325,
          53.285714285714675,
          53.785714285713766,
          53.714285714286234,
          53.92857142857156,
          54.14285714285688,
          53.714285714285325,
          53.714285714286234,
          53.92857142857156,
          54.14285714285688,
          54.42857142857156,
          55.785714285713766,
          56.285714285714675,
          57.14285714285688,
          59,
          60.85714285714312,
          62.14285714285688,
          63.35714285714312,
          64.21428571428532,
          64.78571428571468,
          66.71428571428532,
          68.28571428571468,
          69.92857142857156,
          71.64285714285688,
          72,
          72.28571428571468,
          73.78571428571377,
          75.78571428571468,
          80.57142857142844,
          86.57142857142844,
          91.92857142857156,
          97.64285714285688,
          105.78571428571468,
          114.42857142857156,
          122.21428571428532,
          130.57142857142844,
          139.07142857142844,
          147.28571428571468,
          153.14285714285688,
          158.07142857142844,
          164.07142857142935,
          169,
          167.92857142857065,
          166.21428571428532,
          166.07142857142935,
          164.57142857142935,
          161.3571428571413,
          157.35714285714312,
          152.92857142857247,
          149.28571428571377,
          145,
          141.28571428571377,
          141.21428571428623,
          142.85714285714312,
          143.14285714285688,
          146.21428571428623,
          151,
          157.71428571428442,
          164.92857142857247,
          171.64285714285688,
          178.07142857142935,
          186.28571428571377,
          196.78571428571377,
          205,
          214.57142857142935,
          222.57142857142753,
          229.28571428571558,
          235.42857142857065,
          242.42857142857065,
          249.42857142857247,
          257.92857142857065,
          264.21428571428623,
          268.8571428571431,
          274.5,
          279.71428571428623,
          283.2142857142844,
          287.57142857142935,
          292,
          294.57142857142753,
          296.57142857142935,
          297.28571428571377,
          298.3571428571431,
          299.0000000000018,
          299.42857142856883,
          299.28571428571377,
          300.71428571428623,
          300,
          299,
          299.28571428571377,
          300.7857142857174,
          300.78571428571377,
          299.92857142856883,
          299.42857142857247,
          299.07142857142753,
          298.85714285714494,
          295.42857142857247,
          292,
          287.28571428571377,
          280.21428571428623,
          271.7142857142826,
          264.85714285714494,
          257.8571428571413,
          248.85714285714494
         ]
        },
        {
         "mode": "lines",
         "name": "Alabama (Mask Mandate)",
         "type": "scatter",
         "x": [
          "2020-04-17",
          "2020-04-18",
          "2020-04-19",
          "2020-04-20",
          "2020-04-21",
          "2020-04-22",
          "2020-04-23",
          "2020-04-24",
          "2020-04-25",
          "2020-04-26",
          "2020-04-27",
          "2020-04-28",
          "2020-04-29",
          "2020-04-30",
          "2020-05-01",
          "2020-05-02",
          "2020-05-03",
          "2020-05-04",
          "2020-05-05",
          "2020-05-06",
          "2020-05-07",
          "2020-05-08",
          "2020-05-09",
          "2020-05-10",
          "2020-05-11",
          "2020-05-12",
          "2020-05-13",
          "2020-05-14",
          "2020-05-15",
          "2020-05-16",
          "2020-05-17",
          "2020-05-18",
          "2020-05-19",
          "2020-05-20",
          "2020-05-21",
          "2020-05-22",
          "2020-05-23",
          "2020-05-24",
          "2020-05-25",
          "2020-05-26",
          "2020-05-27",
          "2020-05-28",
          "2020-05-29",
          "2020-05-30",
          "2020-05-31",
          "2020-06-01",
          "2020-06-02",
          "2020-06-03",
          "2020-06-04",
          "2020-06-05",
          "2020-06-06",
          "2020-06-07",
          "2020-06-08",
          "2020-06-09",
          "2020-06-10",
          "2020-06-11",
          "2020-06-12",
          "2020-06-13",
          "2020-06-14",
          "2020-06-15",
          "2020-06-16",
          "2020-06-17",
          "2020-06-18",
          "2020-06-19",
          "2020-06-20",
          "2020-06-21",
          "2020-06-22",
          "2020-06-23",
          "2020-06-24",
          "2020-06-25",
          "2020-06-26",
          "2020-06-27",
          "2020-06-28",
          "2020-06-29",
          "2020-06-30",
          "2020-07-01",
          "2020-07-02",
          "2020-07-03",
          "2020-07-04",
          "2020-07-05",
          "2020-07-06",
          "2020-07-07",
          "2020-07-08",
          "2020-07-09",
          "2020-07-10",
          "2020-07-11",
          "2020-07-12",
          "2020-07-13",
          "2020-07-14",
          "2020-07-15",
          "2020-07-16",
          "2020-07-17",
          "2020-07-18",
          "2020-07-19",
          "2020-07-20",
          "2020-07-21",
          "2020-07-22",
          "2020-07-23",
          "2020-07-24",
          "2020-07-25",
          "2020-07-26",
          "2020-07-27",
          "2020-07-28",
          "2020-07-29",
          "2020-07-30",
          "2020-07-31",
          "2020-08-01",
          "2020-08-02",
          "2020-08-03",
          "2020-08-04",
          "2020-08-05",
          "2020-08-06",
          "2020-08-07",
          "2020-08-08",
          "2020-08-09",
          "2020-08-10",
          "2020-08-11",
          "2020-08-12",
          "2020-08-13",
          "2020-08-14",
          "2020-08-15",
          "2020-08-16",
          "2020-08-17",
          "2020-08-18",
          "2020-08-19",
          "2020-08-20",
          "2020-08-21",
          "2020-08-22",
          "2020-08-23",
          "2020-08-24",
          "2020-08-25",
          "2020-08-26",
          "2020-08-27",
          "2020-08-28",
          "2020-08-29",
          "2020-08-30",
          "2020-08-31",
          "2020-09-01",
          "2020-09-02",
          "2020-09-03",
          "2020-09-04",
          "2020-09-05",
          "2020-09-06",
          "2020-09-07",
          "2020-09-08",
          "2020-09-09",
          "2020-09-10",
          "2020-09-11",
          "2020-09-12",
          "2020-09-13",
          "2020-09-14",
          "2020-09-15"
         ],
         "y": [
          null,
          null,
          null,
          null,
          null,
          null,
          null,
          null,
          null,
          null,
          null,
          null,
          null,
          null,
          null,
          null,
          null,
          null,
          null,
          null,
          null,
          null,
          null,
          null,
          null,
          null,
          null,
          null,
          null,
          null,
          null,
          null,
          null,
          null,
          null,
          null,
          null,
          null,
          null,
          86.46666666666715,
          86.83333333333303,
          87.5,
          88.83333333333303,
          90.46666666666715,
          93.23333333333267,
          96.36666666666679,
          99.26666666666733,
          101.96666666666624,
          104.16666666666697,
          105.9333333333334,
          107.89999999999964,
          109.83333333333303,
          111.0666666666666,
          112.33333333333394,
          113.13333333333321,
          113.89999999999964,
          115.66666666666697,
          117.73333333333358,
          121,
          124.59999999999945,
          128.3666666666668,
          131.90000000000055,
          136.16666666666606,
          140.23333333333358,
          144.33333333333303,
          148.10000000000036,
          151.53333333333285,
          154.6333333333332,
          157.1333333333332,
          160.06666666666752,
          162.93333333333248,
          165.83333333333394,
          167.29999999999927,
          170,
          171.83333333333394,
          173.29999999999927,
          175.83333333333394,
          180.10000000000036,
          184.39999999999964,
          188.5,
          192.4333333333343,
          196.16666666666606,
          201.39999999999964,
          206.33333333333394,
          211.6999999999989,
          218.56666666666752,
          223.76666666666642,
          228.16666666666606,
          232.3666666666668,
          237.06666666666752,
          242.46666666666715,
          249.03333333333285,
          255.83333333333394,
          263.23333333333176,
          271.1333333333332,
          279,
          287.33333333333394,
          295.89999999999964,
          304.8000000000011,
          312.7999999999993,
          320.1333333333332,
          327.5,
          334.7333333333336,
          340.23333333333176,
          345.3000000000029,
          350.2999999999993,
          354.0666666666657,
          356.1666666666679,
          358.16666666666424,
          359.76666666667006,
          360.43333333333067,
          360.6666666666679,
          359.7333333333336,
          358.5666666666657,
          357,
          353.03333333333285,
          350.2999999999993,
          346.9333333333343,
          342.40000000000146,
          337.3333333333321,
          332.2333333333336,
          325.8666666666686,
          318.16666666666424,
          310.2999999999993,
          302.7333333333336,
          296.63333333333503,
          290.2666666666664,
          285,
          279.8333333333321,
          276.2999999999993,
          273.0333333333365,
          270.16666666666424,
          270.1000000000022,
          270.16666666666424,
          270.7333333333336,
          271.03333333333285,
          271.63333333333503,
          272.5666666666657,
          274,
          275.2666666666664,
          278.2000000000007,
          281.2333333333336,
          282.59999999999854,
          283.9333333333343,
          284.3333333333321,
          285.3000000000029,
          286.2666666666664,
          288.3333333333321,
          291.3666666666686,
          294.66666666666424,
          296.7000000000007,
          299.2666666666664
         ]
        },
        {
         "mode": "lines",
         "name": "Georgia (No Mask Mandate)",
         "type": "scatter",
         "x": [
          "2020-04-17",
          "2020-04-18",
          "2020-04-19",
          "2020-04-20",
          "2020-04-21",
          "2020-04-22",
          "2020-04-23",
          "2020-04-24",
          "2020-04-25",
          "2020-04-26",
          "2020-04-27",
          "2020-04-28",
          "2020-04-29",
          "2020-04-30",
          "2020-05-01",
          "2020-05-02",
          "2020-05-03",
          "2020-05-04",
          "2020-05-05",
          "2020-05-06",
          "2020-05-07",
          "2020-05-08",
          "2020-05-09",
          "2020-05-10",
          "2020-05-11",
          "2020-05-12",
          "2020-05-13",
          "2020-05-14",
          "2020-05-15",
          "2020-05-16",
          "2020-05-17",
          "2020-05-18",
          "2020-05-19",
          "2020-05-20",
          "2020-05-21",
          "2020-05-22",
          "2020-05-23",
          "2020-05-24",
          "2020-05-25",
          "2020-05-26",
          "2020-05-27",
          "2020-05-28",
          "2020-05-29",
          "2020-05-30",
          "2020-05-31",
          "2020-06-01",
          "2020-06-02",
          "2020-06-03",
          "2020-06-04",
          "2020-06-05",
          "2020-06-06",
          "2020-06-07",
          "2020-06-08",
          "2020-06-09",
          "2020-06-10",
          "2020-06-11",
          "2020-06-12",
          "2020-06-13",
          "2020-06-14",
          "2020-06-15",
          "2020-06-16",
          "2020-06-17",
          "2020-06-18",
          "2020-06-19",
          "2020-06-20",
          "2020-06-21",
          "2020-06-22",
          "2020-06-23",
          "2020-06-24",
          "2020-06-25",
          "2020-06-26",
          "2020-06-27",
          "2020-06-28",
          "2020-06-29",
          "2020-06-30",
          "2020-07-01",
          "2020-07-02",
          "2020-07-03",
          "2020-07-04",
          "2020-07-05",
          "2020-07-06",
          "2020-07-07",
          "2020-07-08",
          "2020-07-09",
          "2020-07-10",
          "2020-07-11",
          "2020-07-12",
          "2020-07-13",
          "2020-07-14",
          "2020-07-15",
          "2020-07-16",
          "2020-07-17",
          "2020-07-18",
          "2020-07-19",
          "2020-07-20",
          "2020-07-21",
          "2020-07-22",
          "2020-07-23",
          "2020-07-24",
          "2020-07-25",
          "2020-07-26",
          "2020-07-27",
          "2020-07-28",
          "2020-07-29",
          "2020-07-30",
          "2020-07-31",
          "2020-08-01",
          "2020-08-02",
          "2020-08-03",
          "2020-08-04",
          "2020-08-05",
          "2020-08-06",
          "2020-08-07",
          "2020-08-08",
          "2020-08-09",
          "2020-08-10",
          "2020-08-11",
          "2020-08-12",
          "2020-08-13",
          "2020-08-14",
          "2020-08-15",
          "2020-08-16",
          "2020-08-17",
          "2020-08-18",
          "2020-08-19",
          "2020-08-20",
          "2020-08-21",
          "2020-08-22",
          "2020-08-23",
          "2020-08-24",
          "2020-08-25",
          "2020-08-26",
          "2020-08-27",
          "2020-08-28",
          "2020-08-29",
          "2020-08-30",
          "2020-08-31",
          "2020-09-01",
          "2020-09-02",
          "2020-09-03",
          "2020-09-04",
          "2020-09-05",
          "2020-09-06",
          "2020-09-07",
          "2020-09-08",
          "2020-09-09",
          "2020-09-10",
          "2020-09-11",
          "2020-09-12",
          "2020-09-13",
          "2020-09-14",
          "2020-09-15"
         ],
         "y": [
          null,
          null,
          null,
          null,
          null,
          null,
          null,
          null,
          null,
          null,
          null,
          null,
          null,
          null,
          null,
          null,
          null,
          null,
          null,
          null,
          null,
          null,
          null,
          null,
          null,
          null,
          null,
          null,
          null,
          null,
          null,
          null,
          null,
          null,
          null,
          null,
          null,
          null,
          null,
          50.70000000000027,
          50.36666666666633,
          49.9666666666667,
          49.36666666666679,
          48.86666666666679,
          48.19999999999982,
          47.90000000000009,
          47.266666666666424,
          47.233333333333576,
          47.30000000000018,
          47.36666666666633,
          47.33333333333303,
          47.600000000000364,
          47.899999999999636,
          48.433333333333394,
          49.33333333333394,
          50,
          50.83333333333303,
          51.16666666666697,
          51.433333333333394,
          51.766666666666424,
          52.69999999999982,
          53.766666666666424,
          54.733333333333576,
          55.96666666666715,
          56.96666666666624,
          57.433333333333394,
          57.69999999999982,
          58.5,
          59.19999999999982,
          60.36666666666679,
          61.100000000000364,
          61.53333333333285,
          62.100000000000364,
          62.19999999999982,
          62.86666666666679,
          64.16666666666697,
          65.86666666666679,
          68.9333333333334,
          72.39999999999964,
          75.26666666666642,
          78.40000000000055,
          82.76666666666642,
          87.53333333333285,
          92.23333333333358,
          96.76666666666642,
          101.36666666666679,
          105.76666666666733,
          108.5,
          111.36666666666588,
          115.33333333333394,
          118.69999999999982,
          121.03333333333285,
          123.30000000000018,
          125.23333333333358,
          126.80000000000018,
          129.0666666666666,
          131.39999999999964,
          133.6333333333332,
          136.20000000000073,
          137.89999999999964,
          139.83333333333394,
          141.76666666666642,
          144.60000000000036,
          148.53333333333285,
          153.1999999999989,
          157.06666666666752,
          161.53333333333285,
          164.60000000000036,
          166.5,
          169.26666666666642,
          172.76666666666642,
          176.10000000000036,
          178.46666666666715,
          181,
          182.76666666666642,
          183.8666666666668,
          185.73333333333358,
          190.1999999999989,
          195.83333333333394,
          200.8666666666668,
          205.96666666666715,
          211.6999999999989,
          217.03333333333467,
          222.29999999999927,
          228.1333333333332,
          235,
          241.29999999999927,
          247.10000000000036,
          251.5,
          254.9333333333343,
          259.03333333333285,
          263.83333333333394,
          268.89999999999964,
          273.7333333333336,
          278.0666666666657,
          281.2333333333336,
          282.96666666666715,
          285,
          288.39999999999964,
          292.26666666666824,
          294.3333333333321,
          295,
          295.40000000000146,
          294.2666666666664,
          293.03333333333285,
          293.09999999999854,
          293.1000000000022,
          291.36666666666497,
          288.46666666666715,
          284.46666666666715,
          280,
          275.66666666666424
         ]
        }
       ],
       "layout": {
        "template": {
         "data": {
          "bar": [
           {
            "error_x": {
             "color": "#2a3f5f"
            },
            "error_y": {
             "color": "#2a3f5f"
            },
            "marker": {
             "line": {
              "color": "#E5ECF6",
              "width": 0.5
             }
            },
            "type": "bar"
           }
          ],
          "barpolar": [
           {
            "marker": {
             "line": {
              "color": "#E5ECF6",
              "width": 0.5
             }
            },
            "type": "barpolar"
           }
          ],
          "carpet": [
           {
            "aaxis": {
             "endlinecolor": "#2a3f5f",
             "gridcolor": "white",
             "linecolor": "white",
             "minorgridcolor": "white",
             "startlinecolor": "#2a3f5f"
            },
            "baxis": {
             "endlinecolor": "#2a3f5f",
             "gridcolor": "white",
             "linecolor": "white",
             "minorgridcolor": "white",
             "startlinecolor": "#2a3f5f"
            },
            "type": "carpet"
           }
          ],
          "choropleth": [
           {
            "colorbar": {
             "outlinewidth": 0,
             "ticks": ""
            },
            "type": "choropleth"
           }
          ],
          "contour": [
           {
            "colorbar": {
             "outlinewidth": 0,
             "ticks": ""
            },
            "colorscale": [
             [
              0,
              "#0d0887"
             ],
             [
              0.1111111111111111,
              "#46039f"
             ],
             [
              0.2222222222222222,
              "#7201a8"
             ],
             [
              0.3333333333333333,
              "#9c179e"
             ],
             [
              0.4444444444444444,
              "#bd3786"
             ],
             [
              0.5555555555555556,
              "#d8576b"
             ],
             [
              0.6666666666666666,
              "#ed7953"
             ],
             [
              0.7777777777777778,
              "#fb9f3a"
             ],
             [
              0.8888888888888888,
              "#fdca26"
             ],
             [
              1,
              "#f0f921"
             ]
            ],
            "type": "contour"
           }
          ],
          "contourcarpet": [
           {
            "colorbar": {
             "outlinewidth": 0,
             "ticks": ""
            },
            "type": "contourcarpet"
           }
          ],
          "heatmap": [
           {
            "colorbar": {
             "outlinewidth": 0,
             "ticks": ""
            },
            "colorscale": [
             [
              0,
              "#0d0887"
             ],
             [
              0.1111111111111111,
              "#46039f"
             ],
             [
              0.2222222222222222,
              "#7201a8"
             ],
             [
              0.3333333333333333,
              "#9c179e"
             ],
             [
              0.4444444444444444,
              "#bd3786"
             ],
             [
              0.5555555555555556,
              "#d8576b"
             ],
             [
              0.6666666666666666,
              "#ed7953"
             ],
             [
              0.7777777777777778,
              "#fb9f3a"
             ],
             [
              0.8888888888888888,
              "#fdca26"
             ],
             [
              1,
              "#f0f921"
             ]
            ],
            "type": "heatmap"
           }
          ],
          "heatmapgl": [
           {
            "colorbar": {
             "outlinewidth": 0,
             "ticks": ""
            },
            "colorscale": [
             [
              0,
              "#0d0887"
             ],
             [
              0.1111111111111111,
              "#46039f"
             ],
             [
              0.2222222222222222,
              "#7201a8"
             ],
             [
              0.3333333333333333,
              "#9c179e"
             ],
             [
              0.4444444444444444,
              "#bd3786"
             ],
             [
              0.5555555555555556,
              "#d8576b"
             ],
             [
              0.6666666666666666,
              "#ed7953"
             ],
             [
              0.7777777777777778,
              "#fb9f3a"
             ],
             [
              0.8888888888888888,
              "#fdca26"
             ],
             [
              1,
              "#f0f921"
             ]
            ],
            "type": "heatmapgl"
           }
          ],
          "histogram": [
           {
            "marker": {
             "colorbar": {
              "outlinewidth": 0,
              "ticks": ""
             }
            },
            "type": "histogram"
           }
          ],
          "histogram2d": [
           {
            "colorbar": {
             "outlinewidth": 0,
             "ticks": ""
            },
            "colorscale": [
             [
              0,
              "#0d0887"
             ],
             [
              0.1111111111111111,
              "#46039f"
             ],
             [
              0.2222222222222222,
              "#7201a8"
             ],
             [
              0.3333333333333333,
              "#9c179e"
             ],
             [
              0.4444444444444444,
              "#bd3786"
             ],
             [
              0.5555555555555556,
              "#d8576b"
             ],
             [
              0.6666666666666666,
              "#ed7953"
             ],
             [
              0.7777777777777778,
              "#fb9f3a"
             ],
             [
              0.8888888888888888,
              "#fdca26"
             ],
             [
              1,
              "#f0f921"
             ]
            ],
            "type": "histogram2d"
           }
          ],
          "histogram2dcontour": [
           {
            "colorbar": {
             "outlinewidth": 0,
             "ticks": ""
            },
            "colorscale": [
             [
              0,
              "#0d0887"
             ],
             [
              0.1111111111111111,
              "#46039f"
             ],
             [
              0.2222222222222222,
              "#7201a8"
             ],
             [
              0.3333333333333333,
              "#9c179e"
             ],
             [
              0.4444444444444444,
              "#bd3786"
             ],
             [
              0.5555555555555556,
              "#d8576b"
             ],
             [
              0.6666666666666666,
              "#ed7953"
             ],
             [
              0.7777777777777778,
              "#fb9f3a"
             ],
             [
              0.8888888888888888,
              "#fdca26"
             ],
             [
              1,
              "#f0f921"
             ]
            ],
            "type": "histogram2dcontour"
           }
          ],
          "mesh3d": [
           {
            "colorbar": {
             "outlinewidth": 0,
             "ticks": ""
            },
            "type": "mesh3d"
           }
          ],
          "parcoords": [
           {
            "line": {
             "colorbar": {
              "outlinewidth": 0,
              "ticks": ""
             }
            },
            "type": "parcoords"
           }
          ],
          "pie": [
           {
            "automargin": true,
            "type": "pie"
           }
          ],
          "scatter": [
           {
            "marker": {
             "colorbar": {
              "outlinewidth": 0,
              "ticks": ""
             }
            },
            "type": "scatter"
           }
          ],
          "scatter3d": [
           {
            "line": {
             "colorbar": {
              "outlinewidth": 0,
              "ticks": ""
             }
            },
            "marker": {
             "colorbar": {
              "outlinewidth": 0,
              "ticks": ""
             }
            },
            "type": "scatter3d"
           }
          ],
          "scattercarpet": [
           {
            "marker": {
             "colorbar": {
              "outlinewidth": 0,
              "ticks": ""
             }
            },
            "type": "scattercarpet"
           }
          ],
          "scattergeo": [
           {
            "marker": {
             "colorbar": {
              "outlinewidth": 0,
              "ticks": ""
             }
            },
            "type": "scattergeo"
           }
          ],
          "scattergl": [
           {
            "marker": {
             "colorbar": {
              "outlinewidth": 0,
              "ticks": ""
             }
            },
            "type": "scattergl"
           }
          ],
          "scattermapbox": [
           {
            "marker": {
             "colorbar": {
              "outlinewidth": 0,
              "ticks": ""
             }
            },
            "type": "scattermapbox"
           }
          ],
          "scatterpolar": [
           {
            "marker": {
             "colorbar": {
              "outlinewidth": 0,
              "ticks": ""
             }
            },
            "type": "scatterpolar"
           }
          ],
          "scatterpolargl": [
           {
            "marker": {
             "colorbar": {
              "outlinewidth": 0,
              "ticks": ""
             }
            },
            "type": "scatterpolargl"
           }
          ],
          "scatterternary": [
           {
            "marker": {
             "colorbar": {
              "outlinewidth": 0,
              "ticks": ""
             }
            },
            "type": "scatterternary"
           }
          ],
          "surface": [
           {
            "colorbar": {
             "outlinewidth": 0,
             "ticks": ""
            },
            "colorscale": [
             [
              0,
              "#0d0887"
             ],
             [
              0.1111111111111111,
              "#46039f"
             ],
             [
              0.2222222222222222,
              "#7201a8"
             ],
             [
              0.3333333333333333,
              "#9c179e"
             ],
             [
              0.4444444444444444,
              "#bd3786"
             ],
             [
              0.5555555555555556,
              "#d8576b"
             ],
             [
              0.6666666666666666,
              "#ed7953"
             ],
             [
              0.7777777777777778,
              "#fb9f3a"
             ],
             [
              0.8888888888888888,
              "#fdca26"
             ],
             [
              1,
              "#f0f921"
             ]
            ],
            "type": "surface"
           }
          ],
          "table": [
           {
            "cells": {
             "fill": {
              "color": "#EBF0F8"
             },
             "line": {
              "color": "white"
             }
            },
            "header": {
             "fill": {
              "color": "#C8D4E3"
             },
             "line": {
              "color": "white"
             }
            },
            "type": "table"
           }
          ]
         },
         "layout": {
          "annotationdefaults": {
           "arrowcolor": "#2a3f5f",
           "arrowhead": 0,
           "arrowwidth": 1
          },
          "coloraxis": {
           "colorbar": {
            "outlinewidth": 0,
            "ticks": ""
           }
          },
          "colorscale": {
           "diverging": [
            [
             0,
             "#8e0152"
            ],
            [
             0.1,
             "#c51b7d"
            ],
            [
             0.2,
             "#de77ae"
            ],
            [
             0.3,
             "#f1b6da"
            ],
            [
             0.4,
             "#fde0ef"
            ],
            [
             0.5,
             "#f7f7f7"
            ],
            [
             0.6,
             "#e6f5d0"
            ],
            [
             0.7,
             "#b8e186"
            ],
            [
             0.8,
             "#7fbc41"
            ],
            [
             0.9,
             "#4d9221"
            ],
            [
             1,
             "#276419"
            ]
           ],
           "sequential": [
            [
             0,
             "#0d0887"
            ],
            [
             0.1111111111111111,
             "#46039f"
            ],
            [
             0.2222222222222222,
             "#7201a8"
            ],
            [
             0.3333333333333333,
             "#9c179e"
            ],
            [
             0.4444444444444444,
             "#bd3786"
            ],
            [
             0.5555555555555556,
             "#d8576b"
            ],
            [
             0.6666666666666666,
             "#ed7953"
            ],
            [
             0.7777777777777778,
             "#fb9f3a"
            ],
            [
             0.8888888888888888,
             "#fdca26"
            ],
            [
             1,
             "#f0f921"
            ]
           ],
           "sequentialminus": [
            [
             0,
             "#0d0887"
            ],
            [
             0.1111111111111111,
             "#46039f"
            ],
            [
             0.2222222222222222,
             "#7201a8"
            ],
            [
             0.3333333333333333,
             "#9c179e"
            ],
            [
             0.4444444444444444,
             "#bd3786"
            ],
            [
             0.5555555555555556,
             "#d8576b"
            ],
            [
             0.6666666666666666,
             "#ed7953"
            ],
            [
             0.7777777777777778,
             "#fb9f3a"
            ],
            [
             0.8888888888888888,
             "#fdca26"
            ],
            [
             1,
             "#f0f921"
            ]
           ]
          },
          "colorway": [
           "#636efa",
           "#EF553B",
           "#00cc96",
           "#ab63fa",
           "#FFA15A",
           "#19d3f3",
           "#FF6692",
           "#B6E880",
           "#FF97FF",
           "#FECB52"
          ],
          "font": {
           "color": "#2a3f5f"
          },
          "geo": {
           "bgcolor": "white",
           "lakecolor": "white",
           "landcolor": "#E5ECF6",
           "showlakes": true,
           "showland": true,
           "subunitcolor": "white"
          },
          "hoverlabel": {
           "align": "left"
          },
          "hovermode": "closest",
          "mapbox": {
           "style": "light"
          },
          "paper_bgcolor": "white",
          "plot_bgcolor": "#E5ECF6",
          "polar": {
           "angularaxis": {
            "gridcolor": "white",
            "linecolor": "white",
            "ticks": ""
           },
           "bgcolor": "#E5ECF6",
           "radialaxis": {
            "gridcolor": "white",
            "linecolor": "white",
            "ticks": ""
           }
          },
          "scene": {
           "xaxis": {
            "backgroundcolor": "#E5ECF6",
            "gridcolor": "white",
            "gridwidth": 2,
            "linecolor": "white",
            "showbackground": true,
            "ticks": "",
            "zerolinecolor": "white"
           },
           "yaxis": {
            "backgroundcolor": "#E5ECF6",
            "gridcolor": "white",
            "gridwidth": 2,
            "linecolor": "white",
            "showbackground": true,
            "ticks": "",
            "zerolinecolor": "white"
           },
           "zaxis": {
            "backgroundcolor": "#E5ECF6",
            "gridcolor": "white",
            "gridwidth": 2,
            "linecolor": "white",
            "showbackground": true,
            "ticks": "",
            "zerolinecolor": "white"
           }
          },
          "shapedefaults": {
           "line": {
            "color": "#2a3f5f"
           }
          },
          "ternary": {
           "aaxis": {
            "gridcolor": "white",
            "linecolor": "white",
            "ticks": ""
           },
           "baxis": {
            "gridcolor": "white",
            "linecolor": "white",
            "ticks": ""
           },
           "bgcolor": "#E5ECF6",
           "caxis": {
            "gridcolor": "white",
            "linecolor": "white",
            "ticks": ""
           }
          },
          "title": {
           "x": 0.05
          },
          "xaxis": {
           "automargin": true,
           "gridcolor": "white",
           "linecolor": "white",
           "ticks": "",
           "title": {
            "standoff": 15
           },
           "zerolinecolor": "white",
           "zerolinewidth": 2
          },
          "yaxis": {
           "automargin": true,
           "gridcolor": "white",
           "linecolor": "white",
           "ticks": "",
           "title": {
            "standoff": 15
           },
           "zerolinecolor": "white",
           "zerolinewidth": 2
          }
         }
        },
        "title": {
         "text": "Georgia vs Alabama Transmission Rates (Change in New Cases)"
        },
        "updatemenus": [
         {
          "active": 0,
          "buttons": [
           {
            "args": [
             {
              "visible": [
               true,
               true,
               false,
               false,
               false,
               false,
               false,
               false
              ]
             },
             {
              "annotations": [],
              "title": "1 Day Moving Average"
             }
            ],
            "label": "1 Day Moving Average",
            "method": "update"
           },
           {
            "args": [
             {
              "visible": [
               false,
               false,
               true,
               true,
               false,
               false,
               false,
               false
              ]
             },
             {
              "annotations": [],
              "title": "7 Day Moving Average"
             }
            ],
            "label": "7 Day Moving Average",
            "method": "update"
           },
           {
            "args": [
             {
              "visible": [
               false,
               false,
               false,
               false,
               true,
               true,
               false,
               false
              ]
             },
             {
              "annotations": [],
              "title": "14 Day Moving Average"
             }
            ],
            "label": "14 Day Moving Average",
            "method": "update"
           },
           {
            "args": [
             {
              "visible": [
               false,
               false,
               false,
               false,
               false,
               false,
               true,
               true
              ]
             },
             {
              "annotations": [],
              "title": "30 Day Moving Average"
             }
            ],
            "label": "30 Day Moving Average",
            "method": "update"
           }
          ]
         }
        ],
        "xaxis": {
         "ticktext": [
          "May 16th",
          "June 16th",
          "July 16th: Mandate Initiated",
          "August 16th",
          "September 16th"
         ],
         "tickvals": [
          "2020-05-16",
          "2020-06-16",
          "2020-07-16",
          "2020-08-16",
          "2020-09-15"
         ]
        }
       }
      },
      "text/html": [
       "<div>\n",
       "        \n",
       "        \n",
       "            <div id=\"e3ea6dfb-cf0e-4ec1-80a3-07a805ad78ea\" class=\"plotly-graph-div\" style=\"height:525px; width:100%;\"></div>\n",
       "            <script type=\"text/javascript\">\n",
       "                require([\"plotly\"], function(Plotly) {\n",
       "                    window.PLOTLYENV=window.PLOTLYENV || {};\n",
       "                    \n",
       "                if (document.getElementById(\"e3ea6dfb-cf0e-4ec1-80a3-07a805ad78ea\")) {\n",
       "                    Plotly.newPlot(\n",
       "                        'e3ea6dfb-cf0e-4ec1-80a3-07a805ad78ea',\n",
       "                        [{\"mode\": \"lines\", \"name\": \"Alabama (Mask Mandate)\", \"type\": \"scatter\", \"x\": [\"2020-04-17\", \"2020-04-18\", \"2020-04-19\", \"2020-04-20\", \"2020-04-21\", \"2020-04-22\", \"2020-04-23\", \"2020-04-24\", \"2020-04-25\", \"2020-04-26\", \"2020-04-27\", \"2020-04-28\", \"2020-04-29\", \"2020-04-30\", \"2020-05-01\", \"2020-05-02\", \"2020-05-03\", \"2020-05-04\", \"2020-05-05\", \"2020-05-06\", \"2020-05-07\", \"2020-05-08\", \"2020-05-09\", \"2020-05-10\", \"2020-05-11\", \"2020-05-12\", \"2020-05-13\", \"2020-05-14\", \"2020-05-15\", \"2020-05-16\", \"2020-05-17\", \"2020-05-18\", \"2020-05-19\", \"2020-05-20\", \"2020-05-21\", \"2020-05-22\", \"2020-05-23\", \"2020-05-24\", \"2020-05-25\", \"2020-05-26\", \"2020-05-27\", \"2020-05-28\", \"2020-05-29\", \"2020-05-30\", \"2020-05-31\", \"2020-06-01\", \"2020-06-02\", \"2020-06-03\", \"2020-06-04\", \"2020-06-05\", \"2020-06-06\", \"2020-06-07\", \"2020-06-08\", \"2020-06-09\", \"2020-06-10\", \"2020-06-11\", \"2020-06-12\", \"2020-06-13\", \"2020-06-14\", \"2020-06-15\", \"2020-06-16\", \"2020-06-17\", \"2020-06-18\", \"2020-06-19\", \"2020-06-20\", \"2020-06-21\", \"2020-06-22\", \"2020-06-23\", \"2020-06-24\", \"2020-06-25\", \"2020-06-26\", \"2020-06-27\", \"2020-06-28\", \"2020-06-29\", \"2020-06-30\", \"2020-07-01\", \"2020-07-02\", \"2020-07-03\", \"2020-07-04\", \"2020-07-05\", \"2020-07-06\", \"2020-07-07\", \"2020-07-08\", \"2020-07-09\", \"2020-07-10\", \"2020-07-11\", \"2020-07-12\", \"2020-07-13\", \"2020-07-14\", \"2020-07-15\", \"2020-07-16\", \"2020-07-17\", \"2020-07-18\", \"2020-07-19\", \"2020-07-20\", \"2020-07-21\", \"2020-07-22\", \"2020-07-23\", \"2020-07-24\", \"2020-07-25\", \"2020-07-26\", \"2020-07-27\", \"2020-07-28\", \"2020-07-29\", \"2020-07-30\", \"2020-07-31\", \"2020-08-01\", \"2020-08-02\", \"2020-08-03\", \"2020-08-04\", \"2020-08-05\", \"2020-08-06\", \"2020-08-07\", \"2020-08-08\", \"2020-08-09\", \"2020-08-10\", \"2020-08-11\", \"2020-08-12\", \"2020-08-13\", \"2020-08-14\", \"2020-08-15\", \"2020-08-16\", \"2020-08-17\", \"2020-08-18\", \"2020-08-19\", \"2020-08-20\", \"2020-08-21\", \"2020-08-22\", \"2020-08-23\", \"2020-08-24\", \"2020-08-25\", \"2020-08-26\", \"2020-08-27\", \"2020-08-28\", \"2020-08-29\", \"2020-08-30\", \"2020-08-31\", \"2020-09-01\", \"2020-09-02\", \"2020-09-03\", \"2020-09-04\", \"2020-09-05\", \"2020-09-06\", \"2020-09-07\", \"2020-09-08\", \"2020-09-09\", \"2020-09-10\", \"2020-09-11\", \"2020-09-12\", \"2020-09-13\", \"2020-09-14\", \"2020-09-15\"], \"y\": [null, null, null, null, null, null, null, null, null, null, 91.0, 89.0, 82.0, 66.0, 54.0, 60.0, 68.0, 61.0, 67.0, 76.0, 80.0, 86.0, 95.0, 99.0, 113.0, 113.0, 103.0, 110.0, 110.0, 103.0, 95.0, 90.0, 88.0, 96.0, 86.0, 76.0, 77.0, 82.0, 84.0, 94.0, 102.0, 109.0, 122.0, 115.0, 137.0, 154.0, 155.0, 142.0, 133.0, 129.0, 139.0, 144.0, 132.0, 137.0, 137.0, 136.0, 156.0, 172.0, 208.0, 211.0, 208.0, 196.0, 216.0, 218.0, 209.0, 189.0, 180.0, 175.0, 159.0, 182.0, 188.0, 196.0, 166.0, 196.0, 192.0, 198.0, 231.0, 270.0, 262.0, 252.0, 257.0, 256.0, 289.0, 285.0, 298.0, 342.0, 312.0, 304.0, 334.0, 352.0, 370.0, 393.0, 420.0, 440.0, 446.0, 425.0, 430.0, 432.0, 426.0, 422.0, 408.0, 417.0, 383.0, 361.0, 344.0, 348.0, 344.0, 333.0, 322.0, 300.0, 277.0, 263.0, 261.0, 250.0, 251.0, 223.0, 230.0, 203.0, 198.0, 200.0, 217.0, 202.0, 189.0, 204.0, 219.0, 242.0, 239.0, 274.0, 271.0, 316.0, 310.0, 331.0, 381.0, 363.0, 361.0, 357.0, 362.0, 361.0, 365.0, 338.0, 365.0, 354.0, 302.0, 290.0, 263.0, 252.0, 259.0, 265.0, 289.0, 299.0, 278.0, 279.0]}, {\"mode\": \"lines\", \"name\": \"Georgia (No Mask Mandate)\", \"type\": \"scatter\", \"x\": [\"2020-04-17\", \"2020-04-18\", \"2020-04-19\", \"2020-04-20\", \"2020-04-21\", \"2020-04-22\", \"2020-04-23\", \"2020-04-24\", \"2020-04-25\", \"2020-04-26\", \"2020-04-27\", \"2020-04-28\", \"2020-04-29\", \"2020-04-30\", \"2020-05-01\", \"2020-05-02\", \"2020-05-03\", \"2020-05-04\", \"2020-05-05\", \"2020-05-06\", \"2020-05-07\", \"2020-05-08\", \"2020-05-09\", \"2020-05-10\", \"2020-05-11\", \"2020-05-12\", \"2020-05-13\", \"2020-05-14\", \"2020-05-15\", \"2020-05-16\", \"2020-05-17\", \"2020-05-18\", \"2020-05-19\", \"2020-05-20\", \"2020-05-21\", \"2020-05-22\", \"2020-05-23\", \"2020-05-24\", \"2020-05-25\", \"2020-05-26\", \"2020-05-27\", \"2020-05-28\", \"2020-05-29\", \"2020-05-30\", \"2020-05-31\", \"2020-06-01\", \"2020-06-02\", \"2020-06-03\", \"2020-06-04\", \"2020-06-05\", \"2020-06-06\", \"2020-06-07\", \"2020-06-08\", \"2020-06-09\", \"2020-06-10\", \"2020-06-11\", \"2020-06-12\", \"2020-06-13\", \"2020-06-14\", \"2020-06-15\", \"2020-06-16\", \"2020-06-17\", \"2020-06-18\", \"2020-06-19\", \"2020-06-20\", \"2020-06-21\", \"2020-06-22\", \"2020-06-23\", \"2020-06-24\", \"2020-06-25\", \"2020-06-26\", \"2020-06-27\", \"2020-06-28\", \"2020-06-29\", \"2020-06-30\", \"2020-07-01\", \"2020-07-02\", \"2020-07-03\", \"2020-07-04\", \"2020-07-05\", \"2020-07-06\", \"2020-07-07\", \"2020-07-08\", \"2020-07-09\", \"2020-07-10\", \"2020-07-11\", \"2020-07-12\", \"2020-07-13\", \"2020-07-14\", \"2020-07-15\", \"2020-07-16\", \"2020-07-17\", \"2020-07-18\", \"2020-07-19\", \"2020-07-20\", \"2020-07-21\", \"2020-07-22\", \"2020-07-23\", \"2020-07-24\", \"2020-07-25\", \"2020-07-26\", \"2020-07-27\", \"2020-07-28\", \"2020-07-29\", \"2020-07-30\", \"2020-07-31\", \"2020-08-01\", \"2020-08-02\", \"2020-08-03\", \"2020-08-04\", \"2020-08-05\", \"2020-08-06\", \"2020-08-07\", \"2020-08-08\", \"2020-08-09\", \"2020-08-10\", \"2020-08-11\", \"2020-08-12\", \"2020-08-13\", \"2020-08-14\", \"2020-08-15\", \"2020-08-16\", \"2020-08-17\", \"2020-08-18\", \"2020-08-19\", \"2020-08-20\", \"2020-08-21\", \"2020-08-22\", \"2020-08-23\", \"2020-08-24\", \"2020-08-25\", \"2020-08-26\", \"2020-08-27\", \"2020-08-28\", \"2020-08-29\", \"2020-08-30\", \"2020-08-31\", \"2020-09-01\", \"2020-09-02\", \"2020-09-03\", \"2020-09-04\", \"2020-09-05\", \"2020-09-06\", \"2020-09-07\", \"2020-09-08\", \"2020-09-09\", \"2020-09-10\", \"2020-09-11\", \"2020-09-12\", \"2020-09-13\", \"2020-09-14\", \"2020-09-15\"], \"y\": [null, null, null, null, null, null, null, null, null, null, 69.0, 78.0, 77.0, 68.0, 69.0, 56.0, 65.0, 59.0, 55.0, 55.0, 52.0, 42.0, 39.0, 39.0, 35.0, 40.0, 34.0, 46.0, 44.0, 41.0, 37.0, 33.0, 40.0, 46.0, 47.0, 54.0, 57.0, 43.0, 49.0, 52.0, 59.0, 66.0, 59.0, 53.0, 49.0, 47.0, 46.0, 58.0, 57.0, 57.0, 51.0, 50.0, 48.0, 55.0, 62.0, 60.0, 59.0, 56.0, 52.0, 51.0, 65.0, 65.0, 69.0, 83.0, 77.0, 68.0, 65.0, 67.0, 70.0, 87.0, 81.0, 79.0, 76.0, 56.0, 69.0, 86.0, 97.0, 150.0, 161.0, 143.0, 145.0, 181.0, 191.0, 196.0, 198.0, 198.0, 191.0, 138.0, 138.0, 170.0, 166.0, 135.0, 137.0, 141.0, 124.0, 136.0, 135.0, 134.0, 147.0, 138.0, 139.0, 137.0, 161.0, 174.0, 209.0, 202.0, 231.0, 242.0, 218.0, 226.0, 250.0, 281.0, 262.0, 272.0, 251.0, 231.0, 247.0, 272.0, 307.0, 321.0, 319.0, 307.0, 297.0, 299.0, 299.0, 342.0, 324.0, 308.0, 279.0, 241.0, 262.0, 281.0, 313.0, 319.0, 339.0, 297.0, 283.0, 303.0, 320.0, 342.0, 312.0, 301.0, 274.0, 238.0, 214.0, 233.0, 247.0, 220.0, 220.0, 201.0, 185.0, 177.0]}, {\"mode\": \"lines\", \"name\": \"Alabama (Mask Mandate)\", \"type\": \"scatter\", \"x\": [\"2020-04-17\", \"2020-04-18\", \"2020-04-19\", \"2020-04-20\", \"2020-04-21\", \"2020-04-22\", \"2020-04-23\", \"2020-04-24\", \"2020-04-25\", \"2020-04-26\", \"2020-04-27\", \"2020-04-28\", \"2020-04-29\", \"2020-04-30\", \"2020-05-01\", \"2020-05-02\", \"2020-05-03\", \"2020-05-04\", \"2020-05-05\", \"2020-05-06\", \"2020-05-07\", \"2020-05-08\", \"2020-05-09\", \"2020-05-10\", \"2020-05-11\", \"2020-05-12\", \"2020-05-13\", \"2020-05-14\", \"2020-05-15\", \"2020-05-16\", \"2020-05-17\", \"2020-05-18\", \"2020-05-19\", \"2020-05-20\", \"2020-05-21\", \"2020-05-22\", \"2020-05-23\", \"2020-05-24\", \"2020-05-25\", \"2020-05-26\", \"2020-05-27\", \"2020-05-28\", \"2020-05-29\", \"2020-05-30\", \"2020-05-31\", \"2020-06-01\", \"2020-06-02\", \"2020-06-03\", \"2020-06-04\", \"2020-06-05\", \"2020-06-06\", \"2020-06-07\", \"2020-06-08\", \"2020-06-09\", \"2020-06-10\", \"2020-06-11\", \"2020-06-12\", \"2020-06-13\", \"2020-06-14\", \"2020-06-15\", \"2020-06-16\", \"2020-06-17\", \"2020-06-18\", \"2020-06-19\", \"2020-06-20\", \"2020-06-21\", \"2020-06-22\", \"2020-06-23\", \"2020-06-24\", \"2020-06-25\", \"2020-06-26\", \"2020-06-27\", \"2020-06-28\", \"2020-06-29\", \"2020-06-30\", \"2020-07-01\", \"2020-07-02\", \"2020-07-03\", \"2020-07-04\", \"2020-07-05\", \"2020-07-06\", \"2020-07-07\", \"2020-07-08\", \"2020-07-09\", \"2020-07-10\", \"2020-07-11\", \"2020-07-12\", \"2020-07-13\", \"2020-07-14\", \"2020-07-15\", \"2020-07-16\", \"2020-07-17\", \"2020-07-18\", \"2020-07-19\", \"2020-07-20\", \"2020-07-21\", \"2020-07-22\", \"2020-07-23\", \"2020-07-24\", \"2020-07-25\", \"2020-07-26\", \"2020-07-27\", \"2020-07-28\", \"2020-07-29\", \"2020-07-30\", \"2020-07-31\", \"2020-08-01\", \"2020-08-02\", \"2020-08-03\", \"2020-08-04\", \"2020-08-05\", \"2020-08-06\", \"2020-08-07\", \"2020-08-08\", \"2020-08-09\", \"2020-08-10\", \"2020-08-11\", \"2020-08-12\", \"2020-08-13\", \"2020-08-14\", \"2020-08-15\", \"2020-08-16\", \"2020-08-17\", \"2020-08-18\", \"2020-08-19\", \"2020-08-20\", \"2020-08-21\", \"2020-08-22\", \"2020-08-23\", \"2020-08-24\", \"2020-08-25\", \"2020-08-26\", \"2020-08-27\", \"2020-08-28\", \"2020-08-29\", \"2020-08-30\", \"2020-08-31\", \"2020-09-01\", \"2020-09-02\", \"2020-09-03\", \"2020-09-04\", \"2020-09-05\", \"2020-09-06\", \"2020-09-07\", \"2020-09-08\", \"2020-09-09\", \"2020-09-10\", \"2020-09-11\", \"2020-09-12\", \"2020-09-13\", \"2020-09-14\", \"2020-09-15\"], \"y\": [null, null, null, null, null, null, null, null, null, null, null, null, null, null, null, null, 72.85714285714312, 68.57142857142844, 65.42857142857156, 64.57142857142844, 66.57142857142844, 71.14285714285779, 76.14285714285688, 80.57142857142844, 88.0, 94.57142857142844, 98.42857142857156, 102.71428571428623, 106.14285714285688, 107.28571428571377, 106.71428571428623, 103.42857142857156, 99.85714285714221, 98.85714285714312, 95.42857142857156, 90.57142857142844, 86.85714285714312, 85.0, 84.14285714285688, 85.0, 85.85714285714312, 89.14285714285688, 95.71428571428623, 101.14285714285688, 109.0, 119.0, 127.71428571428532, 133.42857142857156, 136.85714285714312, 137.85714285714312, 141.28571428571377, 142.28571428571468, 139.14285714285688, 136.57142857142844, 135.85714285714312, 136.28571428571468, 140.14285714285688, 144.85714285714312, 154.0, 165.28571428571377, 175.42857142857065, 183.85714285714312, 195.28571428571558, 204.14285714285688, 209.42857142857065, 206.71428571428623, 202.28571428571377, 197.57142857142935, 192.28571428571377, 187.42857142857065, 183.1428571428587, 181.28571428571377, 178.0, 180.28571428571377, 182.71428571428623, 188.28571428571377, 195.28571428571377, 207.0, 216.42857142857247, 228.71428571428623, 237.42857142857065, 246.57142857142935, 259.57142857142753, 267.28571428571377, 271.2857142857156, 282.7142857142844, 291.2857142857156, 298.0, 309.1428571428569, 318.1428571428569, 330.28571428571377, 343.8571428571431, 355.0000000000018, 373.28571428571377, 393.57142857142753, 406.57142857142753, 417.71428571428623, 426.57142857142753, 431.2857142857174, 431.57142857142753, 427.0, 422.8571428571413, 416.85714285714494, 407.0, 394.42857142856883, 383.2857142857174, 372.14285714285506, 361.42857142857247, 347.8571428571413, 336.0, 324.0, 312.42857142857247, 300.0, 286.57142857142753, 274.85714285714494, 260.71428571428623, 250.7142857142826, 240.1428571428587, 230.8571428571413, 222.1428571428587, 217.42857142857247, 210.42857142856883, 205.57142857143117, 201.8571428571413, 204.1428571428587, 210.42857142856883, 216.0, 224.1428571428587, 234.0, 252.1428571428587, 267.28571428571377, 283.28571428571377, 303.14285714285506, 320.85714285714494, 333.28571428571377, 345.57142857142753, 352.1428571428587, 359.42857142857247, 364.28571428571377, 358.14285714285506, 358.42857142857247, 357.42857142857247, 349.57142857142753, 339.2857142857174, 325.2857142857101, 309.14285714285506, 297.85714285714494, 283.57142857142753, 274.2857142857174, 273.85714285714494, 272.14285714285506, 274.42857142857247]}, {\"mode\": \"lines\", \"name\": \"Georgia (No Mask Mandate)\", \"type\": \"scatter\", \"x\": [\"2020-04-17\", \"2020-04-18\", \"2020-04-19\", \"2020-04-20\", \"2020-04-21\", \"2020-04-22\", \"2020-04-23\", \"2020-04-24\", \"2020-04-25\", \"2020-04-26\", \"2020-04-27\", \"2020-04-28\", \"2020-04-29\", \"2020-04-30\", \"2020-05-01\", \"2020-05-02\", \"2020-05-03\", \"2020-05-04\", \"2020-05-05\", \"2020-05-06\", \"2020-05-07\", \"2020-05-08\", \"2020-05-09\", \"2020-05-10\", \"2020-05-11\", \"2020-05-12\", \"2020-05-13\", \"2020-05-14\", \"2020-05-15\", \"2020-05-16\", \"2020-05-17\", \"2020-05-18\", \"2020-05-19\", \"2020-05-20\", \"2020-05-21\", \"2020-05-22\", \"2020-05-23\", \"2020-05-24\", \"2020-05-25\", \"2020-05-26\", \"2020-05-27\", \"2020-05-28\", \"2020-05-29\", \"2020-05-30\", \"2020-05-31\", \"2020-06-01\", \"2020-06-02\", \"2020-06-03\", \"2020-06-04\", \"2020-06-05\", \"2020-06-06\", \"2020-06-07\", \"2020-06-08\", \"2020-06-09\", \"2020-06-10\", \"2020-06-11\", \"2020-06-12\", \"2020-06-13\", \"2020-06-14\", \"2020-06-15\", \"2020-06-16\", \"2020-06-17\", \"2020-06-18\", \"2020-06-19\", \"2020-06-20\", \"2020-06-21\", \"2020-06-22\", \"2020-06-23\", \"2020-06-24\", \"2020-06-25\", \"2020-06-26\", \"2020-06-27\", \"2020-06-28\", \"2020-06-29\", \"2020-06-30\", \"2020-07-01\", \"2020-07-02\", \"2020-07-03\", \"2020-07-04\", \"2020-07-05\", \"2020-07-06\", \"2020-07-07\", \"2020-07-08\", \"2020-07-09\", \"2020-07-10\", \"2020-07-11\", \"2020-07-12\", \"2020-07-13\", \"2020-07-14\", \"2020-07-15\", \"2020-07-16\", \"2020-07-17\", \"2020-07-18\", \"2020-07-19\", \"2020-07-20\", \"2020-07-21\", \"2020-07-22\", \"2020-07-23\", \"2020-07-24\", \"2020-07-25\", \"2020-07-26\", \"2020-07-27\", \"2020-07-28\", \"2020-07-29\", \"2020-07-30\", \"2020-07-31\", \"2020-08-01\", \"2020-08-02\", \"2020-08-03\", \"2020-08-04\", \"2020-08-05\", \"2020-08-06\", \"2020-08-07\", \"2020-08-08\", \"2020-08-09\", \"2020-08-10\", \"2020-08-11\", \"2020-08-12\", \"2020-08-13\", \"2020-08-14\", \"2020-08-15\", \"2020-08-16\", \"2020-08-17\", \"2020-08-18\", \"2020-08-19\", \"2020-08-20\", \"2020-08-21\", \"2020-08-22\", \"2020-08-23\", \"2020-08-24\", \"2020-08-25\", \"2020-08-26\", \"2020-08-27\", \"2020-08-28\", \"2020-08-29\", \"2020-08-30\", \"2020-08-31\", \"2020-09-01\", \"2020-09-02\", \"2020-09-03\", \"2020-09-04\", \"2020-09-05\", \"2020-09-06\", \"2020-09-07\", \"2020-09-08\", \"2020-09-09\", \"2020-09-10\", \"2020-09-11\", \"2020-09-12\", \"2020-09-13\", \"2020-09-14\", \"2020-09-15\"], \"y\": [null, null, null, null, null, null, null, null, null, null, null, null, null, null, null, null, 68.85714285714266, 67.42857142857156, 64.14285714285734, 61.0, 58.714285714285325, 54.85714285714312, 52.42857142857156, 48.714285714285325, 45.285714285714675, 43.14285714285688, 40.14285714285734, 39.28571428571422, 39.57142857142844, 39.85714285714312, 39.57142857142844, 39.28571428571422, 39.28571428571422, 41.0, 41.14285714285734, 42.57142857142844, 44.85714285714266, 45.71428571428578, 48.0, 49.714285714286234, 51.57142857142844, 54.285714285713766, 55.0, 54.42857142857156, 55.285714285714675, 55.0, 54.14285714285688, 54.0, 52.714285714285325, 52.42857142857156, 52.14285714285779, 52.285714285713766, 52.42857142857156, 53.714285714285325, 54.285714285714675, 54.714285714285325, 55.0, 55.714285714286234, 56.0, 56.42857142857156, 57.85714285714221, 58.285714285714675, 59.57142857142844, 63.0, 66.0, 68.28571428571468, 70.28571428571377, 70.57142857142844, 71.28571428571468, 73.85714285714312, 73.57142857142844, 73.85714285714312, 75.0, 73.71428571428532, 74.0, 76.28571428571468, 77.71428571428532, 87.57142857142844, 99.28571428571468, 108.85714285714221, 121.57142857142935, 137.57142857142844, 152.57142857142844, 166.71428571428532, 173.57142857142844, 178.85714285714312, 185.71428571428623, 184.71428571428532, 178.57142857142844, 175.57142857142844, 171.28571428571377, 162.28571428571558, 153.57142857142753, 146.42857142857247, 144.42857142857065, 144.14285714285688, 139.14285714285688, 134.57142857142935, 136.28571428571377, 136.42857142857247, 136.14285714285688, 138.0, 141.57142857142753, 147.1428571428587, 157.8571428571413, 165.71428571428623, 179.0, 193.71428571428623, 205.28571428571377, 214.57142857142935, 225.42857142857065, 235.71428571428623, 244.28571428571377, 250.14285714285688, 251.42857142857247, 253.28571428571377, 256.28571428571377, 259.42857142857247, 263.1428571428569, 271.57142857142753, 278.2857142857156, 286.28571428571377, 295.71428571428623, 303.1428571428569, 307.0, 312.0, 312.42857142857065, 310.85714285714494, 306.8571428571413, 298.8571428571413, 293.57142857143117, 291.0, 286.8571428571413, 286.1428571428587, 290.57142857142753, 293.1428571428587, 299.14285714285506, 305.0, 310.57142857142753, 314.71428571428623, 313.71428571428623, 308.28571428571377, 305.0, 298.57142857143117, 285.8571428571413, 273.42857142857247, 259.8571428571413, 246.71428571428623, 235.1428571428587, 224.7142857142826, 217.1428571428587, 211.8571428571413]}, {\"mode\": \"lines\", \"name\": \"Alabama (Mask Mandate)\", \"type\": \"scatter\", \"x\": [\"2020-04-17\", \"2020-04-18\", \"2020-04-19\", \"2020-04-20\", \"2020-04-21\", \"2020-04-22\", \"2020-04-23\", \"2020-04-24\", \"2020-04-25\", \"2020-04-26\", \"2020-04-27\", \"2020-04-28\", \"2020-04-29\", \"2020-04-30\", \"2020-05-01\", \"2020-05-02\", \"2020-05-03\", \"2020-05-04\", \"2020-05-05\", \"2020-05-06\", \"2020-05-07\", \"2020-05-08\", \"2020-05-09\", \"2020-05-10\", \"2020-05-11\", \"2020-05-12\", \"2020-05-13\", \"2020-05-14\", \"2020-05-15\", \"2020-05-16\", \"2020-05-17\", \"2020-05-18\", \"2020-05-19\", \"2020-05-20\", \"2020-05-21\", \"2020-05-22\", \"2020-05-23\", \"2020-05-24\", \"2020-05-25\", \"2020-05-26\", \"2020-05-27\", \"2020-05-28\", \"2020-05-29\", \"2020-05-30\", \"2020-05-31\", \"2020-06-01\", \"2020-06-02\", \"2020-06-03\", \"2020-06-04\", \"2020-06-05\", \"2020-06-06\", \"2020-06-07\", \"2020-06-08\", \"2020-06-09\", \"2020-06-10\", \"2020-06-11\", \"2020-06-12\", \"2020-06-13\", \"2020-06-14\", \"2020-06-15\", \"2020-06-16\", \"2020-06-17\", \"2020-06-18\", \"2020-06-19\", \"2020-06-20\", \"2020-06-21\", \"2020-06-22\", \"2020-06-23\", \"2020-06-24\", \"2020-06-25\", \"2020-06-26\", \"2020-06-27\", \"2020-06-28\", \"2020-06-29\", \"2020-06-30\", \"2020-07-01\", \"2020-07-02\", \"2020-07-03\", \"2020-07-04\", \"2020-07-05\", \"2020-07-06\", \"2020-07-07\", \"2020-07-08\", \"2020-07-09\", \"2020-07-10\", \"2020-07-11\", \"2020-07-12\", \"2020-07-13\", \"2020-07-14\", \"2020-07-15\", \"2020-07-16\", \"2020-07-17\", \"2020-07-18\", \"2020-07-19\", \"2020-07-20\", \"2020-07-21\", \"2020-07-22\", \"2020-07-23\", \"2020-07-24\", \"2020-07-25\", \"2020-07-26\", \"2020-07-27\", \"2020-07-28\", \"2020-07-29\", \"2020-07-30\", \"2020-07-31\", \"2020-08-01\", \"2020-08-02\", \"2020-08-03\", \"2020-08-04\", \"2020-08-05\", \"2020-08-06\", \"2020-08-07\", \"2020-08-08\", \"2020-08-09\", \"2020-08-10\", \"2020-08-11\", \"2020-08-12\", \"2020-08-13\", \"2020-08-14\", \"2020-08-15\", \"2020-08-16\", \"2020-08-17\", \"2020-08-18\", \"2020-08-19\", \"2020-08-20\", \"2020-08-21\", \"2020-08-22\", \"2020-08-23\", \"2020-08-24\", \"2020-08-25\", \"2020-08-26\", \"2020-08-27\", \"2020-08-28\", \"2020-08-29\", \"2020-08-30\", \"2020-08-31\", \"2020-09-01\", \"2020-09-02\", \"2020-09-03\", \"2020-09-04\", \"2020-09-05\", \"2020-09-06\", \"2020-09-07\", \"2020-09-08\", \"2020-09-09\", \"2020-09-10\", \"2020-09-11\", \"2020-09-12\", \"2020-09-13\", \"2020-09-14\", \"2020-09-15\"], \"y\": [null, null, null, null, null, null, null, null, null, null, null, null, null, null, null, null, null, null, null, null, null, null, null, 76.71428571428532, 78.28571428571468, 80.0, 81.5, 84.64285714285688, 88.64285714285688, 91.71428571428623, 93.64285714285688, 95.71428571428532, 97.21428571428623, 98.64285714285688, 99.07142857142844, 98.35714285714312, 97.07142857142844, 95.85714285714312, 93.78571428571377, 92.42857142857156, 92.35714285714312, 92.28571428571468, 93.14285714285688, 94.0, 97.0, 101.57142857142844, 106.35714285714312, 109.64285714285688, 113.0, 116.78571428571468, 121.21428571428532, 125.64285714285688, 129.07142857142844, 132.1428571428578, 134.64285714285688, 136.57142857142844, 139.0, 143.07142857142844, 148.1428571428578, 152.21428571428532, 156.0, 159.85714285714312, 165.78571428571377, 172.14285714285688, 177.14285714285688, 180.35714285714312, 183.78571428571558, 186.5, 188.07142857142753, 191.35714285714312, 193.64285714285688, 195.35714285714312, 192.35714285714312, 191.28571428571377, 190.14285714285688, 190.28571428571558, 191.3571428571413, 195.07142857142935, 198.85714285714312, 203.35714285714312, 208.85714285714312, 214.64285714285688, 223.92857142857065, 231.28571428571377, 239.1428571428587, 249.57142857142753, 260.0, 267.71428571428623, 277.8571428571431, 288.8571428571431, 298.78571428571377, 307.57142857142753, 318.8571428571431, 332.2857142857156, 345.78571428571377, 357.8571428571431, 367.92857142857247, 378.42857142856883, 387.57142857143117, 393.28571428571377, 400.14285714285506, 408.21428571428623, 411.71428571428623, 412.3571428571413, 410.5, 407.2857142857174, 401.8571428571413, 394.21428571428623, 385.3571428571413, 376.42857142857247, 365.5, 353.42857142857247, 341.64285714285506, 329.35714285714494, 318.14285714285506, 304.28571428571377, 293.35714285714494, 282.07142857142753, 271.6428571428587, 261.07142857142753, 252.0, 242.6428571428587, 233.14285714285506, 226.28571428571377, 222.1428571428587, 220.64285714285506, 219.07142857143117, 220.78571428571377, 222.21428571428623, 228.8571428571413, 234.57142857142753, 243.71428571428623, 256.78571428571377, 268.42857142857247, 278.71428571428623, 289.78571428571377, 302.1428571428587, 313.3571428571413, 323.78571428571377, 330.6428571428587, 339.64285714285506, 345.35714285714494, 347.57142857142753, 345.71428571428623, 342.3571428571413, 336.71428571428623, 328.0, 321.0, 315.85714285714494, 311.7142857142826, 305.7142857142899, 299.85714285713766]}, {\"mode\": \"lines\", \"name\": \"Georgia (No Mask Mandate)\", \"type\": \"scatter\", \"x\": [\"2020-04-17\", \"2020-04-18\", \"2020-04-19\", \"2020-04-20\", \"2020-04-21\", \"2020-04-22\", \"2020-04-23\", \"2020-04-24\", \"2020-04-25\", \"2020-04-26\", \"2020-04-27\", \"2020-04-28\", \"2020-04-29\", \"2020-04-30\", \"2020-05-01\", \"2020-05-02\", \"2020-05-03\", \"2020-05-04\", \"2020-05-05\", \"2020-05-06\", \"2020-05-07\", \"2020-05-08\", \"2020-05-09\", \"2020-05-10\", \"2020-05-11\", \"2020-05-12\", \"2020-05-13\", \"2020-05-14\", \"2020-05-15\", \"2020-05-16\", \"2020-05-17\", \"2020-05-18\", \"2020-05-19\", \"2020-05-20\", \"2020-05-21\", \"2020-05-22\", \"2020-05-23\", \"2020-05-24\", \"2020-05-25\", \"2020-05-26\", \"2020-05-27\", \"2020-05-28\", \"2020-05-29\", \"2020-05-30\", \"2020-05-31\", \"2020-06-01\", \"2020-06-02\", \"2020-06-03\", \"2020-06-04\", \"2020-06-05\", \"2020-06-06\", \"2020-06-07\", \"2020-06-08\", \"2020-06-09\", \"2020-06-10\", \"2020-06-11\", \"2020-06-12\", \"2020-06-13\", \"2020-06-14\", \"2020-06-15\", \"2020-06-16\", \"2020-06-17\", \"2020-06-18\", \"2020-06-19\", \"2020-06-20\", \"2020-06-21\", \"2020-06-22\", \"2020-06-23\", \"2020-06-24\", \"2020-06-25\", \"2020-06-26\", \"2020-06-27\", \"2020-06-28\", \"2020-06-29\", \"2020-06-30\", \"2020-07-01\", \"2020-07-02\", \"2020-07-03\", \"2020-07-04\", \"2020-07-05\", \"2020-07-06\", \"2020-07-07\", \"2020-07-08\", \"2020-07-09\", \"2020-07-10\", \"2020-07-11\", \"2020-07-12\", \"2020-07-13\", \"2020-07-14\", \"2020-07-15\", \"2020-07-16\", \"2020-07-17\", \"2020-07-18\", \"2020-07-19\", \"2020-07-20\", \"2020-07-21\", \"2020-07-22\", \"2020-07-23\", \"2020-07-24\", \"2020-07-25\", \"2020-07-26\", \"2020-07-27\", \"2020-07-28\", \"2020-07-29\", \"2020-07-30\", \"2020-07-31\", \"2020-08-01\", \"2020-08-02\", \"2020-08-03\", \"2020-08-04\", \"2020-08-05\", \"2020-08-06\", \"2020-08-07\", \"2020-08-08\", \"2020-08-09\", \"2020-08-10\", \"2020-08-11\", \"2020-08-12\", \"2020-08-13\", \"2020-08-14\", \"2020-08-15\", \"2020-08-16\", \"2020-08-17\", \"2020-08-18\", \"2020-08-19\", \"2020-08-20\", \"2020-08-21\", \"2020-08-22\", \"2020-08-23\", \"2020-08-24\", \"2020-08-25\", \"2020-08-26\", \"2020-08-27\", \"2020-08-28\", \"2020-08-29\", \"2020-08-30\", \"2020-08-31\", \"2020-09-01\", \"2020-09-02\", \"2020-09-03\", \"2020-09-04\", \"2020-09-05\", \"2020-09-06\", \"2020-09-07\", \"2020-09-08\", \"2020-09-09\", \"2020-09-10\", \"2020-09-11\", \"2020-09-12\", \"2020-09-13\", \"2020-09-14\", \"2020-09-15\"], \"y\": [null, null, null, null, null, null, null, null, null, null, null, null, null, null, null, null, null, null, null, null, null, null, null, 58.78571428571422, 56.35714285714266, 53.64285714285734, 50.57142857142844, 49.0, 47.21428571428578, 46.14285714285734, 44.14285714285688, 42.28571428571422, 41.21428571428578, 40.57142857142844, 40.21428571428578, 41.071428571428896, 42.35714285714266, 42.64285714285734, 43.64285714285688, 44.5, 46.28571428571422, 47.71428571428578, 48.78571428571422, 49.64285714285688, 50.5, 51.5, 51.92857142857156, 52.785714285714675, 53.5, 53.714285714285325, 53.285714285714675, 53.785714285713766, 53.714285714286234, 53.92857142857156, 54.14285714285688, 53.714285714285325, 53.714285714286234, 53.92857142857156, 54.14285714285688, 54.42857142857156, 55.785714285713766, 56.285714285714675, 57.14285714285688, 59.0, 60.85714285714312, 62.14285714285688, 63.35714285714312, 64.21428571428532, 64.78571428571468, 66.71428571428532, 68.28571428571468, 69.92857142857156, 71.64285714285688, 72.0, 72.28571428571468, 73.78571428571377, 75.78571428571468, 80.57142857142844, 86.57142857142844, 91.92857142857156, 97.64285714285688, 105.78571428571468, 114.42857142857156, 122.21428571428532, 130.57142857142844, 139.07142857142844, 147.28571428571468, 153.14285714285688, 158.07142857142844, 164.07142857142935, 169.0, 167.92857142857065, 166.21428571428532, 166.07142857142935, 164.57142857142935, 161.3571428571413, 157.35714285714312, 152.92857142857247, 149.28571428571377, 145.0, 141.28571428571377, 141.21428571428623, 142.85714285714312, 143.14285714285688, 146.21428571428623, 151.0, 157.71428571428442, 164.92857142857247, 171.64285714285688, 178.07142857142935, 186.28571428571377, 196.78571428571377, 205.0, 214.57142857142935, 222.57142857142753, 229.28571428571558, 235.42857142857065, 242.42857142857065, 249.42857142857247, 257.92857142857065, 264.21428571428623, 268.8571428571431, 274.5, 279.71428571428623, 283.2142857142844, 287.57142857142935, 292.0, 294.57142857142753, 296.57142857142935, 297.28571428571377, 298.3571428571431, 299.0000000000018, 299.42857142856883, 299.28571428571377, 300.71428571428623, 300.0, 299.0, 299.28571428571377, 300.7857142857174, 300.78571428571377, 299.92857142856883, 299.42857142857247, 299.07142857142753, 298.85714285714494, 295.42857142857247, 292.0, 287.28571428571377, 280.21428571428623, 271.7142857142826, 264.85714285714494, 257.8571428571413, 248.85714285714494]}, {\"mode\": \"lines\", \"name\": \"Alabama (Mask Mandate)\", \"type\": \"scatter\", \"x\": [\"2020-04-17\", \"2020-04-18\", \"2020-04-19\", \"2020-04-20\", \"2020-04-21\", \"2020-04-22\", \"2020-04-23\", \"2020-04-24\", \"2020-04-25\", \"2020-04-26\", \"2020-04-27\", \"2020-04-28\", \"2020-04-29\", \"2020-04-30\", \"2020-05-01\", \"2020-05-02\", \"2020-05-03\", \"2020-05-04\", \"2020-05-05\", \"2020-05-06\", \"2020-05-07\", \"2020-05-08\", \"2020-05-09\", \"2020-05-10\", \"2020-05-11\", \"2020-05-12\", \"2020-05-13\", \"2020-05-14\", \"2020-05-15\", \"2020-05-16\", \"2020-05-17\", \"2020-05-18\", \"2020-05-19\", \"2020-05-20\", \"2020-05-21\", \"2020-05-22\", \"2020-05-23\", \"2020-05-24\", \"2020-05-25\", \"2020-05-26\", \"2020-05-27\", \"2020-05-28\", \"2020-05-29\", \"2020-05-30\", \"2020-05-31\", \"2020-06-01\", \"2020-06-02\", \"2020-06-03\", \"2020-06-04\", \"2020-06-05\", \"2020-06-06\", \"2020-06-07\", \"2020-06-08\", \"2020-06-09\", \"2020-06-10\", \"2020-06-11\", \"2020-06-12\", \"2020-06-13\", \"2020-06-14\", \"2020-06-15\", \"2020-06-16\", \"2020-06-17\", \"2020-06-18\", \"2020-06-19\", \"2020-06-20\", \"2020-06-21\", \"2020-06-22\", \"2020-06-23\", \"2020-06-24\", \"2020-06-25\", \"2020-06-26\", \"2020-06-27\", \"2020-06-28\", \"2020-06-29\", \"2020-06-30\", \"2020-07-01\", \"2020-07-02\", \"2020-07-03\", \"2020-07-04\", \"2020-07-05\", \"2020-07-06\", \"2020-07-07\", \"2020-07-08\", \"2020-07-09\", \"2020-07-10\", \"2020-07-11\", \"2020-07-12\", \"2020-07-13\", \"2020-07-14\", \"2020-07-15\", \"2020-07-16\", \"2020-07-17\", \"2020-07-18\", \"2020-07-19\", \"2020-07-20\", \"2020-07-21\", \"2020-07-22\", \"2020-07-23\", \"2020-07-24\", \"2020-07-25\", \"2020-07-26\", \"2020-07-27\", \"2020-07-28\", \"2020-07-29\", \"2020-07-30\", \"2020-07-31\", \"2020-08-01\", \"2020-08-02\", \"2020-08-03\", \"2020-08-04\", \"2020-08-05\", \"2020-08-06\", \"2020-08-07\", \"2020-08-08\", \"2020-08-09\", \"2020-08-10\", \"2020-08-11\", \"2020-08-12\", \"2020-08-13\", \"2020-08-14\", \"2020-08-15\", \"2020-08-16\", \"2020-08-17\", \"2020-08-18\", \"2020-08-19\", \"2020-08-20\", \"2020-08-21\", \"2020-08-22\", \"2020-08-23\", \"2020-08-24\", \"2020-08-25\", \"2020-08-26\", \"2020-08-27\", \"2020-08-28\", \"2020-08-29\", \"2020-08-30\", \"2020-08-31\", \"2020-09-01\", \"2020-09-02\", \"2020-09-03\", \"2020-09-04\", \"2020-09-05\", \"2020-09-06\", \"2020-09-07\", \"2020-09-08\", \"2020-09-09\", \"2020-09-10\", \"2020-09-11\", \"2020-09-12\", \"2020-09-13\", \"2020-09-14\", \"2020-09-15\"], \"y\": [null, null, null, null, null, null, null, null, null, null, null, null, null, null, null, null, null, null, null, null, null, null, null, null, null, null, null, null, null, null, null, null, null, null, null, null, null, null, null, 86.46666666666715, 86.83333333333303, 87.5, 88.83333333333303, 90.46666666666715, 93.23333333333267, 96.36666666666679, 99.26666666666733, 101.96666666666624, 104.16666666666697, 105.9333333333334, 107.89999999999964, 109.83333333333303, 111.0666666666666, 112.33333333333394, 113.13333333333321, 113.89999999999964, 115.66666666666697, 117.73333333333358, 121.0, 124.59999999999945, 128.3666666666668, 131.90000000000055, 136.16666666666606, 140.23333333333358, 144.33333333333303, 148.10000000000036, 151.53333333333285, 154.6333333333332, 157.1333333333332, 160.06666666666752, 162.93333333333248, 165.83333333333394, 167.29999999999927, 170.0, 171.83333333333394, 173.29999999999927, 175.83333333333394, 180.10000000000036, 184.39999999999964, 188.5, 192.4333333333343, 196.16666666666606, 201.39999999999964, 206.33333333333394, 211.6999999999989, 218.56666666666752, 223.76666666666642, 228.16666666666606, 232.3666666666668, 237.06666666666752, 242.46666666666715, 249.03333333333285, 255.83333333333394, 263.23333333333176, 271.1333333333332, 279.0, 287.33333333333394, 295.89999999999964, 304.8000000000011, 312.7999999999993, 320.1333333333332, 327.5, 334.7333333333336, 340.23333333333176, 345.3000000000029, 350.2999999999993, 354.0666666666657, 356.1666666666679, 358.16666666666424, 359.76666666667006, 360.43333333333067, 360.6666666666679, 359.7333333333336, 358.5666666666657, 357.0, 353.03333333333285, 350.2999999999993, 346.9333333333343, 342.40000000000146, 337.3333333333321, 332.2333333333336, 325.8666666666686, 318.16666666666424, 310.2999999999993, 302.7333333333336, 296.63333333333503, 290.2666666666664, 285.0, 279.8333333333321, 276.2999999999993, 273.0333333333365, 270.16666666666424, 270.1000000000022, 270.16666666666424, 270.7333333333336, 271.03333333333285, 271.63333333333503, 272.5666666666657, 274.0, 275.2666666666664, 278.2000000000007, 281.2333333333336, 282.59999999999854, 283.9333333333343, 284.3333333333321, 285.3000000000029, 286.2666666666664, 288.3333333333321, 291.3666666666686, 294.66666666666424, 296.7000000000007, 299.2666666666664]}, {\"mode\": \"lines\", \"name\": \"Georgia (No Mask Mandate)\", \"type\": \"scatter\", \"x\": [\"2020-04-17\", \"2020-04-18\", \"2020-04-19\", \"2020-04-20\", \"2020-04-21\", \"2020-04-22\", \"2020-04-23\", \"2020-04-24\", \"2020-04-25\", \"2020-04-26\", \"2020-04-27\", \"2020-04-28\", \"2020-04-29\", \"2020-04-30\", \"2020-05-01\", \"2020-05-02\", \"2020-05-03\", \"2020-05-04\", \"2020-05-05\", \"2020-05-06\", \"2020-05-07\", \"2020-05-08\", \"2020-05-09\", \"2020-05-10\", \"2020-05-11\", \"2020-05-12\", \"2020-05-13\", \"2020-05-14\", \"2020-05-15\", \"2020-05-16\", \"2020-05-17\", \"2020-05-18\", \"2020-05-19\", \"2020-05-20\", \"2020-05-21\", \"2020-05-22\", \"2020-05-23\", \"2020-05-24\", \"2020-05-25\", \"2020-05-26\", \"2020-05-27\", \"2020-05-28\", \"2020-05-29\", \"2020-05-30\", \"2020-05-31\", \"2020-06-01\", \"2020-06-02\", \"2020-06-03\", \"2020-06-04\", \"2020-06-05\", \"2020-06-06\", \"2020-06-07\", \"2020-06-08\", \"2020-06-09\", \"2020-06-10\", \"2020-06-11\", \"2020-06-12\", \"2020-06-13\", \"2020-06-14\", \"2020-06-15\", \"2020-06-16\", \"2020-06-17\", \"2020-06-18\", \"2020-06-19\", \"2020-06-20\", \"2020-06-21\", \"2020-06-22\", \"2020-06-23\", \"2020-06-24\", \"2020-06-25\", \"2020-06-26\", \"2020-06-27\", \"2020-06-28\", \"2020-06-29\", \"2020-06-30\", \"2020-07-01\", \"2020-07-02\", \"2020-07-03\", \"2020-07-04\", \"2020-07-05\", \"2020-07-06\", \"2020-07-07\", \"2020-07-08\", \"2020-07-09\", \"2020-07-10\", \"2020-07-11\", \"2020-07-12\", \"2020-07-13\", \"2020-07-14\", \"2020-07-15\", \"2020-07-16\", \"2020-07-17\", \"2020-07-18\", \"2020-07-19\", \"2020-07-20\", \"2020-07-21\", \"2020-07-22\", \"2020-07-23\", \"2020-07-24\", \"2020-07-25\", \"2020-07-26\", \"2020-07-27\", \"2020-07-28\", \"2020-07-29\", \"2020-07-30\", \"2020-07-31\", \"2020-08-01\", \"2020-08-02\", \"2020-08-03\", \"2020-08-04\", \"2020-08-05\", \"2020-08-06\", \"2020-08-07\", \"2020-08-08\", \"2020-08-09\", \"2020-08-10\", \"2020-08-11\", \"2020-08-12\", \"2020-08-13\", \"2020-08-14\", \"2020-08-15\", \"2020-08-16\", \"2020-08-17\", \"2020-08-18\", \"2020-08-19\", \"2020-08-20\", \"2020-08-21\", \"2020-08-22\", \"2020-08-23\", \"2020-08-24\", \"2020-08-25\", \"2020-08-26\", \"2020-08-27\", \"2020-08-28\", \"2020-08-29\", \"2020-08-30\", \"2020-08-31\", \"2020-09-01\", \"2020-09-02\", \"2020-09-03\", \"2020-09-04\", \"2020-09-05\", \"2020-09-06\", \"2020-09-07\", \"2020-09-08\", \"2020-09-09\", \"2020-09-10\", \"2020-09-11\", \"2020-09-12\", \"2020-09-13\", \"2020-09-14\", \"2020-09-15\"], \"y\": [null, null, null, null, null, null, null, null, null, null, null, null, null, null, null, null, null, null, null, null, null, null, null, null, null, null, null, null, null, null, null, null, null, null, null, null, null, null, null, 50.70000000000027, 50.36666666666633, 49.9666666666667, 49.36666666666679, 48.86666666666679, 48.19999999999982, 47.90000000000009, 47.266666666666424, 47.233333333333576, 47.30000000000018, 47.36666666666633, 47.33333333333303, 47.600000000000364, 47.899999999999636, 48.433333333333394, 49.33333333333394, 50.0, 50.83333333333303, 51.16666666666697, 51.433333333333394, 51.766666666666424, 52.69999999999982, 53.766666666666424, 54.733333333333576, 55.96666666666715, 56.96666666666624, 57.433333333333394, 57.69999999999982, 58.5, 59.19999999999982, 60.36666666666679, 61.100000000000364, 61.53333333333285, 62.100000000000364, 62.19999999999982, 62.86666666666679, 64.16666666666697, 65.86666666666679, 68.9333333333334, 72.39999999999964, 75.26666666666642, 78.40000000000055, 82.76666666666642, 87.53333333333285, 92.23333333333358, 96.76666666666642, 101.36666666666679, 105.76666666666733, 108.5, 111.36666666666588, 115.33333333333394, 118.69999999999982, 121.03333333333285, 123.30000000000018, 125.23333333333358, 126.80000000000018, 129.0666666666666, 131.39999999999964, 133.6333333333332, 136.20000000000073, 137.89999999999964, 139.83333333333394, 141.76666666666642, 144.60000000000036, 148.53333333333285, 153.1999999999989, 157.06666666666752, 161.53333333333285, 164.60000000000036, 166.5, 169.26666666666642, 172.76666666666642, 176.10000000000036, 178.46666666666715, 181.0, 182.76666666666642, 183.8666666666668, 185.73333333333358, 190.1999999999989, 195.83333333333394, 200.8666666666668, 205.96666666666715, 211.6999999999989, 217.03333333333467, 222.29999999999927, 228.1333333333332, 235.0, 241.29999999999927, 247.10000000000036, 251.5, 254.9333333333343, 259.03333333333285, 263.83333333333394, 268.89999999999964, 273.7333333333336, 278.0666666666657, 281.2333333333336, 282.96666666666715, 285.0, 288.39999999999964, 292.26666666666824, 294.3333333333321, 295.0, 295.40000000000146, 294.2666666666664, 293.03333333333285, 293.09999999999854, 293.1000000000022, 291.36666666666497, 288.46666666666715, 284.46666666666715, 280.0, 275.66666666666424]}],\n",
       "                        {\"template\": {\"data\": {\"bar\": [{\"error_x\": {\"color\": \"#2a3f5f\"}, \"error_y\": {\"color\": \"#2a3f5f\"}, \"marker\": {\"line\": {\"color\": \"#E5ECF6\", \"width\": 0.5}}, \"type\": \"bar\"}], \"barpolar\": [{\"marker\": {\"line\": {\"color\": \"#E5ECF6\", \"width\": 0.5}}, \"type\": \"barpolar\"}], \"carpet\": [{\"aaxis\": {\"endlinecolor\": \"#2a3f5f\", \"gridcolor\": \"white\", \"linecolor\": \"white\", \"minorgridcolor\": \"white\", \"startlinecolor\": \"#2a3f5f\"}, \"baxis\": {\"endlinecolor\": \"#2a3f5f\", \"gridcolor\": \"white\", \"linecolor\": \"white\", \"minorgridcolor\": \"white\", \"startlinecolor\": \"#2a3f5f\"}, \"type\": \"carpet\"}], \"choropleth\": [{\"colorbar\": {\"outlinewidth\": 0, \"ticks\": \"\"}, \"type\": \"choropleth\"}], \"contour\": [{\"colorbar\": {\"outlinewidth\": 0, \"ticks\": \"\"}, \"colorscale\": [[0.0, \"#0d0887\"], [0.1111111111111111, \"#46039f\"], [0.2222222222222222, \"#7201a8\"], [0.3333333333333333, \"#9c179e\"], [0.4444444444444444, \"#bd3786\"], [0.5555555555555556, \"#d8576b\"], [0.6666666666666666, \"#ed7953\"], [0.7777777777777778, \"#fb9f3a\"], [0.8888888888888888, \"#fdca26\"], [1.0, \"#f0f921\"]], \"type\": \"contour\"}], \"contourcarpet\": [{\"colorbar\": {\"outlinewidth\": 0, \"ticks\": \"\"}, \"type\": \"contourcarpet\"}], \"heatmap\": [{\"colorbar\": {\"outlinewidth\": 0, \"ticks\": \"\"}, \"colorscale\": [[0.0, \"#0d0887\"], [0.1111111111111111, \"#46039f\"], [0.2222222222222222, \"#7201a8\"], [0.3333333333333333, \"#9c179e\"], [0.4444444444444444, \"#bd3786\"], [0.5555555555555556, \"#d8576b\"], [0.6666666666666666, \"#ed7953\"], [0.7777777777777778, \"#fb9f3a\"], [0.8888888888888888, \"#fdca26\"], [1.0, \"#f0f921\"]], \"type\": \"heatmap\"}], \"heatmapgl\": [{\"colorbar\": {\"outlinewidth\": 0, \"ticks\": \"\"}, \"colorscale\": [[0.0, \"#0d0887\"], [0.1111111111111111, \"#46039f\"], [0.2222222222222222, \"#7201a8\"], [0.3333333333333333, \"#9c179e\"], [0.4444444444444444, \"#bd3786\"], [0.5555555555555556, \"#d8576b\"], [0.6666666666666666, \"#ed7953\"], [0.7777777777777778, \"#fb9f3a\"], [0.8888888888888888, \"#fdca26\"], [1.0, \"#f0f921\"]], \"type\": \"heatmapgl\"}], \"histogram\": [{\"marker\": {\"colorbar\": {\"outlinewidth\": 0, \"ticks\": \"\"}}, \"type\": \"histogram\"}], \"histogram2d\": [{\"colorbar\": {\"outlinewidth\": 0, \"ticks\": \"\"}, \"colorscale\": [[0.0, \"#0d0887\"], [0.1111111111111111, \"#46039f\"], [0.2222222222222222, \"#7201a8\"], [0.3333333333333333, \"#9c179e\"], [0.4444444444444444, \"#bd3786\"], [0.5555555555555556, \"#d8576b\"], [0.6666666666666666, \"#ed7953\"], [0.7777777777777778, \"#fb9f3a\"], [0.8888888888888888, \"#fdca26\"], [1.0, \"#f0f921\"]], \"type\": \"histogram2d\"}], \"histogram2dcontour\": [{\"colorbar\": {\"outlinewidth\": 0, \"ticks\": \"\"}, \"colorscale\": [[0.0, \"#0d0887\"], [0.1111111111111111, \"#46039f\"], [0.2222222222222222, \"#7201a8\"], [0.3333333333333333, \"#9c179e\"], [0.4444444444444444, \"#bd3786\"], [0.5555555555555556, \"#d8576b\"], [0.6666666666666666, \"#ed7953\"], [0.7777777777777778, \"#fb9f3a\"], [0.8888888888888888, \"#fdca26\"], [1.0, \"#f0f921\"]], \"type\": \"histogram2dcontour\"}], \"mesh3d\": [{\"colorbar\": {\"outlinewidth\": 0, \"ticks\": \"\"}, \"type\": \"mesh3d\"}], \"parcoords\": [{\"line\": {\"colorbar\": {\"outlinewidth\": 0, \"ticks\": \"\"}}, \"type\": \"parcoords\"}], \"pie\": [{\"automargin\": true, \"type\": \"pie\"}], \"scatter\": [{\"marker\": {\"colorbar\": {\"outlinewidth\": 0, \"ticks\": \"\"}}, \"type\": \"scatter\"}], \"scatter3d\": [{\"line\": {\"colorbar\": {\"outlinewidth\": 0, \"ticks\": \"\"}}, \"marker\": {\"colorbar\": {\"outlinewidth\": 0, \"ticks\": \"\"}}, \"type\": \"scatter3d\"}], \"scattercarpet\": [{\"marker\": {\"colorbar\": {\"outlinewidth\": 0, \"ticks\": \"\"}}, \"type\": \"scattercarpet\"}], \"scattergeo\": [{\"marker\": {\"colorbar\": {\"outlinewidth\": 0, \"ticks\": \"\"}}, \"type\": \"scattergeo\"}], \"scattergl\": [{\"marker\": {\"colorbar\": {\"outlinewidth\": 0, \"ticks\": \"\"}}, \"type\": \"scattergl\"}], \"scattermapbox\": [{\"marker\": {\"colorbar\": {\"outlinewidth\": 0, \"ticks\": \"\"}}, \"type\": \"scattermapbox\"}], \"scatterpolar\": [{\"marker\": {\"colorbar\": {\"outlinewidth\": 0, \"ticks\": \"\"}}, \"type\": \"scatterpolar\"}], \"scatterpolargl\": [{\"marker\": {\"colorbar\": {\"outlinewidth\": 0, \"ticks\": \"\"}}, \"type\": \"scatterpolargl\"}], \"scatterternary\": [{\"marker\": {\"colorbar\": {\"outlinewidth\": 0, \"ticks\": \"\"}}, \"type\": \"scatterternary\"}], \"surface\": [{\"colorbar\": {\"outlinewidth\": 0, \"ticks\": \"\"}, \"colorscale\": [[0.0, \"#0d0887\"], [0.1111111111111111, \"#46039f\"], [0.2222222222222222, \"#7201a8\"], [0.3333333333333333, \"#9c179e\"], [0.4444444444444444, \"#bd3786\"], [0.5555555555555556, \"#d8576b\"], [0.6666666666666666, \"#ed7953\"], [0.7777777777777778, \"#fb9f3a\"], [0.8888888888888888, \"#fdca26\"], [1.0, \"#f0f921\"]], \"type\": \"surface\"}], \"table\": [{\"cells\": {\"fill\": {\"color\": \"#EBF0F8\"}, \"line\": {\"color\": \"white\"}}, \"header\": {\"fill\": {\"color\": \"#C8D4E3\"}, \"line\": {\"color\": \"white\"}}, \"type\": \"table\"}]}, \"layout\": {\"annotationdefaults\": {\"arrowcolor\": \"#2a3f5f\", \"arrowhead\": 0, \"arrowwidth\": 1}, \"coloraxis\": {\"colorbar\": {\"outlinewidth\": 0, \"ticks\": \"\"}}, \"colorscale\": {\"diverging\": [[0, \"#8e0152\"], [0.1, \"#c51b7d\"], [0.2, \"#de77ae\"], [0.3, \"#f1b6da\"], [0.4, \"#fde0ef\"], [0.5, \"#f7f7f7\"], [0.6, \"#e6f5d0\"], [0.7, \"#b8e186\"], [0.8, \"#7fbc41\"], [0.9, \"#4d9221\"], [1, \"#276419\"]], \"sequential\": [[0.0, \"#0d0887\"], [0.1111111111111111, \"#46039f\"], [0.2222222222222222, \"#7201a8\"], [0.3333333333333333, \"#9c179e\"], [0.4444444444444444, \"#bd3786\"], [0.5555555555555556, \"#d8576b\"], [0.6666666666666666, \"#ed7953\"], [0.7777777777777778, \"#fb9f3a\"], [0.8888888888888888, \"#fdca26\"], [1.0, \"#f0f921\"]], \"sequentialminus\": [[0.0, \"#0d0887\"], [0.1111111111111111, \"#46039f\"], [0.2222222222222222, \"#7201a8\"], [0.3333333333333333, \"#9c179e\"], [0.4444444444444444, \"#bd3786\"], [0.5555555555555556, \"#d8576b\"], [0.6666666666666666, \"#ed7953\"], [0.7777777777777778, \"#fb9f3a\"], [0.8888888888888888, \"#fdca26\"], [1.0, \"#f0f921\"]]}, \"colorway\": [\"#636efa\", \"#EF553B\", \"#00cc96\", \"#ab63fa\", \"#FFA15A\", \"#19d3f3\", \"#FF6692\", \"#B6E880\", \"#FF97FF\", \"#FECB52\"], \"font\": {\"color\": \"#2a3f5f\"}, \"geo\": {\"bgcolor\": \"white\", \"lakecolor\": \"white\", \"landcolor\": \"#E5ECF6\", \"showlakes\": true, \"showland\": true, \"subunitcolor\": \"white\"}, \"hoverlabel\": {\"align\": \"left\"}, \"hovermode\": \"closest\", \"mapbox\": {\"style\": \"light\"}, \"paper_bgcolor\": \"white\", \"plot_bgcolor\": \"#E5ECF6\", \"polar\": {\"angularaxis\": {\"gridcolor\": \"white\", \"linecolor\": \"white\", \"ticks\": \"\"}, \"bgcolor\": \"#E5ECF6\", \"radialaxis\": {\"gridcolor\": \"white\", \"linecolor\": \"white\", \"ticks\": \"\"}}, \"scene\": {\"xaxis\": {\"backgroundcolor\": \"#E5ECF6\", \"gridcolor\": \"white\", \"gridwidth\": 2, \"linecolor\": \"white\", \"showbackground\": true, \"ticks\": \"\", \"zerolinecolor\": \"white\"}, \"yaxis\": {\"backgroundcolor\": \"#E5ECF6\", \"gridcolor\": \"white\", \"gridwidth\": 2, \"linecolor\": \"white\", \"showbackground\": true, \"ticks\": \"\", \"zerolinecolor\": \"white\"}, \"zaxis\": {\"backgroundcolor\": \"#E5ECF6\", \"gridcolor\": \"white\", \"gridwidth\": 2, \"linecolor\": \"white\", \"showbackground\": true, \"ticks\": \"\", \"zerolinecolor\": \"white\"}}, \"shapedefaults\": {\"line\": {\"color\": \"#2a3f5f\"}}, \"ternary\": {\"aaxis\": {\"gridcolor\": \"white\", \"linecolor\": \"white\", \"ticks\": \"\"}, \"baxis\": {\"gridcolor\": \"white\", \"linecolor\": \"white\", \"ticks\": \"\"}, \"bgcolor\": \"#E5ECF6\", \"caxis\": {\"gridcolor\": \"white\", \"linecolor\": \"white\", \"ticks\": \"\"}}, \"title\": {\"x\": 0.05}, \"xaxis\": {\"automargin\": true, \"gridcolor\": \"white\", \"linecolor\": \"white\", \"ticks\": \"\", \"title\": {\"standoff\": 15}, \"zerolinecolor\": \"white\", \"zerolinewidth\": 2}, \"yaxis\": {\"automargin\": true, \"gridcolor\": \"white\", \"linecolor\": \"white\", \"ticks\": \"\", \"title\": {\"standoff\": 15}, \"zerolinecolor\": \"white\", \"zerolinewidth\": 2}}}, \"title\": {\"text\": \"Georgia vs Alabama Transmission Rates (Change in New Cases)\"}, \"updatemenus\": [{\"active\": 0, \"buttons\": [{\"args\": [{\"visible\": [true, true, false, false, false, false, false, false]}, {\"annotations\": [], \"title\": \"1 Day Moving Average\"}], \"label\": \"1 Day Moving Average\", \"method\": \"update\"}, {\"args\": [{\"visible\": [false, false, true, true, false, false, false, false]}, {\"annotations\": [], \"title\": \"7 Day Moving Average\"}], \"label\": \"7 Day Moving Average\", \"method\": \"update\"}, {\"args\": [{\"visible\": [false, false, false, false, true, true, false, false]}, {\"annotations\": [], \"title\": \"14 Day Moving Average\"}], \"label\": \"14 Day Moving Average\", \"method\": \"update\"}, {\"args\": [{\"visible\": [false, false, false, false, false, false, true, true]}, {\"annotations\": [], \"title\": \"30 Day Moving Average\"}], \"label\": \"30 Day Moving Average\", \"method\": \"update\"}]}], \"xaxis\": {\"ticktext\": [\"May 16th\", \"June 16th\", \"July 16th: Mandate Initiated\", \"August 16th\", \"September 16th\"], \"tickvals\": [\"2020-05-16\", \"2020-06-16\", \"2020-07-16\", \"2020-08-16\", \"2020-09-15\"]}},\n",
       "                        {\"responsive\": true}\n",
       "                    ).then(function(){\n",
       "                            \n",
       "var gd = document.getElementById('e3ea6dfb-cf0e-4ec1-80a3-07a805ad78ea');\n",
       "var x = new MutationObserver(function (mutations, observer) {{\n",
       "        var display = window.getComputedStyle(gd).display;\n",
       "        if (!display || display === 'none') {{\n",
       "            console.log([gd, 'removed!']);\n",
       "            Plotly.purge(gd);\n",
       "            observer.disconnect();\n",
       "        }}\n",
       "}});\n",
       "\n",
       "// Listen for the removal of the full notebook cells\n",
       "var notebookContainer = gd.closest('#notebook-container');\n",
       "if (notebookContainer) {{\n",
       "    x.observe(notebookContainer, {childList: true});\n",
       "}}\n",
       "\n",
       "// Listen for the clearing of the current output cell\n",
       "var outputEl = gd.closest('.output');\n",
       "if (outputEl) {{\n",
       "    x.observe(outputEl, {childList: true});\n",
       "}}\n",
       "\n",
       "                        })\n",
       "                };\n",
       "                });\n",
       "            </script>\n",
       "        </div>"
      ]
     },
     "metadata": {},
     "output_type": "display_data"
    }
   ],
   "source": [
    "import plotly.graph_objects as go\n",
    "import pandas as pd\n",
    "\n",
    "data_GA = agg_GA.groupby(\"week\").sum().rolling(1).mean()\n",
    "data_AL = agg_AL.groupby(\"date\").sum().rolling(1).mean()\n",
    "\n",
    "\n",
    "\n",
    "# Create figure and add line\n",
    "fig = go.Figure()\n",
    "\n",
    "\n",
    "rolling_means = [1,7,14,30]\n",
    "trace_view = np.array([False for _ in range(8)])\n",
    "\n",
    "buttons = []\n",
    "\n",
    "for i,rm in enumerate(rolling_means):\n",
    "    \n",
    "    data_GA = agg_GA.groupby(\"date\").sum().rolling(10).sum().rolling(rm).mean().diff()\n",
    "    data_AL = agg_AL.groupby(\"date\").sum().rolling(10).sum().rolling(rm).mean().diff()\n",
    "    \n",
    "    fig.add_trace(go.Scatter(\n",
    "        x=data_AL.index,\n",
    "        y=data_AL.cases,\n",
    "        mode=\"lines\",\n",
    "        name = \"Alabama (Mask Mandate)\"\n",
    "    ))\n",
    "\n",
    "    fig.add_trace(go.Scatter(\n",
    "        x=data_GA.index,\n",
    "        y=data_GA.cases,\n",
    "        mode=\"lines\",\n",
    "        name = \"Georgia (No Mask Mandate)\"\n",
    "    ))\n",
    "    \n",
    "    view = trace_view.copy()\n",
    "    view[i*2:i*2+2] = True\n",
    "    \n",
    "    buttons.append(dict(label=str(rm) + \" Day Moving Average\",\n",
    "         method=\"update\",\n",
    "         args=[{\"visible\": view},\n",
    "               {\"title\": str(rm) + \" Day Moving Average\",\n",
    "                \"annotations\": []}]) ) \n",
    "    \n",
    "fig.update_layout(\n",
    "    updatemenus=[\n",
    "        dict(\n",
    "            active=0,\n",
    "            buttons=buttons\n",
    "        )\n",
    "    ])\n",
    "\n",
    "\n",
    "# Set custom x-axis labels\n",
    "fig.update_xaxes(\n",
    "    ticktext=[\"May 16th\", \"June 16th\",\"July 16th: Mandate Initiated\", \"August 16th\", \"September 16th\"],\n",
    "    tickvals=[\"2020-05-16\",\"2020-06-16\", \"2020-07-16\", \"2020-08-16\", data_AL.index.max()],\n",
    ")\n",
    "\n",
    "# Set figure title\n",
    "fig.update_layout(title_text=\"Georgia vs Alabama Transmission Rates (Change in New Cases)\")\n",
    "\n",
    "fig.show()"
   ]
  },
  {
   "cell_type": "code",
   "execution_count": null,
   "metadata": {},
   "outputs": [],
   "source": []
  }
 ],
 "metadata": {
  "kernelspec": {
   "display_name": "Python 3",
   "language": "python",
   "name": "python3"
  },
  "language_info": {
   "codemirror_mode": {
    "name": "ipython",
    "version": 3
   },
   "file_extension": ".py",
   "mimetype": "text/x-python",
   "name": "python",
   "nbconvert_exporter": "python",
   "pygments_lexer": "ipython3",
   "version": "3.7.4"
  }
 },
 "nbformat": 4,
 "nbformat_minor": 2
}
